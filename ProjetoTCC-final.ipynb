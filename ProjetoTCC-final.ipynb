{
 "cells": [
  {
   "cell_type": "code",
   "execution_count": 1,
   "metadata": {},
   "outputs": [],
   "source": [
    "#*************************CÉLULAS DE IMPORTAÇÃO DE BIBLIOTECAS********************\n",
    "import pandas as pd\n",
    "import csv\n",
    "import ssl #para desabilitar a verificação de segurança SSL. \n",
    "#import os\n",
    "from pathlib import Path\n",
    "import matplotlib.pyplot as plt\n",
    "import numpy as np\n",
    "#import seaborn as sns\n",
    "\n",
    "import time\n",
    "# Definindo parâmetros de apresentação\n",
    "# Casas decimais \n",
    "pd.set_option(\"display.precision\", 0)\n",
    "# define apresentação de floats sem notação científica\n",
    "pd.set_option('float_format',lambda x: \"%.2f\" % x)"
   ]
  },
  {
   "cell_type": "code",
   "execution_count": 2,
   "metadata": {},
   "outputs": [],
   "source": [
    "#************************CÉLULA DE COLETA DE DADOS *****************************\n",
    "\n",
    "#Função para aquisição dos datasets\n",
    "def get_datasets(urls_Datasets):\n",
    "    \n",
    "    #Desabilita verificação SSL\n",
    "    ssl._create_default_https_context = ssl._create_unverified_context\n",
    "\n",
    "    for url, destino in urls_Datasets.items(): \n",
    "        \n",
    "        if not Path.exists(Path(destino)):\n",
    "            try:\n",
    "                df_temp = pd.read_csv(url, sep=';', encoding = 'cp1250')\n",
    "                df_temp.to_csv(destino, sep=';',encoding = 'cp1250', index=False)\n",
    "            except IOError:\n",
    "                print(\"Um problema ocorreu processando %s \", destino)\n",
    "                raise\n",
    "#Fim da função\n",
    "\n",
    "#Dicionário contendo as urls a serem acessadas e os arquivos de destino dos dados coletados\n",
    "urls_Datasets = {\n",
    "                 'https://balanca.economia.gov.br/balanca/bd/tabelas/PAIS.csv': 'Datasets/pais.csv',\n",
    "                 'https://balanca.economia.gov.br/balanca/bd/tabelas/UF.csv'  : 'Datasets/uf.csv',\n",
    "                 'https://balanca.economia.gov.br/balanca/bd/tabelas/NCM.csv' : 'Datasets/ncm.csv',\n",
    "                 'https://balanca.economia.gov.br/balanca/bd/comexstat-bd/ncmv2/IMP_2019_V2.csv':'Datasets/importacoes2019.csv',\n",
    "                 'https://balanca.economia.gov.br/balanca/bd/comexstat-bd/ncmv2/IMP_2020_V2.csv':'Datasets/importacoes2020.csv',\n",
    "                 'https://balanca.economia.gov.br/balanca/bd/comexstat-bd/ncmv2/IMP_2021_V2.csv':'Datasets/importacoes2021.csv'\n",
    "\n",
    "                }\n",
    "\n",
    "get_datasets(urls_Datasets)    "
   ]
  },
  {
   "cell_type": "code",
   "execution_count": 3,
   "metadata": {},
   "outputs": [],
   "source": [
    "#***********************Verifica a presença dos datasets e estatísticas dos dados coletados************************\n",
    "\n",
    "lista_tabelas = [\n",
    "              'pais.csv',\n",
    "              'uf.csv', \n",
    "              'ncm.csv',\n",
    "              'importacoes2019.csv',\n",
    "              'importacoes2020.csv',\n",
    "              'importacoes2021.csv'\n",
    "             ]\n",
    "\n",
    "#verifica se todos os datasets estão presentes\n",
    "for tabela in lista_tabelas:\n",
    "    if not Path.exists(Path('Datasets/'+tabela)):\n",
    "        print(\"Tabela \", tabela, \"não encontrada. O script será interrompido.\")\n",
    "        exit(keep_kernel=True)"
   ]
  },
  {
   "cell_type": "code",
   "execution_count": 4,
   "metadata": {},
   "outputs": [
    {
     "name": "stdout",
     "output_type": "stream",
     "text": [
      "<class 'pandas.core.frame.DataFrame'>\n",
      "RangeIndex: 281 entries, 0 to 280\n",
      "Data columns (total 2 columns):\n",
      " #   Column     Non-Null Count  Dtype \n",
      "---  ------     --------------  ----- \n",
      " 0   pais       281 non-null    int64 \n",
      " 1   nome_pais  281 non-null    object\n",
      "dtypes: int64(1), object(1)\n",
      "memory usage: 4.5+ KB\n"
     ]
    },
    {
     "data": {
      "text/html": [
       "<div>\n",
       "<style scoped>\n",
       "    .dataframe tbody tr th:only-of-type {\n",
       "        vertical-align: middle;\n",
       "    }\n",
       "\n",
       "    .dataframe tbody tr th {\n",
       "        vertical-align: top;\n",
       "    }\n",
       "\n",
       "    .dataframe thead th {\n",
       "        text-align: right;\n",
       "    }\n",
       "</style>\n",
       "<table border=\"1\" class=\"dataframe\">\n",
       "  <thead>\n",
       "    <tr style=\"text-align: right;\">\n",
       "      <th></th>\n",
       "      <th>pais</th>\n",
       "      <th>nome_pais</th>\n",
       "    </tr>\n",
       "  </thead>\n",
       "  <tbody>\n",
       "    <tr>\n",
       "      <th>0</th>\n",
       "      <td>0</td>\n",
       "      <td>Năo Definido</td>\n",
       "    </tr>\n",
       "    <tr>\n",
       "      <th>1</th>\n",
       "      <td>13</td>\n",
       "      <td>Afeganistăo</td>\n",
       "    </tr>\n",
       "    <tr>\n",
       "      <th>2</th>\n",
       "      <td>15</td>\n",
       "      <td>Aland, Ilhas</td>\n",
       "    </tr>\n",
       "    <tr>\n",
       "      <th>3</th>\n",
       "      <td>17</td>\n",
       "      <td>Albânia</td>\n",
       "    </tr>\n",
       "    <tr>\n",
       "      <th>4</th>\n",
       "      <td>20</td>\n",
       "      <td>Alboran-Perejil, Ilhas</td>\n",
       "    </tr>\n",
       "  </tbody>\n",
       "</table>\n",
       "</div>"
      ],
      "text/plain": [
       "   pais               nome_pais\n",
       "0     0            Năo Definido\n",
       "1    13             Afeganistăo\n",
       "2    15            Aland, Ilhas\n",
       "3    17                 Albânia\n",
       "4    20  Alboran-Perejil, Ilhas"
      ]
     },
     "execution_count": 4,
     "metadata": {},
     "output_type": "execute_result"
    }
   ],
   "source": [
    "#*************** Prepara informações sobre tabela de países*********************        \n",
    "df_pais = pd.read_csv('Datasets/pais.csv', sep=';', encoding='cp1250',\n",
    "                     usecols = ['CO_PAIS', 'NO_PAIS']\n",
    "                     )\n",
    "#Renomeia os nomes de colunas para maior clareza\n",
    "df_pais.rename(columns = {\"CO_PAIS\": \"pais\", \n",
    "                          \"NO_PAIS\": \"nome_pais\"\n",
    "                         }, inplace =True)\n",
    "df_pais.info()\n",
    "df_pais.head()"
   ]
  },
  {
   "cell_type": "code",
   "execution_count": 5,
   "metadata": {},
   "outputs": [
    {
     "name": "stdout",
     "output_type": "stream",
     "text": [
      "<class 'pandas.core.frame.DataFrame'>\n",
      "RangeIndex: 13123 entries, 0 to 13122\n",
      "Data columns (total 2 columns):\n",
      " #   Column     Non-Null Count  Dtype \n",
      "---  ------     --------------  ----- \n",
      " 0   ncm        13123 non-null  int64 \n",
      " 1   descricao  13123 non-null  object\n",
      "dtypes: int64(1), object(1)\n",
      "memory usage: 205.2+ KB\n"
     ]
    },
    {
     "data": {
      "text/html": [
       "<div>\n",
       "<style scoped>\n",
       "    .dataframe tbody tr th:only-of-type {\n",
       "        vertical-align: middle;\n",
       "    }\n",
       "\n",
       "    .dataframe tbody tr th {\n",
       "        vertical-align: top;\n",
       "    }\n",
       "\n",
       "    .dataframe thead th {\n",
       "        text-align: right;\n",
       "    }\n",
       "</style>\n",
       "<table border=\"1\" class=\"dataframe\">\n",
       "  <thead>\n",
       "    <tr style=\"text-align: right;\">\n",
       "      <th></th>\n",
       "      <th>ncm</th>\n",
       "      <th>descricao</th>\n",
       "    </tr>\n",
       "  </thead>\n",
       "  <tbody>\n",
       "    <tr>\n",
       "      <th>0</th>\n",
       "      <td>38085910</td>\n",
       "      <td>Outras mercadorias mencionadas na Nota de subp...</td>\n",
       "    </tr>\n",
       "    <tr>\n",
       "      <th>1</th>\n",
       "      <td>38085921</td>\n",
       "      <td>Mercadorias ŕ base de metamidofós (ISO) ou mon...</td>\n",
       "    </tr>\n",
       "    <tr>\n",
       "      <th>2</th>\n",
       "      <td>38085922</td>\n",
       "      <td>Mercadorias ŕ base de endossulfan (ISO), apres...</td>\n",
       "    </tr>\n",
       "    <tr>\n",
       "      <th>3</th>\n",
       "      <td>38085923</td>\n",
       "      <td>Mercadorias ŕ base de alaclor (ISO), apresenta...</td>\n",
       "    </tr>\n",
       "    <tr>\n",
       "      <th>4</th>\n",
       "      <td>38085929</td>\n",
       "      <td>Mercadorias ŕ base de outras substâncias, apre...</td>\n",
       "    </tr>\n",
       "  </tbody>\n",
       "</table>\n",
       "</div>"
      ],
      "text/plain": [
       "        ncm                                          descricao\n",
       "0  38085910  Outras mercadorias mencionadas na Nota de subp...\n",
       "1  38085921  Mercadorias ŕ base de metamidofós (ISO) ou mon...\n",
       "2  38085922  Mercadorias ŕ base de endossulfan (ISO), apres...\n",
       "3  38085923  Mercadorias ŕ base de alaclor (ISO), apresenta...\n",
       "4  38085929  Mercadorias ŕ base de outras substâncias, apre..."
      ]
     },
     "execution_count": 5,
     "metadata": {},
     "output_type": "execute_result"
    }
   ],
   "source": [
    "#*************** Prepara informações sobre tabela de NCM das mercadorias*********************        \n",
    "df_ncm = pd.read_csv('Datasets/ncm.csv', sep=';', encoding='cp1250',\n",
    "                     usecols = ['CO_NCM', 'NO_NCM_POR']\n",
    "                     )\n",
    "#Renomeia os nomes de colunas para maior clareza\n",
    "df_ncm.rename(columns = {\"CO_NCM\": \"ncm\", \n",
    "                          \"NO_NCM_POR\": \"descricao\" \n",
    "                         }, inplace =True)\n",
    "df_ncm.info()\n",
    "df_ncm.head()"
   ]
  },
  {
   "cell_type": "code",
   "execution_count": 6,
   "metadata": {},
   "outputs": [
    {
     "name": "stdout",
     "output_type": "stream",
     "text": [
      "<class 'pandas.core.frame.DataFrame'>\n",
      "RangeIndex: 986532 entries, 0 to 986531\n",
      "Data columns (total 13 columns):\n",
      " #   Column      Non-Null Count   Dtype \n",
      "---  ------      --------------   ----- \n",
      " 0   CO_ANO      986532 non-null  int64 \n",
      " 1   CO_MES      986532 non-null  int64 \n",
      " 2   CO_NCM      986532 non-null  int64 \n",
      " 3   CO_UNID     986532 non-null  int64 \n",
      " 4   CO_PAIS     986532 non-null  int64 \n",
      " 5   SG_UF_NCM   986532 non-null  object\n",
      " 6   CO_VIA      986532 non-null  int64 \n",
      " 7   CO_URF      986532 non-null  int64 \n",
      " 8   QT_ESTAT    986532 non-null  int64 \n",
      " 9   KG_LIQUIDO  986532 non-null  int64 \n",
      " 10  VL_FOB      986532 non-null  int64 \n",
      " 11  VL_FRETE    986532 non-null  int64 \n",
      " 12  VL_SEGURO   986532 non-null  int64 \n",
      "dtypes: int64(12), object(1)\n",
      "memory usage: 97.8+ MB\n"
     ]
    }
   ],
   "source": [
    "#***********Lendo as informações do dataset de importações dos anos 2019 a jun/2021***********\n",
    "\n",
    "#Por haver muitas colunas que não serão utilizadas, faremos a exclusão das desnecessárias posteriormente\n",
    "df_imp2019 = pd.read_csv('Datasets/importacoes2019.csv', sep=';', encoding='cp1250')\n",
    "\n",
    "df_imp2020 = pd.read_csv('Datasets/importacoes2020.csv', sep=';', encoding='cp1250')\n",
    "\n",
    "df_imp2021 = pd.read_csv('Datasets/importacoes2021.csv', sep=';', encoding='cp1250')\n",
    "\n",
    "df_imp2021.info()\n"
   ]
  },
  {
   "cell_type": "code",
   "execution_count": 7,
   "metadata": {},
   "outputs": [
    {
     "name": "stdout",
     "output_type": "stream",
     "text": [
      "<class 'pandas.core.frame.DataFrame'>\n",
      "RangeIndex: 4703344 entries, 0 to 4703343\n",
      "Data columns (total 13 columns):\n",
      " #   Column      Dtype \n",
      "---  ------      ----- \n",
      " 0   CO_ANO      int64 \n",
      " 1   CO_MES      int64 \n",
      " 2   CO_NCM      int64 \n",
      " 3   CO_UNID     int64 \n",
      " 4   CO_PAIS     int64 \n",
      " 5   SG_UF_NCM   object\n",
      " 6   CO_VIA      int64 \n",
      " 7   CO_URF      int64 \n",
      " 8   QT_ESTAT    int64 \n",
      " 9   KG_LIQUIDO  int64 \n",
      " 10  VL_FOB      int64 \n",
      " 11  VL_FRETE    int64 \n",
      " 12  VL_SEGURO   int64 \n",
      "dtypes: int64(12), object(1)\n",
      "memory usage: 466.5+ MB\n"
     ]
    }
   ],
   "source": [
    "#**************Pelo fato de a estrutura das tabelas serem idênticas, concatenaremos os datasets\n",
    "df_importacoes = pd.concat([df_imp2019, df_imp2020,df_imp2021])\n",
    "\n",
    "#Limpando registros nulos, caso existam\n",
    "df_importacoes.dropna(inplace=True)  \n",
    "\n",
    "#Reorganização os índices\n",
    "df_importacoes.reset_index(drop=True, inplace=True) \n",
    "df_importacoes.shape\n",
    "\n",
    "df_importacoes.info()"
   ]
  },
  {
   "cell_type": "code",
   "execution_count": 8,
   "metadata": {},
   "outputs": [
    {
     "name": "stdout",
     "output_type": "stream",
     "text": [
      "<class 'pandas.core.frame.DataFrame'>\n",
      "RangeIndex: 4703344 entries, 0 to 4703343\n",
      "Data columns (total 8 columns):\n",
      " #   Column      Dtype  \n",
      "---  ------      -----  \n",
      " 0   CO_ANO      int64  \n",
      " 1   CO_MES      int64  \n",
      " 2   CO_NCM      int64  \n",
      " 3   CO_PAIS     int64  \n",
      " 4   SG_UF_NCM   object \n",
      " 5   QT_ESTAT    int64  \n",
      " 6   KG_LIQUIDO  float64\n",
      " 7   VL_FOB      float64\n",
      "dtypes: float64(2), int64(5), object(1)\n",
      "memory usage: 287.1+ MB\n"
     ]
    },
    {
     "data": {
      "text/html": [
       "<div>\n",
       "<style scoped>\n",
       "    .dataframe tbody tr th:only-of-type {\n",
       "        vertical-align: middle;\n",
       "    }\n",
       "\n",
       "    .dataframe tbody tr th {\n",
       "        vertical-align: top;\n",
       "    }\n",
       "\n",
       "    .dataframe thead th {\n",
       "        text-align: right;\n",
       "    }\n",
       "</style>\n",
       "<table border=\"1\" class=\"dataframe\">\n",
       "  <thead>\n",
       "    <tr style=\"text-align: right;\">\n",
       "      <th></th>\n",
       "      <th>CO_ANO</th>\n",
       "      <th>CO_MES</th>\n",
       "      <th>CO_NCM</th>\n",
       "      <th>CO_PAIS</th>\n",
       "      <th>SG_UF_NCM</th>\n",
       "      <th>QT_ESTAT</th>\n",
       "      <th>KG_LIQUIDO</th>\n",
       "      <th>VL_FOB</th>\n",
       "    </tr>\n",
       "  </thead>\n",
       "  <tbody>\n",
       "    <tr>\n",
       "      <th>4703339</th>\n",
       "      <td>2021</td>\n",
       "      <td>6</td>\n",
       "      <td>73269090</td>\n",
       "      <td>232</td>\n",
       "      <td>PE</td>\n",
       "      <td>1</td>\n",
       "      <td>1.00</td>\n",
       "      <td>1161.00</td>\n",
       "    </tr>\n",
       "    <tr>\n",
       "      <th>4703340</th>\n",
       "      <td>2021</td>\n",
       "      <td>5</td>\n",
       "      <td>84842000</td>\n",
       "      <td>23</td>\n",
       "      <td>MG</td>\n",
       "      <td>2</td>\n",
       "      <td>2.00</td>\n",
       "      <td>1826.00</td>\n",
       "    </tr>\n",
       "    <tr>\n",
       "      <th>4703341</th>\n",
       "      <td>2021</td>\n",
       "      <td>1</td>\n",
       "      <td>39269090</td>\n",
       "      <td>628</td>\n",
       "      <td>SC</td>\n",
       "      <td>26</td>\n",
       "      <td>26.00</td>\n",
       "      <td>1724.00</td>\n",
       "    </tr>\n",
       "    <tr>\n",
       "      <th>4703342</th>\n",
       "      <td>2021</td>\n",
       "      <td>2</td>\n",
       "      <td>40093100</td>\n",
       "      <td>827</td>\n",
       "      <td>PR</td>\n",
       "      <td>14</td>\n",
       "      <td>14.00</td>\n",
       "      <td>573.00</td>\n",
       "    </tr>\n",
       "    <tr>\n",
       "      <th>4703343</th>\n",
       "      <td>2021</td>\n",
       "      <td>5</td>\n",
       "      <td>85122021</td>\n",
       "      <td>249</td>\n",
       "      <td>RS</td>\n",
       "      <td>133</td>\n",
       "      <td>5.00</td>\n",
       "      <td>580.00</td>\n",
       "    </tr>\n",
       "  </tbody>\n",
       "</table>\n",
       "</div>"
      ],
      "text/plain": [
       "         CO_ANO  CO_MES    CO_NCM  CO_PAIS SG_UF_NCM  QT_ESTAT  KG_LIQUIDO  \\\n",
       "4703339    2021       6  73269090      232        PE         1        1.00   \n",
       "4703340    2021       5  84842000       23        MG         2        2.00   \n",
       "4703341    2021       1  39269090      628        SC        26       26.00   \n",
       "4703342    2021       2  40093100      827        PR        14       14.00   \n",
       "4703343    2021       5  85122021      249        RS       133        5.00   \n",
       "\n",
       "         VL_FOB  \n",
       "4703339 1161.00  \n",
       "4703340 1826.00  \n",
       "4703341 1724.00  \n",
       "4703342  573.00  \n",
       "4703343  580.00  "
      ]
     },
     "execution_count": 8,
     "metadata": {},
     "output_type": "execute_result"
    }
   ],
   "source": [
    "#***************Excluindo colunas não usadas do dataframe de importações\n",
    "#Antes de excluir,verifica se existem\n",
    "if set(['CO_UNID', 'CO_URF','CO_VIA', 'VL_FRETE', 'VL_SEGURO']).issubset(df_importacoes.columns):\n",
    "    df_importacoes.drop(['CO_UNID', 'CO_URF','CO_VIA', 'VL_FRETE', 'VL_SEGURO'], axis=1, inplace=True)\n",
    "    \n",
    "#Convertando valores KG_LIQUIDO e VL_FOB para float\n",
    "df_importacoes['VL_FOB'] = df_importacoes['VL_FOB'].astype(float)\n",
    "df_importacoes['KG_LIQUIDO'] = df_importacoes['KG_LIQUIDO'].astype(float)\n",
    "df_importacoes.info()\n",
    "df_importacoes.tail()"
   ]
  },
  {
   "cell_type": "code",
   "execution_count": 9,
   "metadata": {},
   "outputs": [
    {
     "name": "stdout",
     "output_type": "stream",
     "text": [
      "<class 'pandas.core.frame.DataFrame'>\n",
      "RangeIndex: 4703344 entries, 0 to 4703343\n",
      "Data columns (total 8 columns):\n",
      " #   Column      Dtype  \n",
      "---  ------      -----  \n",
      " 0   ano         int64  \n",
      " 1   mes         int64  \n",
      " 2   ncm         int64  \n",
      " 3   pais        int64  \n",
      " 4   uf          object \n",
      " 5   quantidade  int64  \n",
      " 6   peso        float64\n",
      " 7   valor       float64\n",
      "dtypes: float64(2), int64(5), object(1)\n",
      "memory usage: 287.1+ MB\n"
     ]
    }
   ],
   "source": [
    "#Renomeia os nomes de colunas para maior clareza\n",
    "df_importacoes.rename(columns = {\n",
    "    \"CO_ANO\"    : \"ano\",\n",
    "    \"CO_NCM\"    : \"ncm\", \n",
    "    \"CO_MES\"    : \"mes\",\n",
    "    \"CO_PAIS\"   : \"pais\",\n",
    "    \"SG_UF_NCM\" : \"uf\",\n",
    "    \"QT_ESTAT\"  : \"quantidade\",\n",
    "    \"KG_LIQUIDO\": \"peso\",\n",
    "    \"VL_FOB\"    : \"valor\"\n",
    "     }, inplace =True)\n",
    "df_importacoes.info()"
   ]
  },
  {
   "cell_type": "code",
   "execution_count": 10,
   "metadata": {},
   "outputs": [],
   "source": [
    "#******************************Deletando valores zerados para quantidade e VL_FOB \n",
    "df_importacoes.drop(df_importacoes.index[df_importacoes['quantidade'] == 0], inplace=True)\n",
    "df_importacoes.drop(df_importacoes.index[df_importacoes['valor'] == 0], inplace=True)"
   ]
  },
  {
   "cell_type": "code",
   "execution_count": 121,
   "metadata": {},
   "outputs": [
    {
     "data": {
      "text/plain": [
       "<AxesSubplot:>"
      ]
     },
     "execution_count": 121,
     "metadata": {},
     "output_type": "execute_result"
    },
    {
     "data": {
      "text/plain": [
       "<Figure size 432x288 with 0 Axes>"
      ]
     },
     "metadata": {},
     "output_type": "display_data"
    },
    {
     "data": {
      "image/png": "[encoded data removed]",
      "text/plain": [
       "<Figure size 720x288 with 1 Axes>"
      ]
     },
     "metadata": {
      "needs_background": "light"
     },
     "output_type": "display_data"
    }
   ],
   "source": [
    "#***************************Verificando a possível existência de outliers de valor e quantidade com boxplots\n",
    "plt.clf()\n",
    "df_importacoes.groupby(['ano','mes'])[['valor','quantidade']].agg(['sum']) \\\n",
    "                        .plot.box(subplots=False, figsize=(10,4), logy=True, sharex = False, sharey = False)"
   ]
  },
  {
   "cell_type": "code",
   "execution_count": 12,
   "metadata": {},
   "outputs": [
    {
     "data": {
      "text/plain": [
       "array([<AxesSubplot:xlabel='valor', ylabel='quantidade'>], dtype=object)"
      ]
     },
     "execution_count": 12,
     "metadata": {},
     "output_type": "execute_result"
    },
    {
     "data": {
      "text/plain": [
       "<Figure size 432x288 with 0 Axes>"
      ]
     },
     "metadata": {},
     "output_type": "display_data"
    },
    {
     "data": {
      "image/png": "[encoded data removed]",
      "text/plain": [
       "<Figure size 720x288 with 1 Axes>"
      ]
     },
     "metadata": {
      "needs_background": "light"
     },
     "output_type": "display_data"
    }
   ],
   "source": [
    "plt.clf()\n",
    "#Verificando a possível existência de outliers com gráfico scatter\n",
    "ncm = df_importacoes.groupby(['ano','mes'])[['valor','quantidade']].agg(['sum'])\n",
    "ncm.plot(x='valor', y='quantidade', subplots=True, kind='scatter', loglog=True, figsize = (10,4))"
   ]
  },
  {
   "cell_type": "code",
   "execution_count": 13,
   "metadata": {},
   "outputs": [
    {
     "data": {
      "text/plain": [
       "array([<AxesSubplot:title={'center':'(valor, sum)'}, xlabel='ano,mes'>,\n",
       "       <AxesSubplot:title={'center':'(quantidade, sum)'}, xlabel='ano,mes'>],\n",
       "      dtype=object)"
      ]
     },
     "execution_count": 13,
     "metadata": {},
     "output_type": "execute_result"
    },
    {
     "data": {
      "image/png": "[encoded data removed]",
      "text/plain": [
       "<Figure size 864x360 with 2 Axes>"
      ]
     },
     "metadata": {
      "needs_background": "light"
     },
     "output_type": "display_data"
    }
   ],
   "source": [
    "#******************** Verificando a evolução mensal das operações ********\n",
    "evolucao = df_importacoes.groupby(['ano','mes'])[['valor', 'quantidade']].agg(['sum'])\n",
    "evolucao.plot(subplots=True,kind='bar',figsize=(12,5), sharex = True, sharey = True, logy = True)"
   ]
  },
  {
   "cell_type": "code",
   "execution_count": 14,
   "metadata": {},
   "outputs": [
    {
     "data": {
      "text/plain": [
       "array([<AxesSubplot:xlabel='ano,mes'>, <AxesSubplot:xlabel='ano,mes'>],\n",
       "      dtype=object)"
      ]
     },
     "execution_count": 14,
     "metadata": {},
     "output_type": "execute_result"
    },
    {
     "data": {
      "image/png": "[encoded data removed]",
      "text/plain": [
       "<Figure size 1080x432 with 2 Axes>"
      ]
     },
     "metadata": {
      "needs_background": "light"
     },
     "output_type": "display_data"
    }
   ],
   "source": [
    "#******************** Verificando a evolução mensal das operações pela média ********\n",
    "\n",
    "evolucao = df_importacoes.groupby(['ano','mes'])[['valor', 'quantidade']]\n",
    "evolucao.agg(['mean']).plot(subplots=True,kind='line',figsize=(15,6), logy = True, sharex = True, sharey = True)"
   ]
  },
  {
   "cell_type": "code",
   "execution_count": 15,
   "metadata": {},
   "outputs": [],
   "source": [
    "#Formata o label do gráfico\n",
    "def lab(val, soma):\n",
    "    absol = int(round(val/100.*soma)/1000000000)\n",
    "    return \"{:.1f}%\\n(US${:d} Bi)\".format(val, absol)\n",
    "    \n",
    "#Desenha o gráfico de pizza\n",
    "def plota_pais(df):\n",
    "    plt.clf()\n",
    "    ano = df.iloc[1,0] # pega o ano referente ao dataset\n",
    "    soma = df.valor.agg('sum')\n",
    "    df = df.groupby('pais').valor.agg(['sum']).nlargest(5,'sum')\n",
    "\n",
    "# 2. Nomes dos países maiores\n",
    "    paises = df.merge(df_pais, on = 'pais', how = 'left')\n",
    "    labels = [\"%s\" % i for i in paises.nome_pais]\n",
    "\n",
    "# 3 Plota    \n",
    "    df.plot.pie(title = 'Maiores exportadores - ' + str(ano),\n",
    "              figsize = (6,6),fontsize = 10, subplots = True, legend = False, labels = labels,\n",
    "                        ylabel = '', normalize = True,\n",
    "                        autopct = lambda val: lab(val, soma)   )"
   ]
  },
  {
   "cell_type": "code",
   "execution_count": null,
   "metadata": {
    "scrolled": true
   },
   "outputs": [],
   "source": [
    "#********************Verificando maiores exportadores em valor em 2019*********************\n",
    "\n",
    "# 1. Definir maiores\n",
    "df19 = df_importacoes[df_importacoes['ano'] == 2019]\n",
    "plota_pais(df19)"
   ]
  },
  {
   "cell_type": "code",
   "execution_count": null,
   "metadata": {},
   "outputs": [],
   "source": []
  },
  {
   "cell_type": "code",
   "execution_count": null,
   "metadata": {
    "scrolled": true
   },
   "outputs": [],
   "source": [
    "#********************Verificando maiores exportadores em valor em 2020*********************\n",
    "\n",
    "# 1. Definir maiores\n",
    "df20 = df_importacoes[df_importacoes['ano'] == 2020]\n",
    "#plota_pais(df20)"
   ]
  },
  {
   "cell_type": "code",
   "execution_count": 16,
   "metadata": {
    "scrolled": true
   },
   "outputs": [],
   "source": [
    "#********************Verificando maiores exportadores em valor em 2021*********************\n",
    "\n",
    "# 1. Definir maiores\n",
    "df21 = df_importacoes[df_importacoes['ano'] == 2021]\n",
    "#plota_pais(df21)"
   ]
  },
  {
   "cell_type": "code",
   "execution_count": null,
   "metadata": {},
   "outputs": [],
   "source": []
  },
  {
   "cell_type": "code",
   "execution_count": 17,
   "metadata": {},
   "outputs": [],
   "source": [
    "from matplotlib.ticker import StrMethodFormatter\n",
    "\n",
    "def plota_ncm(df, color):\n",
    "    ano = df.iloc[1,0] # pega o ano referente ao dataset\n",
    "\n",
    "    # 2. Descrição das NCMs    \n",
    "    df = df.groupby('ncm').quantidade.agg(['sum']).nlargest(5,'sum')\n",
    "\n",
    "    ncms = df.merge(df_ncm, on = 'ncm', how = 'left')\n",
    "    legend = [\"%s\" % i for i in ncms.descricao]\n",
    " \n",
    "    ax = df.plot(title = 'Mercadorias mais negociadas - '+ str(ano),\n",
    "                 kind='barh', figsize=(15, 4), \n",
    "                 color = color, zorder=2, width=0.70, legend = False\n",
    "                 )\n",
    "\n",
    "    # Despine\n",
    "    ax.spines['right'].set_visible(False)\n",
    "    ax.spines['top'].set_visible(False)\n",
    "    ax.spines['left'].set_visible(False)\n",
    "    ax.spines['bottom'].set_visible(False)\n",
    "\n",
    "    # Switch off ticks\n",
    "    ax.tick_params(axis=\"both\", which=\"both\", bottom=\"off\", top=\"off\", labelbottom=\"on\", left=\"off\", right=\"off\", labelleft=\"on\")\n",
    "    \n",
    "    # Draw vertical axis lines\n",
    "    vals = ax.get_xticks()\n",
    "    for tick in vals:\n",
    "        ax.axvline(x=tick, linestyle='dashed', alpha=0.4, color='#eeeeee', zorder=1)\n",
    "\n",
    "    # Set x-axis label\n",
    "    ax.set_xlabel(\"Quantidade por mil toneladas\", labelpad=20, weight='bold', size=12)\n",
    "\n",
    "    # Set y-axis label\n",
    "    ax.set_ylabel(\"NCMs\", labelpad=20, weight='bold', size=12)\n",
    "\n",
    "    # Format y-axis label\n",
    "    ax.xaxis.set_major_formatter(lambda x, pos: str(x/1000000))"
   ]
  },
  {
   "cell_type": "code",
   "execution_count": null,
   "metadata": {},
   "outputs": [],
   "source": [
    "#********************8Plota mercardorias mais negociadas 2019*********\n",
    "plota_ncm(df19, 'y')\n"
   ]
  },
  {
   "cell_type": "code",
   "execution_count": null,
   "metadata": {},
   "outputs": [],
   "source": [
    "#********************8Plota mercardorias mais negociadas 2020*********\n",
    "plota_ncm(df20, 'c')\n"
   ]
  },
  {
   "cell_type": "code",
   "execution_count": null,
   "metadata": {},
   "outputs": [],
   "source": [
    "#********************8Plota mercardorias mais negociadas 2021*********\n",
    "plota_ncm(df21, 'g')\n"
   ]
  },
  {
   "cell_type": "code",
   "execution_count": null,
   "metadata": {},
   "outputs": [],
   "source": []
  },
  {
   "cell_type": "code",
   "execution_count": null,
   "metadata": {},
   "outputs": [],
   "source": [
    "\n",
    "# 2. Nomes dos países maiores\n",
    "dfwc = df20.merge(df_pais, on = 'pais', how = 'left')\n"
   ]
  },
  {
   "cell_type": "code",
   "execution_count": null,
   "metadata": {},
   "outputs": [],
   "source": [
    "#Países com quem mais se fez operações de importações. \n",
    "from wordcloud import WordCloud \n",
    "wc = WordCloud(background_color=\"gray\", max_words=100,\n",
    "               max_font_size=256,\n",
    "               random_state=42, width=1500, height=1500)\n",
    "wc.generate(' '.join(dfwc.nome_pais))\n",
    "plt.imshow(wc)\n",
    "plt.axis('off')\n",
    "plt.show()"
   ]
  },
  {
   "cell_type": "code",
   "execution_count": 18,
   "metadata": {},
   "outputs": [
    {
     "name": "stdout",
     "output_type": "stream",
     "text": [
      "<class 'pandas.core.frame.DataFrame'>\n",
      "Int64Index: 917447 entries, 3716812 to 4703343\n",
      "Data columns (total 8 columns):\n",
      " #   Column      Non-Null Count   Dtype  \n",
      "---  ------      --------------   -----  \n",
      " 0   ano         917447 non-null  int64  \n",
      " 1   mes         917447 non-null  int64  \n",
      " 2   ncm         917447 non-null  int64  \n",
      " 3   pais        917447 non-null  int64  \n",
      " 4   uf          917447 non-null  object \n",
      " 5   quantidade  917447 non-null  int64  \n",
      " 6   peso        917447 non-null  float64\n",
      " 7   valor       917447 non-null  float64\n",
      "dtypes: float64(2), int64(5), object(1)\n",
      "memory usage: 63.0+ MB\n"
     ]
    }
   ],
   "source": [
    "import statsmodels.api as sm\n",
    "from sklearn.model_selection import train_test_split\n",
    "import seaborn as sns\n",
    "from statsmodels.stats.outliers_influence import variance_inflation_factor\n",
    "\n",
    "%matplotlib inline\n",
    "df21.info()"
   ]
  },
  {
   "cell_type": "code",
   "execution_count": 105,
   "metadata": {},
   "outputs": [
    {
     "data": {
      "text/plain": [
       "quantidade       AxesSubplot(0.125,0.125;0.227941x0.755)\n",
       "peso          AxesSubplot(0.398529,0.125;0.227941x0.755)\n",
       "valor         AxesSubplot(0.672059,0.125;0.227941x0.755)\n",
       "dtype: object"
      ]
     },
     "execution_count": 105,
     "metadata": {},
     "output_type": "execute_result"
    },
    {
     "data": {
      "text/plain": [
       "<Figure size 432x288 with 0 Axes>"
      ]
     },
     "metadata": {},
     "output_type": "display_data"
    },
    {
     "data": {
      "image/png": "[encoded data removed]",
      "text/plain": [
       "<Figure size 1152x216 with 3 Axes>"
      ]
     },
     "metadata": {
      "needs_background": "light"
     },
     "output_type": "display_data"
    }
   ],
   "source": [
    "#Detecting outliers :\n",
    "plt.clf()\n",
    "dfp = df21.drop(['ano', 'mes','ncm','pais'], axis=1)\n",
    "dfp.plot.box(subplots = True, loglog = True, figsize = (16,3),vert=False)\n"
   ]
  },
  {
   "cell_type": "code",
   "execution_count": 110,
   "metadata": {},
   "outputs": [
    {
     "data": {
      "text/html": [
       "<div>\n",
       "<style scoped>\n",
       "    .dataframe tbody tr th:only-of-type {\n",
       "        vertical-align: middle;\n",
       "    }\n",
       "\n",
       "    .dataframe tbody tr th {\n",
       "        vertical-align: top;\n",
       "    }\n",
       "\n",
       "    .dataframe thead th {\n",
       "        text-align: right;\n",
       "    }\n",
       "</style>\n",
       "<table border=\"1\" class=\"dataframe\">\n",
       "  <thead>\n",
       "    <tr style=\"text-align: right;\">\n",
       "      <th></th>\n",
       "      <th>ano</th>\n",
       "      <th>mes</th>\n",
       "      <th>ncm</th>\n",
       "      <th>pais</th>\n",
       "      <th>uf</th>\n",
       "      <th>quantidade</th>\n",
       "      <th>peso</th>\n",
       "      <th>valor</th>\n",
       "    </tr>\n",
       "  </thead>\n",
       "  <tbody>\n",
       "    <tr>\n",
       "      <th>3716812</th>\n",
       "      <td>2021</td>\n",
       "      <td>3</td>\n",
       "      <td>90319090</td>\n",
       "      <td>23</td>\n",
       "      <td>PR</td>\n",
       "      <td>45</td>\n",
       "      <td>45.00</td>\n",
       "      <td>47011.00</td>\n",
       "    </tr>\n",
       "    <tr>\n",
       "      <th>3716813</th>\n",
       "      <td>2021</td>\n",
       "      <td>2</td>\n",
       "      <td>90322000</td>\n",
       "      <td>493</td>\n",
       "      <td>PR</td>\n",
       "      <td>51</td>\n",
       "      <td>5.00</td>\n",
       "      <td>535.00</td>\n",
       "    </tr>\n",
       "    <tr>\n",
       "      <th>3716814</th>\n",
       "      <td>2021</td>\n",
       "      <td>4</td>\n",
       "      <td>29225011</td>\n",
       "      <td>361</td>\n",
       "      <td>GO</td>\n",
       "      <td>1</td>\n",
       "      <td>1.00</td>\n",
       "      <td>124.00</td>\n",
       "    </tr>\n",
       "    <tr>\n",
       "      <th>3716815</th>\n",
       "      <td>2021</td>\n",
       "      <td>2</td>\n",
       "      <td>82100090</td>\n",
       "      <td>160</td>\n",
       "      <td>AL</td>\n",
       "      <td>1096</td>\n",
       "      <td>1096.00</td>\n",
       "      <td>2306.00</td>\n",
       "    </tr>\n",
       "    <tr>\n",
       "      <th>3716816</th>\n",
       "      <td>2021</td>\n",
       "      <td>6</td>\n",
       "      <td>32099019</td>\n",
       "      <td>399</td>\n",
       "      <td>RJ</td>\n",
       "      <td>920</td>\n",
       "      <td>920.00</td>\n",
       "      <td>25699.00</td>\n",
       "    </tr>\n",
       "    <tr>\n",
       "      <th>...</th>\n",
       "      <td>...</td>\n",
       "      <td>...</td>\n",
       "      <td>...</td>\n",
       "      <td>...</td>\n",
       "      <td>...</td>\n",
       "      <td>...</td>\n",
       "      <td>...</td>\n",
       "      <td>...</td>\n",
       "    </tr>\n",
       "    <tr>\n",
       "      <th>4703339</th>\n",
       "      <td>2021</td>\n",
       "      <td>6</td>\n",
       "      <td>73269090</td>\n",
       "      <td>232</td>\n",
       "      <td>PE</td>\n",
       "      <td>1</td>\n",
       "      <td>1.00</td>\n",
       "      <td>1161.00</td>\n",
       "    </tr>\n",
       "    <tr>\n",
       "      <th>4703340</th>\n",
       "      <td>2021</td>\n",
       "      <td>5</td>\n",
       "      <td>84842000</td>\n",
       "      <td>23</td>\n",
       "      <td>MG</td>\n",
       "      <td>2</td>\n",
       "      <td>2.00</td>\n",
       "      <td>1826.00</td>\n",
       "    </tr>\n",
       "    <tr>\n",
       "      <th>4703341</th>\n",
       "      <td>2021</td>\n",
       "      <td>1</td>\n",
       "      <td>39269090</td>\n",
       "      <td>628</td>\n",
       "      <td>SC</td>\n",
       "      <td>26</td>\n",
       "      <td>26.00</td>\n",
       "      <td>1724.00</td>\n",
       "    </tr>\n",
       "    <tr>\n",
       "      <th>4703342</th>\n",
       "      <td>2021</td>\n",
       "      <td>2</td>\n",
       "      <td>40093100</td>\n",
       "      <td>827</td>\n",
       "      <td>PR</td>\n",
       "      <td>14</td>\n",
       "      <td>14.00</td>\n",
       "      <td>573.00</td>\n",
       "    </tr>\n",
       "    <tr>\n",
       "      <th>4703343</th>\n",
       "      <td>2021</td>\n",
       "      <td>5</td>\n",
       "      <td>85122021</td>\n",
       "      <td>249</td>\n",
       "      <td>RS</td>\n",
       "      <td>133</td>\n",
       "      <td>5.00</td>\n",
       "      <td>580.00</td>\n",
       "    </tr>\n",
       "  </tbody>\n",
       "</table>\n",
       "<p>716210 rows × 8 columns</p>\n",
       "</div>"
      ],
      "text/plain": [
       "          ano  mes       ncm  pais  uf  quantidade    peso    valor\n",
       "3716812  2021    3  90319090    23  PR          45   45.00 47011.00\n",
       "3716813  2021    2  90322000   493  PR          51    5.00   535.00\n",
       "3716814  2021    4  29225011   361  GO           1    1.00   124.00\n",
       "3716815  2021    2  82100090   160  AL        1096 1096.00  2306.00\n",
       "3716816  2021    6  32099019   399  RJ         920  920.00 25699.00\n",
       "...       ...  ...       ...   ...  ..         ...     ...      ...\n",
       "4703339  2021    6  73269090   232  PE           1    1.00  1161.00\n",
       "4703340  2021    5  84842000    23  MG           2    2.00  1826.00\n",
       "4703341  2021    1  39269090   628  SC          26   26.00  1724.00\n",
       "4703342  2021    2  40093100   827  PR          14   14.00   573.00\n",
       "4703343  2021    5  85122021   249  RS         133    5.00   580.00\n",
       "\n",
       "[716210 rows x 8 columns]"
      ]
     },
     "execution_count": 110,
     "metadata": {},
     "output_type": "execute_result"
    }
   ],
   "source": [
    "#*********************************Limpando de possíveis outliers******************************************\n",
    "df21c = df21[(df21['quantidade'] < 10000)]\n",
    "df21c = df21c[(df21c['peso'] < 10000)]\n",
    "df21c = df21c[(df21c['valor'] < 100000)]\n",
    "df21c"
   ]
  },
  {
   "cell_type": "code",
   "execution_count": 119,
   "metadata": {},
   "outputs": [
    {
     "data": {
      "text/plain": [
       "quantidade       AxesSubplot(0.125,0.125;0.227941x0.755)\n",
       "peso          AxesSubplot(0.398529,0.125;0.227941x0.755)\n",
       "valor         AxesSubplot(0.672059,0.125;0.227941x0.755)\n",
       "dtype: object"
      ]
     },
     "execution_count": 119,
     "metadata": {},
     "output_type": "execute_result"
    },
    {
     "data": {
      "image/png": "[encoded data removed]",
      "text/plain": [
       "<Figure size 1152x216 with 3 Axes>"
      ]
     },
     "metadata": {
      "needs_background": "light"
     },
     "output_type": "display_data"
    }
   ],
   "source": [
    "#Observa-se que não se tratam de outliers\n",
    "dfp2 = df21c.drop(['ano', 'mes','ncm','pais'], axis=1)\n",
    "dfp2.plot.box(subplots = True, loglog = True, figsize = (16,3),vert=False)"
   ]
  },
  {
   "cell_type": "code",
   "execution_count": 104,
   "metadata": {},
   "outputs": [
    {
     "data": {
      "text/plain": [
       "<AxesSubplot:>"
      ]
     },
     "execution_count": 104,
     "metadata": {},
     "output_type": "execute_result"
    },
    {
     "data": {
      "image/png": "[encoded data removed]",
      "text/plain": [
       "<Figure size 1800x720 with 2 Axes>"
      ]
     },
     "metadata": {
      "needs_background": "light"
     },
     "output_type": "display_data"
    }
   ],
   "source": [
    "plt.figure(figsize=(25, 10))\n",
    "sns.heatmap(df21.loc[:, df21.columns != 'valor'].corr(), annot=True, fmt='.2f')"
   ]
  },
  {
   "cell_type": "code",
   "execution_count": null,
   "metadata": {},
   "outputs": [],
   "source": [
    "def calVIF(X):\n",
    "    vif = pd.DataFrame()\n",
    "    vif['variables'] = X.columns\n",
    "    vif['VIF'] = [variance_inflation_factor(X.values, i) for i in range(len(X.columns))]\n",
    "\n",
    "    return vif\n",
    "\n",
    "calVIF(df21.loc[:, df21.columns != 'alcohol'])"
   ]
  },
  {
   "cell_type": "code",
   "execution_count": null,
   "metadata": {},
   "outputs": [],
   "source": [
    "plt.title('Distribution of Residuals')\n",
    "sns.distplot(model.resid)\n",
    "plt.show()"
   ]
  },
  {
   "cell_type": "code",
   "execution_count": null,
   "metadata": {},
   "outputs": [],
   "source": []
  }
 ],
 "metadata": {
  "kernelspec": {
   "display_name": "Python 3",
   "language": "python",
   "name": "python3"
  },
  "language_info": {
   "codemirror_mode": {
    "name": "ipython",
    "version": 3
   },
   "file_extension": ".py",
   "mimetype": "text/x-python",
   "name": "python",
   "nbconvert_exporter": "python",
   "pygments_lexer": "ipython3",
   "version": "3.8.5"
  }
 },
 "nbformat": 4,
 "nbformat_minor": 4
}
