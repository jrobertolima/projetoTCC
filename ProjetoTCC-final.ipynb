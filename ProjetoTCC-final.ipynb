{
 "cells": [
  {
   "cell_type": "code",
   "execution_count": null,
   "metadata": {},
   "outputs": [],
   "source": [
    "#*************************CÉLULAS DE IMPORTAÇÃO DE BIBLIOTECAS********************\n",
    "import pandas as pd\n",
    "import csv\n",
    "import ssl #para desabilitar a verificação de segurança SSL. \n",
    "#import os\n",
    "from pathlib import Path\n",
    "import matplotlib.pyplot as plt\n",
    "import numpy as np\n",
    "#import seaborn as sns\n",
    "\n",
    "import time\n",
    "# Definindo parâmetros de apresentação\n",
    "# Casas decimais \n",
    "pd.set_option(\"display.precision\", 0)\n",
    "# define apresentação de floats sem notação científica\n",
    "pd.set_option('float_format',lambda x: \"%.2f\" % x)"
   ]
  },
  {
   "cell_type": "code",
   "execution_count": null,
   "metadata": {},
   "outputs": [],
   "source": [
    "#************************CÉLULA DE COLETA DE DADOS *****************************\n",
    "\n",
    "#Função para aquisição dos datasets\n",
    "def get_datasets(urls_Datasets):\n",
    "    \n",
    "    #Desabilita verificação SSL\n",
    "    ssl._create_default_https_context = ssl._create_unverified_context\n",
    "\n",
    "    for url, destino in urls_Datasets.items(): \n",
    "        \n",
    "        if not Path.exists(Path(destino)):\n",
    "            try:\n",
    "                df_temp = pd.read_csv(url, sep=';', encoding = 'cp1250')\n",
    "                df_temp.to_csv(destino, sep=';',encoding = 'cp1250', index=False)\n",
    "            except IOError:\n",
    "                print(\"Um problema ocorreu processando %s \", destino)\n",
    "                raise\n",
    "#Fim da função\n",
    "\n",
    "#Dicionário contendo as urls a serem acessadas e os arquivos de destino dos dados coletados\n",
    "urls_Datasets = {\n",
    "                 'https://balanca.economia.gov.br/balanca/bd/tabelas/PAIS.csv': 'Datasets/pais.csv',\n",
    "                 'https://balanca.economia.gov.br/balanca/bd/tabelas/UF.csv'  : 'Datasets/uf.csv',\n",
    "                 'https://balanca.economia.gov.br/balanca/bd/tabelas/NCM.csv' : 'Datasets/ncm.csv',\n",
    "                 'https://balanca.economia.gov.br/balanca/bd/comexstat-bd/ncmv2/IMP_2019_V2.csv':'Datasets/importacoes2019.csv',\n",
    "                 'https://balanca.economia.gov.br/balanca/bd/comexstat-bd/ncmv2/IMP_2020_V2.csv':'Datasets/importacoes2020.csv',\n",
    "                 'https://balanca.economia.gov.br/balanca/bd/comexstat-bd/ncmv2/IMP_2021_V2.csv':'Datasets/importacoes2021.csv'\n",
    "\n",
    "                }\n",
    "\n",
    "get_datasets(urls_Datasets)    "
   ]
  },
  {
   "cell_type": "code",
   "execution_count": null,
   "metadata": {},
   "outputs": [],
   "source": [
    "#***********************Verifica a presença dos datasets e estatísticas dos dados coletados************************\n",
    "\n",
    "lista_tabelas = [\n",
    "              'pais.csv',\n",
    "              'uf.csv', \n",
    "              'ncm.csv',\n",
    "              'importacoes2019.csv',\n",
    "              'importacoes2020.csv',\n",
    "              'importacoes2021.csv'\n",
    "             ]\n",
    "\n",
    "#verifica se todos os datasets estão presentes\n",
    "for tabela in lista_tabelas:\n",
    "    if not Path.exists(Path('Datasets/'+tabela)):\n",
    "        print(\"Tabela \", tabela, \"não encontrada. O script será interrompido.\")\n",
    "        exit(keep_kernel=True)"
   ]
  },
  {
   "cell_type": "code",
   "execution_count": null,
   "metadata": {},
   "outputs": [],
   "source": [
    "#*************** Prepara informações sobre tabela de países*********************        \n",
    "df_pais = pd.read_csv('Datasets/pais.csv', sep=';', encoding='cp1250',\n",
    "                     usecols = ['CO_PAIS', 'NO_PAIS']\n",
    "                     )\n",
    "#Renomeia os nomes de colunas para maior clareza\n",
    "df_pais.rename(columns = {\"CO_PAIS\": \"pais\", \n",
    "                          \"NO_PAIS\": \"nome_pais\"\n",
    "                         }, inplace =True)\n",
    "df_pais.info()\n",
    "df_pais.head()"
   ]
  },
  {
   "cell_type": "code",
   "execution_count": 55,
   "metadata": {},
   "outputs": [
    {
     "name": "stdout",
     "output_type": "stream",
     "text": [
      "<class 'pandas.core.frame.DataFrame'>\n",
      "RangeIndex: 13123 entries, 0 to 13122\n",
      "Data columns (total 2 columns):\n",
      " #   Column     Non-Null Count  Dtype \n",
      "---  ------     --------------  ----- \n",
      " 0   ncm        13123 non-null  int64 \n",
      " 1   descricao  13123 non-null  object\n",
      "dtypes: int64(1), object(1)\n",
      "memory usage: 205.2+ KB\n"
     ]
    },
    {
     "data": {
      "text/html": [
       "<div>\n",
       "<style scoped>\n",
       "    .dataframe tbody tr th:only-of-type {\n",
       "        vertical-align: middle;\n",
       "    }\n",
       "\n",
       "    .dataframe tbody tr th {\n",
       "        vertical-align: top;\n",
       "    }\n",
       "\n",
       "    .dataframe thead th {\n",
       "        text-align: right;\n",
       "    }\n",
       "</style>\n",
       "<table border=\"1\" class=\"dataframe\">\n",
       "  <thead>\n",
       "    <tr style=\"text-align: right;\">\n",
       "      <th></th>\n",
       "      <th>ncm</th>\n",
       "      <th>descricao</th>\n",
       "    </tr>\n",
       "  </thead>\n",
       "  <tbody>\n",
       "    <tr>\n",
       "      <th>0</th>\n",
       "      <td>38085910</td>\n",
       "      <td>Outras mercadorias mencionadas na Nota de subp...</td>\n",
       "    </tr>\n",
       "    <tr>\n",
       "      <th>1</th>\n",
       "      <td>38085921</td>\n",
       "      <td>Mercadorias ŕ base de metamidofós (ISO) ou mon...</td>\n",
       "    </tr>\n",
       "    <tr>\n",
       "      <th>2</th>\n",
       "      <td>38085922</td>\n",
       "      <td>Mercadorias ŕ base de endossulfan (ISO), apres...</td>\n",
       "    </tr>\n",
       "    <tr>\n",
       "      <th>3</th>\n",
       "      <td>38085923</td>\n",
       "      <td>Mercadorias ŕ base de alaclor (ISO), apresenta...</td>\n",
       "    </tr>\n",
       "    <tr>\n",
       "      <th>4</th>\n",
       "      <td>38085929</td>\n",
       "      <td>Mercadorias ŕ base de outras substâncias, apre...</td>\n",
       "    </tr>\n",
       "  </tbody>\n",
       "</table>\n",
       "</div>"
      ],
      "text/plain": [
       "        ncm                                          descricao\n",
       "0  38085910  Outras mercadorias mencionadas na Nota de subp...\n",
       "1  38085921  Mercadorias ŕ base de metamidofós (ISO) ou mon...\n",
       "2  38085922  Mercadorias ŕ base de endossulfan (ISO), apres...\n",
       "3  38085923  Mercadorias ŕ base de alaclor (ISO), apresenta...\n",
       "4  38085929  Mercadorias ŕ base de outras substâncias, apre..."
      ]
     },
     "execution_count": 55,
     "metadata": {},
     "output_type": "execute_result"
    }
   ],
   "source": [
    "#*************** Prepara informações sobre tabela de NCM das mercadorias*********************        \n",
    "df_ncm = pd.read_csv('Datasets/ncm.csv', sep=';', encoding='cp1250',\n",
    "                     usecols = ['CO_NCM', 'NO_NCM_POR']\n",
    "                     )\n",
    "#Renomeia os nomes de colunas para maior clareza\n",
    "df_ncm.rename(columns = {\"CO_NCM\": \"ncm\", \n",
    "                          \"NO_NCM_POR\": \"descricao\" \n",
    "                         }, inplace =True)\n",
    "df_ncm.info()\n",
    "df_ncm.head()"
   ]
  },
  {
   "cell_type": "code",
   "execution_count": null,
   "metadata": {},
   "outputs": [],
   "source": [
    "#***********Lendo as informações do dataset de importações dos anos 2019 a jun/2021***********\n",
    "\n",
    "#Por haver muitas colunas que não serão utilizadas, faremos a exclusão das desnecessárias posteriormente\n",
    "df_imp2019 = pd.read_csv('Datasets/importacoes2019.csv', sep=';', encoding='cp1250')\n",
    "\n",
    "df_imp2020 = pd.read_csv('Datasets/importacoes2020.csv', sep=';', encoding='cp1250')\n",
    "\n",
    "df_imp2021 = pd.read_csv('Datasets/importacoes2021.csv', sep=';', encoding='cp1250')\n",
    "\n",
    "df_imp2021.info()\n"
   ]
  },
  {
   "cell_type": "code",
   "execution_count": null,
   "metadata": {},
   "outputs": [],
   "source": [
    "#**************Pelo fato de a estrutura das tabelas serem idênticas, concatenaremos os datasets\n",
    "df_importacoes = pd.concat([df_imp2019, df_imp2020,df_imp2021])\n",
    "\n",
    "#Limpando registros nulos, caso existam\n",
    "df_importacoes.dropna(inplace=True)  \n",
    "\n",
    "#Reorganização os índices\n",
    "df_importacoes.reset_index(drop=True, inplace=True) \n",
    "df_importacoes.shape\n",
    "\n",
    "df_importacoes.info()"
   ]
  },
  {
   "cell_type": "code",
   "execution_count": null,
   "metadata": {},
   "outputs": [],
   "source": [
    "#***************Excluindo colunas não usadas do dataframe de importações\n",
    "#Antes de excluir,verifica se existem\n",
    "if set(['CO_UNID', 'CO_URF','CO_VIA', 'VL_FRETE', 'VL_SEGURO']).issubset(df_importacoes.columns):\n",
    "    df_importacoes.drop(['CO_UNID', 'CO_URF','CO_VIA', 'VL_FRETE', 'VL_SEGURO'], axis=1, inplace=True)\n",
    "    \n",
    "#Convertando valores KG_LIQUIDO e VL_FOB para float\n",
    "df_importacoes['VL_FOB'] = df_importacoes['VL_FOB'].astype(float)\n",
    "df_importacoes['KG_LIQUIDO'] = df_importacoes['KG_LIQUIDO'].astype(float)\n",
    "df_importacoes.info()\n",
    "df_importacoes.tail()"
   ]
  },
  {
   "cell_type": "code",
   "execution_count": null,
   "metadata": {},
   "outputs": [],
   "source": [
    "#Renomeia os nomes de colunas para maior clareza\n",
    "df_importacoes.rename(columns = {\n",
    "    \"CO_ANO\"    : \"ano\",\n",
    "    \"CO_NCM\"    : \"ncm\", \n",
    "    \"CO_MES\"    : \"mes\",\n",
    "    \"CO_PAIS\"   : \"pais\",\n",
    "    \"SG_UF_NCM\" : \"uf\",\n",
    "    \"QT_ESTAT\"  : \"quantidade\",\n",
    "    \"KG_LIQUIDO\": \"peso\",\n",
    "    \"VL_FOB\"    : \"valor\"\n",
    "     }, inplace =True)\n",
    "df_importacoes.info()"
   ]
  },
  {
   "cell_type": "code",
   "execution_count": null,
   "metadata": {},
   "outputs": [],
   "source": [
    "#******************************Deletando valores zerados para quantidade e VL_FOB \n",
    "df_importacoes.drop(df_importacoes.index[df_importacoes['quantidade'] == 0], inplace=True)\n",
    "df_importacoes.drop(df_importacoes.index[df_importacoes['valor'] == 0], inplace=True)"
   ]
  },
  {
   "cell_type": "code",
   "execution_count": null,
   "metadata": {},
   "outputs": [],
   "source": [
    "#***************************Verificando a possível existência de outliers de valor e quantidade com boxplots\n",
    "plt.clf()\n",
    "df_importacoes.groupby(['ano','mes'])[['valor','quantidade']].agg(['sum']) \\\n",
    "                        .plot.box(subplots=False, figsize=(10,4), logy=True, sharex = False, sharey = False)"
   ]
  },
  {
   "cell_type": "code",
   "execution_count": null,
   "metadata": {},
   "outputs": [],
   "source": [
    "plt.clf()\n",
    "#Verificando a possível existência de outliers com gráfico scatter\n",
    "ncm = df_importacoes.groupby(['ano','mes'])[['valor','quantidade']].agg(['sum'])\n",
    "ncm.plot(x='valor', y='quantidade', subplots=True, kind='scatter', loglog=True, figsize = (10,4))"
   ]
  },
  {
   "cell_type": "code",
   "execution_count": null,
   "metadata": {},
   "outputs": [],
   "source": [
    "#******************** Verificando a evolução mensal das operações ********\n",
    "evolucao = df_importacoes.groupby(['ano','mes'])[['valor', 'quantidade']].agg(['sum'])\n",
    "evolucao.plot(subplots=True,kind='bar',figsize=(12,5), sharex = True, sharey = True, logy = True)"
   ]
  },
  {
   "cell_type": "code",
   "execution_count": null,
   "metadata": {},
   "outputs": [],
   "source": [
    "#******************** Verificando a evolução mensal das operações pela média ********\n",
    "\n",
    "evolucao = df_importacoes.groupby(['ano','mes'])[['valor', 'quantidade']]\n",
    "evolucao.agg(['mean']).plot(subplots=True,kind='line',figsize=(15,6), logy = True, sharex = True, sharey = True)"
   ]
  },
  {
   "cell_type": "code",
   "execution_count": null,
   "metadata": {},
   "outputs": [],
   "source": [
    "#Formata o label do gráfico\n",
    "def lab(val, soma):\n",
    "    absol = int(round(val/100.*soma)/1000000000)\n",
    "    return \"{:.1f}%\\n(US${:d} Bi)\".format(val, absol)\n",
    "    \n",
    "#Desenha o gráfico de pizza\n",
    "def plota_pais(df):\n",
    "    plt.clf()\n",
    "    ano = df.iloc[1,0] # pega o ano referente ao dataset\n",
    "    soma = df.valor.agg('sum')\n",
    "    df = df.groupby('pais').valor.agg(['sum']).nlargest(5,'sum')\n",
    "\n",
    "# 2. Nomes dos países maiores\n",
    "    paises = df.merge(df_pais, on = 'pais', how = 'left')\n",
    "    labels = [\"%s\" % i for i in paises.nome_pais]\n",
    "\n",
    "# 3 Plota    \n",
    "    df.plot.pie(title = 'Maiores exportadores - ' + str(ano),\n",
    "              figsize = (6,6),fontsize = 10, subplots = True, legend = False, labels = labels,\n",
    "                        ylabel = '', normalize = True,\n",
    "                        autopct = lambda val: lab(val, soma)   )"
   ]
  },
  {
   "cell_type": "code",
   "execution_count": null,
   "metadata": {
    "scrolled": true
   },
   "outputs": [],
   "source": [
    "#********************Verificando maiores exportadores em valor em 2019*********************\n",
    "\n",
    "# 1. Definir maiores\n",
    "df19 = df_importacoes[df_importacoes['ano'] == 2019]\n",
    "plota_pais(df19)"
   ]
  },
  {
   "cell_type": "code",
   "execution_count": null,
   "metadata": {},
   "outputs": [],
   "source": []
  },
  {
   "cell_type": "code",
   "execution_count": null,
   "metadata": {
    "scrolled": true
   },
   "outputs": [],
   "source": [
    "#********************Verificando maiores exportadores em valor em 2020*********************\n",
    "\n",
    "# 1. Definir maiores\n",
    "df20 = df_importacoes[df_importacoes['ano'] == 2020]\n",
    "plota_pais(df20)"
   ]
  },
  {
   "cell_type": "code",
   "execution_count": null,
   "metadata": {
    "scrolled": true
   },
   "outputs": [],
   "source": [
    "#********************Verificando maiores exportadores em valor em 2021*********************\n",
    "\n",
    "# 1. Definir maiores\n",
    "df21 = df_importacoes[df_importacoes['ano'] == 2021]\n",
    "plota_pais(df21)"
   ]
  },
  {
   "cell_type": "code",
   "execution_count": null,
   "metadata": {},
   "outputs": [],
   "source": []
  },
  {
   "cell_type": "code",
   "execution_count": 128,
   "metadata": {},
   "outputs": [
    {
     "data": {
      "image/png": "[encoded data removed]",
      "text/plain": [
       "<Figure size 1080x288 with 1 Axes>"
      ]
     },
     "metadata": {
      "needs_background": "light"
     },
     "output_type": "display_data"
    },
    {
     "data": {
      "image/png": "[encoded data removed]",
      "text/plain": [
       "<Figure size 1080x288 with 1 Axes>"
      ]
     },
     "metadata": {
      "needs_background": "light"
     },
     "output_type": "display_data"
    },
    {
     "data": {
      "image/png": "[encoded data removed]",
      "text/plain": [
       "<Figure size 1080x288 with 1 Axes>"
      ]
     },
     "metadata": {
      "needs_background": "light"
     },
     "output_type": "display_data"
    }
   ],
   "source": [
    "from matplotlib.ticker import StrMethodFormatter\n",
    "\n",
    "def plota_ncm(df, color):\n",
    "    ano = df.iloc[1,0] # pega o ano referente ao dataset\n",
    "\n",
    "    # 2. Descrição das NCMs    \n",
    "    df = df.groupby('ncm').quantidade.agg(['sum']).nlargest(5,'sum')\n",
    "\n",
    "    ncms = df.merge(df_ncm, on = 'ncm', how = 'left')\n",
    "    legend = [\"%s\" % i for i in ncms.descricao]\n",
    " \n",
    "    ax = df.plot(title = 'Mercadorias mais negociadas - '+ str(ano),\n",
    "                 kind='barh', figsize=(15, 4), \n",
    "                 color = color, zorder=2, width=0.70, legend = False\n",
    "                 )\n",
    "\n",
    "    # Despine\n",
    "    ax.spines['right'].set_visible(False)\n",
    "    ax.spines['top'].set_visible(False)\n",
    "    ax.spines['left'].set_visible(False)\n",
    "    ax.spines['bottom'].set_visible(False)\n",
    "\n",
    "    # Switch off ticks\n",
    "    ax.tick_params(axis=\"both\", which=\"both\", bottom=\"off\", top=\"off\", labelbottom=\"on\", left=\"off\", right=\"off\", labelleft=\"on\")\n",
    "\n",
    "#    table(ax, np.round(df.describe(), 2), loc=\"upper right\", colWidths=[0.2, 0.2, 0.2]);    \n",
    "    \n",
    "    # Draw vertical axis lines\n",
    "    vals = ax.get_xticks()\n",
    "    for tick in vals:\n",
    "        ax.axvline(x=tick, linestyle='dashed', alpha=0.4, color='#eeeeee', zorder=1)\n",
    "\n",
    "    # Set x-axis label\n",
    "    ax.set_xlabel(\"Quantidade por mil toneladas\", labelpad=20, weight='bold', size=12)\n",
    "\n",
    "    # Set y-axis label\n",
    "    ax.set_ylabel(\"NCMs\", labelpad=20, weight='bold', size=12)\n",
    "\n",
    "    # Format y-axis label\n",
    "    ax.xaxis.set_major_formatter(lambda x, pos: str(x/1000000))\n",
    "\n",
    "plota_ncm(df19, 'y')\n",
    "plota_ncm(df20, 'c')\n",
    "plota_ncm(df21, 'g')\n"
   ]
  },
  {
   "cell_type": "code",
   "execution_count": null,
   "metadata": {},
   "outputs": [],
   "source": []
  },
  {
   "cell_type": "code",
   "execution_count": null,
   "metadata": {},
   "outputs": [],
   "source": []
  }
 ],
 "metadata": {
  "kernelspec": {
   "display_name": "Python 3",
   "language": "python",
   "name": "python3"
  },
  "language_info": {
   "codemirror_mode": {
    "name": "ipython",
    "version": 3
   },
   "file_extension": ".py",
   "mimetype": "text/x-python",
   "name": "python",
   "nbconvert_exporter": "python",
   "pygments_lexer": "ipython3",
   "version": "3.8.5"
  }
 },
 "nbformat": 4,
 "nbformat_minor": 4
}
