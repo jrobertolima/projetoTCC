{
 "cells": [
  {
   "cell_type": "markdown",
   "metadata": {},
   "source": [
    "### 1. Definição do problema\n",
    "> O objetivo deste trabalho é apresentar uma análise sobre os preços de produtos importados pelo Brasil, comparando os valores declarados numa operação de importação com os preços praticados no comércio internacional.\n",
    "Para isso, primeiramente, será realizado um levantamento de preços junto ao mercado mundial para um grupo de mercadorias de alto valor agregado.\n",
    "Em seguida, buscar-se-á os preços desses mesmos produtos declarados em processos de importação de mercadorias.\n",
    "Por fim, far-se-á a comparação entre as médias desses valores, visando a uma conclusão quanto a indícios de fraudes - subfaturamento ou superfaturamento - nas operações de importação realizadas pelas empresas brasileiras.\n",
    "\n",
    "### 2. A coleta de dados\n",
    "> Os datasets usados neste trabalho foram coletados de fontes diversas. \n",
    "> O DataCoSupplyChainDataset tem como fonte o site __www.kaggle.com__ \n",
    "\n",
    "__Bold por favor__ <br>\n",
    "_Italico Olha isso_ <br>\n",
    "$ a + bX$ <br>\n",
    "__________ dfjlkaj dlkjf lkajkdj\n",
    "> item \n",
    ">>item2\n",
    ">>>item3\n",
    "- item 1\n",
    "- item 2\n",
    "1. item 1\n",
    "2. item 2 <br>\n",
    "<font color=blue>\"font color=blue\"</font><br>\n",
    "paragrafog <br> outro paragrafo<br>\n",
    "#isto é comentário"
   ]
  },
  {
   "cell_type": "code",
   "execution_count": 15,
   "metadata": {
    "tags": []
   },
   "outputs": [
    {
     "output_type": "stream",
     "name": "stdout",
     "text": [
      "48\n{'Phone Lcd Iphone Screen Display Cell Phone LCD For IPhone XS OLED Touch Screen Display Replacement': '$29.70-$42.20', 'Phone Lcd Screen Display Wholesale Mobile Phone Parts Lcd Touch Screen Lcd Display Digitizer Replacement': '$50.00-$52.50', 'Phone Lcd Screen Display Mobile Phone Lcd Display Supplier Mobile Phone Lcd Screen Display For Samsung Galaxy J7 Prime Display Lcd Panel': '$12.81-$13.97', 'Phones Touch Screen For Samsung J6 Plus SM-J610FN/DS J610G SM-J610G/DS Mobile Phone LCDs Screen Touch LCD Display': '$12.36-$17.02', 'Lcd Display Zkong 2.7 Inch Esl Lcd Display Factory Supermarket Electronic Lcd Price Tag': '$7.30-$10.80', 'Lcd Screen Lcd Laser Repair Machine FORWARD Hot Selling LCD Blue Light Laser Screen Separating Machine For All Flat Screen Separating And Repairing': '$1,278.96', 'Gx gx3 Hx Jk Rj Amoled Oled Mobile Phone Lcds Screen Replacement With Touch Screen Digitizer Assembly For Iphone5 6 7 8 10 X xr': '$9.64-$110.98', 'lcd screen wholesale for samsung lcd screen For samsung display for samsung lcd': '$1.00-$5.00', 'Brand New screen lcd for iphone x lcd display screen replacement,for iphone x cell phone screen repair SS4': '$5.00-$20.00', 'Mobile Phone LCD Screen Touch Digitizer Assembly pantallas para celulares display panel lcd screen for iphone 8 8plus': '$12.53-$19.55', 'LCD Refurbishe Touch Screen For iPhone 6 7 8 Plusd, lcd display for i phone 6': '$13.27-$13.99', 'Mobile Phone LCD Digitizer Accessories Parts mobile lcd screen Mobile Phone LCDs Touch Display': '$1.00-$5.00', 'Best price mobile phone lcd screen for iphone X XS XR 11,mobile lcd display replacement for iphone X 11,phone lcd for iphone X': '$35.82-$43.76', \"Phone Touch Screen Lcd for Apple Iphone 8p lcd Screen for 5.5'' Iphone 8plus mobile phone lcds\": '$11.99-$13.15', 'cell phone lcd touch screen replacement for iphone , for samsung lcd screen display , mobile lcd screen for huawei': '$3.10-$8.32', 'Mobile Phone LCD Digitizer Accessories Parts Mobile LCD Screen Mobile Phone LCDs Touch Display for iPhone': '$1.00', 'Mobile Accessory For iPhone 7 LCD Touch Screen LCD Display Screen For iPhone 7 Replacement Display LCD Digitizer': '$7.68-$7.97', 'Factory direct Mobile Phone LCD Display Screen For Iphone 6': '$6.70-$8.00', 'LCD Screen for iPhone 11 Pro Max XS XR X 8 7 6S 6 Plus 5S 5C LCD with Digitizer Touch Screen Mobile Phone LCDs Elekworld Display': '$10.78-$113.80', 'Hot cellphone touch displays for iPhone 11, mobile phone lcd screens replacement LCD display for iPhone 11 screen': '$8.88-$38.71', 'Mobile phone lcd for all models original touch screen display replacement digitizer mobile lcd screen wholesale': '$4.50-$25.70', 'pantalla a20 incell lcd display for samsung galaxy a20 a30 a30s a50 a70 a80 samsung lcd display touch screen incell': '$14.88-$36.25', 'Oem Original Mobile Phone Lcd Screen For Iphone 6 7 8 X Xr Lcd Display Screen For Iphone Lcd Screen': '$5.90-$9.90', 'Display Assembly Original Phones Spares LCD For Iphone Xr Lcd Replacement Screen': '$3.25-$31.20', 'Mobile Phone Original Display Touch Screen LCD Digitizer Assembly For iPhone 7 Plus': '$11.55-$13.87', 'Mobile phone lcd for iphone xs lcd display touch assembly screen': '$20.00-$30.00', 'Best Quality Cell phone lcd screen with touch digitizer for iPhone 8 lcd display': '$9.00-$10.00', 'lcd for iPhone 6s Touch Screen Digitizer Assembly Factory Price Mobile Phone LCD display': '$7.54', 'New Good quality display assembly mobile phone lcds for iphone 8 plus lcd screen original with low price discount accept paypal': '$4.80-$14.40', 'mobile phone lcd A+++ for iphone 6 lcd Tianma ,factory price for iphone 6 display,for iphone 6 replacement screen': '$7.91-$8.95', 'GX OLED screen for iphone lcd screen replacement for iphone XR mobile phone lcd display for iphone XS MAX lcd screen': '$10.74-$132.88', 'HQ ESR Lcds Wholesale Phone Mobile Screen Display Replacement Touch Digitizer For Iphone 7 7g 7 Plus Lcd': '$9.40-$91.70', 'Replacement Mobile phone LCD Digitizer Assembly for Vivo Y91/Y91i/Y91c/Y93/Y93s/Y95 with LCD Display Screen': '$9.90', 'cell phone lcd display for iphone 6s lcd with digitizer screen for iphone6s oem lcd touch screen': '$14.07-$31.19', 'OEM lcd mobile cell phone screen 6S lcd display for iphone': '$10.00-$13.00', 'Original Mobile Phone OLED LCD for iPhone X XR XS New Screen XS MAX Replacement OEM LCD Display Touch Screen Replacement': '$30.33-$79.04', 'OEM Replacement Mobil Phone LcdS Touch Screen Digitizer For Iphone 7 Lcd Display+Touch Screen': '$7.24-$7.68', 'Wholesale Mobile Phone Lcd Display Touch Screen For Samsung Galaxy A10 A20 A30 A40 A50 A60 A70 A80 A90': '$12.00-$85.52', 'Hot selling for samsung J7P (J7 prime) /G6100 lcd original touch LCD display mobile phone lcds replacement screen': '$12.01-$13.05', 'Wholesale Fast delivery Mobile Phone LCD Touch Screen Display Digitizer Assembly For Iphone 5 6 7 8 X LCD Display': '$5.80-$32.60', 'Cell phone lcd display with touch screen digitizer for iphone 5S Phone lcds': '$5.95-$8.75', 'YYtech Lcd Display Touch Screen Mobile Phone LCDs For Samsung Galaxy A20 A205 With Frame Mobile LCD Screen': '$12.00-$13.00', '100% tested 5.5 inch new lcds touch display A77T For OPPO F3 A77 A77S lcd touch display mobile phone screen replacement': '$12.24-$15.32', 'Top quality mobile phone Screen For Iphone XS MAX lcd display , replacement Lcd screen for iphone X XR XS OLED soft/hard': '$27.91-$148.84', 'Mobile Phone LCD Display For iPhone 8 lcd Screen': '$6.99-$8.99', 'ready to ship Warranty mobile phone LCD Remplacement screen display for Phone 5s': '$5.00-$10.50', 'Cell Phone Pantalla Display LCD Touch Screen For Samsung Galaxy A10 A105 Frontal LCD Assembly': '$17.26-$20.66', 'Fast Shipping Mobile Phone Replacement LCD Screen Display for iPhone 7': '$12.43-$13.00'}\n"
     ]
    }
   ],
   "source": [
    "from bs4 import BeautifulSoup\n",
    "import requests\n",
    "\n",
    "#bibliotecas para requisição de páginas dinâmicas\n",
    "from selenium import webdriver \n",
    "from selenium.webdriver.common.keys import Keys \n",
    "import time \n",
    "\n",
    "#Preparando a aquisição das páginas\n",
    "url = \"https://www.alibaba.com/trade/search?IndexArea=product_en&CatId=5904002&fsb=y&viewtype=&tab=&SearchScene=&SearchText=phone+display+lcd+screen\"\n",
    "\n",
    "driver = webdriver.Firefox('/media/joao/HDLinux/tools')\n",
    "driver.get(url)\n",
    "time.sleep(3)\n",
    "\n",
    "req = driver.page_source\n",
    "soup = BeautifulSoup(req, \"html.parser\")\n",
    "\n",
    "#Aqui é para páginas estáticas. Não usa o webdriver\n",
    "#req = requests.get(url)\n",
    "#soup = BeautifulSoup(req.text, \"html.parser\")\n",
    "\n",
    "\n",
    "\n",
    "#Adquirindo a lista dos produtos\n",
    "classes = soup.find('div', class_ = \"organic-list app-organic-search__list\")\n",
    "\n",
    "#Agora vamos buscar cada os itens da lista\n",
    "items =  classes.find_all(class_ = 'organic-gallery-offer-outter J-offer-wrapper')\n",
    "\n",
    "#Para cada item, pegar a descrição () e o preco\n",
    "desc_items = {} #tr selecionados\n",
    "for item in items:\n",
    "    title = item.find('h4').get('title')\n",
    "    price = item.find('p', class_ = 'elements-offer-price-normal').get('title')\n",
    "    desc_items[title] = price \n",
    "\n",
    "print(len(desc_items))\n",
    "\n",
    "print(desc_items)      \n"
   ]
  },
  {
   "cell_type": "code",
   "execution_count": 9,
   "metadata": {},
   "outputs": [],
   "source": [
    "import pandas as pd\n",
    "import numpy as np\n",
    "import matplotlib\n",
    "import matplotlib as plt\n",
    "import seaborn as sns"
   ]
  },
  {
   "cell_type": "code",
   "execution_count": 10,
   "metadata": {},
   "outputs": [],
   "source": [
    "df = pd.read_csv('Datasets/DataCoSupplyChainDataset.csv', encoding='unicode_escape')"
   ]
  },
  {
   "cell_type": "code",
   "execution_count": 22,
   "metadata": {},
   "outputs": [
    {
     "output_type": "execute_result",
     "data": {
      "text/plain": [
       "       Type  Days for shipping (real)  Days for shipment (scheduled)  \\\n",
       "0     DEBIT                         3                              4   \n",
       "1  TRANSFER                         5                              4   \n",
       "2      CASH                         4                              4   \n",
       "3     DEBIT                         3                              4   \n",
       "4   PAYMENT                         2                              4   \n",
       "\n",
       "   Benefit per order  Sales per customer   Delivery Status  \\\n",
       "0          91.250000          314.640015  Advance shipping   \n",
       "1        -249.089996          311.359985     Late delivery   \n",
       "2        -247.779999          309.720001  Shipping on time   \n",
       "3          22.860001          304.809998  Advance shipping   \n",
       "4         134.210007          298.250000  Advance shipping   \n",
       "\n",
       "   Late_delivery_risk  Category Id   Category Name Customer City  ...  \\\n",
       "0                   0           73  Sporting Goods        Caguas  ...   \n",
       "1                   1           73  Sporting Goods        Caguas  ...   \n",
       "2                   0           73  Sporting Goods      San Jose  ...   \n",
       "3                   0           73  Sporting Goods   Los Angeles  ...   \n",
       "4                   0           73  Sporting Goods        Caguas  ...   \n",
       "\n",
       "  Order Zipcode Product Card Id Product Category Id  Product Description  \\\n",
       "0           NaN            1360                  73                  NaN   \n",
       "1           NaN            1360                  73                  NaN   \n",
       "2           NaN            1360                  73                  NaN   \n",
       "3           NaN            1360                  73                  NaN   \n",
       "4           NaN            1360                  73                  NaN   \n",
       "\n",
       "                                  Product Image  Product Name Product Price  \\\n",
       "0  http://images.acmesports.sports/Smart+watch   Smart watch         327.75   \n",
       "1  http://images.acmesports.sports/Smart+watch   Smart watch         327.75   \n",
       "2  http://images.acmesports.sports/Smart+watch   Smart watch         327.75   \n",
       "3  http://images.acmesports.sports/Smart+watch   Smart watch         327.75   \n",
       "4  http://images.acmesports.sports/Smart+watch   Smart watch         327.75   \n",
       "\n",
       "  Product Status shipping date (DateOrders)   Shipping Mode  \n",
       "0              0             2/3/2018 22:56  Standard Class  \n",
       "1              0            1/18/2018 12:27  Standard Class  \n",
       "2              0            1/17/2018 12:06  Standard Class  \n",
       "3              0            1/16/2018 11:45  Standard Class  \n",
       "4              0            1/15/2018 11:24  Standard Class  \n",
       "\n",
       "[5 rows x 53 columns]"
      ],
      "text/html": "<div>\n<style scoped>\n    .dataframe tbody tr th:only-of-type {\n        vertical-align: middle;\n    }\n\n    .dataframe tbody tr th {\n        vertical-align: top;\n    }\n\n    .dataframe thead th {\n        text-align: right;\n    }\n</style>\n<table border=\"1\" class=\"dataframe\">\n  <thead>\n    <tr style=\"text-align: right;\">\n      <th></th>\n      <th>Type</th>\n      <th>Days for shipping (real)</th>\n      <th>Days for shipment (scheduled)</th>\n      <th>Benefit per order</th>\n      <th>Sales per customer</th>\n      <th>Delivery Status</th>\n      <th>Late_delivery_risk</th>\n      <th>Category Id</th>\n      <th>Category Name</th>\n      <th>Customer City</th>\n      <th>...</th>\n      <th>Order Zipcode</th>\n      <th>Product Card Id</th>\n      <th>Product Category Id</th>\n      <th>Product Description</th>\n      <th>Product Image</th>\n      <th>Product Name</th>\n      <th>Product Price</th>\n      <th>Product Status</th>\n      <th>shipping date (DateOrders)</th>\n      <th>Shipping Mode</th>\n    </tr>\n  </thead>\n  <tbody>\n    <tr>\n      <th>0</th>\n      <td>DEBIT</td>\n      <td>3</td>\n      <td>4</td>\n      <td>91.250000</td>\n      <td>314.640015</td>\n      <td>Advance shipping</td>\n      <td>0</td>\n      <td>73</td>\n      <td>Sporting Goods</td>\n      <td>Caguas</td>\n      <td>...</td>\n      <td>NaN</td>\n      <td>1360</td>\n      <td>73</td>\n      <td>NaN</td>\n      <td>http://images.acmesports.sports/Smart+watch</td>\n      <td>Smart watch</td>\n      <td>327.75</td>\n      <td>0</td>\n      <td>2/3/2018 22:56</td>\n      <td>Standard Class</td>\n    </tr>\n    <tr>\n      <th>1</th>\n      <td>TRANSFER</td>\n      <td>5</td>\n      <td>4</td>\n      <td>-249.089996</td>\n      <td>311.359985</td>\n      <td>Late delivery</td>\n      <td>1</td>\n      <td>73</td>\n      <td>Sporting Goods</td>\n      <td>Caguas</td>\n      <td>...</td>\n      <td>NaN</td>\n      <td>1360</td>\n      <td>73</td>\n      <td>NaN</td>\n      <td>http://images.acmesports.sports/Smart+watch</td>\n      <td>Smart watch</td>\n      <td>327.75</td>\n      <td>0</td>\n      <td>1/18/2018 12:27</td>\n      <td>Standard Class</td>\n    </tr>\n    <tr>\n      <th>2</th>\n      <td>CASH</td>\n      <td>4</td>\n      <td>4</td>\n      <td>-247.779999</td>\n      <td>309.720001</td>\n      <td>Shipping on time</td>\n      <td>0</td>\n      <td>73</td>\n      <td>Sporting Goods</td>\n      <td>San Jose</td>\n      <td>...</td>\n      <td>NaN</td>\n      <td>1360</td>\n      <td>73</td>\n      <td>NaN</td>\n      <td>http://images.acmesports.sports/Smart+watch</td>\n      <td>Smart watch</td>\n      <td>327.75</td>\n      <td>0</td>\n      <td>1/17/2018 12:06</td>\n      <td>Standard Class</td>\n    </tr>\n    <tr>\n      <th>3</th>\n      <td>DEBIT</td>\n      <td>3</td>\n      <td>4</td>\n      <td>22.860001</td>\n      <td>304.809998</td>\n      <td>Advance shipping</td>\n      <td>0</td>\n      <td>73</td>\n      <td>Sporting Goods</td>\n      <td>Los Angeles</td>\n      <td>...</td>\n      <td>NaN</td>\n      <td>1360</td>\n      <td>73</td>\n      <td>NaN</td>\n      <td>http://images.acmesports.sports/Smart+watch</td>\n      <td>Smart watch</td>\n      <td>327.75</td>\n      <td>0</td>\n      <td>1/16/2018 11:45</td>\n      <td>Standard Class</td>\n    </tr>\n    <tr>\n      <th>4</th>\n      <td>PAYMENT</td>\n      <td>2</td>\n      <td>4</td>\n      <td>134.210007</td>\n      <td>298.250000</td>\n      <td>Advance shipping</td>\n      <td>0</td>\n      <td>73</td>\n      <td>Sporting Goods</td>\n      <td>Caguas</td>\n      <td>...</td>\n      <td>NaN</td>\n      <td>1360</td>\n      <td>73</td>\n      <td>NaN</td>\n      <td>http://images.acmesports.sports/Smart+watch</td>\n      <td>Smart watch</td>\n      <td>327.75</td>\n      <td>0</td>\n      <td>1/15/2018 11:24</td>\n      <td>Standard Class</td>\n    </tr>\n  </tbody>\n</table>\n<p>5 rows × 53 columns</p>\n</div>"
     },
     "metadata": {},
     "execution_count": 22
    }
   ],
   "source": [
    "df.head()"
   ]
  },
  {
   "source": [],
   "cell_type": "markdown",
   "metadata": {}
  },
  {
   "cell_type": "code",
   "execution_count": 23,
   "metadata": {},
   "outputs": [
    {
     "output_type": "execute_result",
     "data": {
      "text/plain": [
       "Index(['Type', 'Days for shipping (real)', 'Days for shipment (scheduled)',\n",
       "       'Benefit per order', 'Sales per customer', 'Delivery Status',\n",
       "       'Late_delivery_risk', 'Category Id', 'Category Name', 'Customer City',\n",
       "       'Customer Country', 'Customer Email', 'Customer Fname', 'Customer Id',\n",
       "       'Customer Lname', 'Customer Password', 'Customer Segment',\n",
       "       'Customer State', 'Customer Street', 'Customer Zipcode',\n",
       "       'Department Id', 'Department Name', 'Latitude', 'Longitude', 'Market',\n",
       "       'Order City', 'Order Country', 'Order Customer Id',\n",
       "       'order date (DateOrders)', 'Order Id', 'Order Item Cardprod Id',\n",
       "       'Order Item Discount', 'Order Item Discount Rate', 'Order Item Id',\n",
       "       'Order Item Product Price', 'Order Item Profit Ratio',\n",
       "       'Order Item Quantity', 'Sales', 'Order Item Total',\n",
       "       'Order Profit Per Order', 'Order Region', 'Order State', 'Order Status',\n",
       "       'Order Zipcode', 'Product Card Id', 'Product Category Id',\n",
       "       'Product Description', 'Product Image', 'Product Name', 'Product Price',\n",
       "       'Product Status', 'shipping date (DateOrders)', 'Shipping Mode'],\n",
       "      dtype='object')"
      ]
     },
     "metadata": {},
     "execution_count": 23
    }
   ],
   "source": [
    "df.columns"
   ]
  },
  {
   "cell_type": "code",
   "execution_count": 24,
   "metadata": {},
   "outputs": [
    {
     "output_type": "execute_result",
     "data": {
      "text/plain": [
       "(180519, 53)"
      ]
     },
     "metadata": {},
     "execution_count": 24
    }
   ],
   "source": [
    "df.shape\n"
   ]
  },
  {
   "cell_type": "code",
   "execution_count": 25,
   "metadata": {},
   "outputs": [
    {
     "output_type": "stream",
     "name": "stdout",
     "text": [
      "<class 'pandas.core.frame.DataFrame'>\nRangeIndex: 180519 entries, 0 to 180518\nData columns (total 53 columns):\n #   Column                         Non-Null Count   Dtype  \n---  ------                         --------------   -----  \n 0   Type                           180519 non-null  object \n 1   Days for shipping (real)       180519 non-null  int64  \n 2   Days for shipment (scheduled)  180519 non-null  int64  \n 3   Benefit per order              180519 non-null  float64\n 4   Sales per customer             180519 non-null  float64\n 5   Delivery Status                180519 non-null  object \n 6   Late_delivery_risk             180519 non-null  int64  \n 7   Category Id                    180519 non-null  int64  \n 8   Category Name                  180519 non-null  object \n 9   Customer City                  180519 non-null  object \n 10  Customer Country               180519 non-null  object \n 11  Customer Email                 180519 non-null  object \n 12  Customer Fname                 180519 non-null  object \n 13  Customer Id                    180519 non-null  int64  \n 14  Customer Lname                 180511 non-null  object \n 15  Customer Password              180519 non-null  object \n 16  Customer Segment               180519 non-null  object \n 17  Customer State                 180519 non-null  object \n 18  Customer Street                180519 non-null  object \n 19  Customer Zipcode               180516 non-null  float64\n 20  Department Id                  180519 non-null  int64  \n 21  Department Name                180519 non-null  object \n 22  Latitude                       180519 non-null  float64\n 23  Longitude                      180519 non-null  float64\n 24  Market                         180519 non-null  object \n 25  Order City                     180519 non-null  object \n 26  Order Country                  180519 non-null  object \n 27  Order Customer Id              180519 non-null  int64  \n 28  order date (DateOrders)        180519 non-null  object \n 29  Order Id                       180519 non-null  int64  \n 30  Order Item Cardprod Id         180519 non-null  int64  \n 31  Order Item Discount            180519 non-null  float64\n 32  Order Item Discount Rate       180519 non-null  float64\n 33  Order Item Id                  180519 non-null  int64  \n 34  Order Item Product Price       180519 non-null  float64\n 35  Order Item Profit Ratio        180519 non-null  float64\n 36  Order Item Quantity            180519 non-null  int64  \n 37  Sales                          180519 non-null  float64\n 38  Order Item Total               180519 non-null  float64\n 39  Order Profit Per Order         180519 non-null  float64\n 40  Order Region                   180519 non-null  object \n 41  Order State                    180519 non-null  object \n 42  Order Status                   180519 non-null  object \n 43  Order Zipcode                  24840 non-null   float64\n 44  Product Card Id                180519 non-null  int64  \n 45  Product Category Id            180519 non-null  int64  \n 46  Product Description            0 non-null       float64\n 47  Product Image                  180519 non-null  object \n 48  Product Name                   180519 non-null  object \n 49  Product Price                  180519 non-null  float64\n 50  Product Status                 180519 non-null  int64  \n 51  shipping date (DateOrders)     180519 non-null  object \n 52  Shipping Mode                  180519 non-null  object \ndtypes: float64(15), int64(14), object(24)\nmemory usage: 73.0+ MB\n"
     ]
    }
   ],
   "source": [
    "df.info()"
   ]
  },
  {
   "cell_type": "code",
   "execution_count": 26,
   "metadata": {},
   "outputs": [
    {
     "output_type": "execute_result",
     "data": {
      "text/plain": [
       "Index(['Customer Lname', 'Customer Zipcode', 'Order Zipcode',\n",
       "       'Product Description'],\n",
       "      dtype='object')"
      ]
     },
     "metadata": {},
     "execution_count": 26
    }
   ],
   "source": [
    "df.columns[df.isnull().any()]"
   ]
  },
  {
   "cell_type": "code",
   "execution_count": 27,
   "metadata": {},
   "outputs": [],
   "source": [
    "#Excluindo colunas desnecessárias. \"inplace=True\" apaga do dataframe de trabalho.\n",
    "df.drop(columns=['Customer Lname'], inplace=True)"
   ]
  },
  {
   "cell_type": "code",
   "execution_count": 18,
   "metadata": {},
   "outputs": [
    {
     "output_type": "stream",
     "name": "stdout",
     "text": [
      "<class 'pandas.core.frame.DataFrame'>\nRangeIndex: 180519 entries, 0 to 180518\nData columns (total 52 columns):\n #   Column                         Non-Null Count   Dtype  \n---  ------                         --------------   -----  \n 0   Type                           180519 non-null  object \n 1   Days for shipping (real)       180519 non-null  int64  \n 2   Days for shipment (scheduled)  180519 non-null  int64  \n 3   Benefit per order              180519 non-null  float64\n 4   Sales per customer             180519 non-null  float64\n 5   Delivery Status                180519 non-null  object \n 6   Late_delivery_risk             180519 non-null  int64  \n 7   Category Id                    180519 non-null  int64  \n 8   Category Name                  180519 non-null  object \n 9   Customer City                  180519 non-null  object \n 10  Customer Country               180519 non-null  object \n 11  Customer Email                 180519 non-null  object \n 12  Customer Fname                 180519 non-null  object \n 13  Customer Id                    180519 non-null  int64  \n 14  Customer Password              180519 non-null  object \n 15  Customer Segment               180519 non-null  object \n 16  Customer State                 180519 non-null  object \n 17  Customer Street                180519 non-null  object \n 18  Customer Zipcode               180516 non-null  float64\n 19  Department Id                  180519 non-null  int64  \n 20  Department Name                180519 non-null  object \n 21  Latitude                       180519 non-null  float64\n 22  Longitude                      180519 non-null  float64\n 23  Market                         180519 non-null  object \n 24  Order City                     180519 non-null  object \n 25  Order Country                  180519 non-null  object \n 26  Order Customer Id              180519 non-null  int64  \n 27  order date (DateOrders)        180519 non-null  object \n 28  Order Id                       180519 non-null  int64  \n 29  Order Item Cardprod Id         180519 non-null  int64  \n 30  Order Item Discount            180519 non-null  float64\n 31  Order Item Discount Rate       180519 non-null  float64\n 32  Order Item Id                  180519 non-null  int64  \n 33  Order Item Product Price       180519 non-null  float64\n 34  Order Item Profit Ratio        180519 non-null  float64\n 35  Order Item Quantity            180519 non-null  int64  \n 36  Sales                          180519 non-null  float64\n 37  Order Item Total               180519 non-null  float64\n 38  Order Profit Per Order         180519 non-null  float64\n 39  Order Region                   180519 non-null  object \n 40  Order State                    180519 non-null  object \n 41  Order Status                   180519 non-null  object \n 42  Order Zipcode                  24840 non-null   float64\n 43  Product Card Id                180519 non-null  int64  \n 44  Product Category Id            180519 non-null  int64  \n 45  Product Description            0 non-null       float64\n 46  Product Image                  180519 non-null  object \n 47  Product Name                   180519 non-null  object \n 48  Product Price                  180519 non-null  float64\n 49  Product Status                 180519 non-null  int64  \n 50  shipping date (DateOrders)     180519 non-null  object \n 51  Shipping Mode                  180519 non-null  object \ndtypes: float64(15), int64(14), object(23)\nmemory usage: 71.6+ MB\n"
     ]
    }
   ],
   "source": [
    "df.info()\n"
   ]
  },
  {
   "cell_type": "code",
   "execution_count": 25,
   "metadata": {},
   "outputs": [
    {
     "output_type": "stream",
     "name": "stdout",
     "text": [
      "<div class=\"BodyText\">\n",
      "<!-- InstanceBeginEditable name=\"BodyText\" -->\n",
      "<h3>Artist names beginning with Z</h3><table>\n",
      "<tr valign=\"top\"><td><a href=\"/web/20121007172955/https://www.nga.gov/cgi-bin/tsearch?artistid=11630\">Zabaglia, Niccola</a></td><td>Italian, 1664 - 1750</td></tr>\n",
      "<tr valign=\"top\"><td><a href=\"/web/20121007172955/https://www.nga.gov/cgi-bin/tsearch?artistid=34202\">Zaccone, Fabian</a></td><td>American, 1910 - 1992</td></tr>\n",
      "<tr valign=\"top\"><td><a href=\"/web/20121007172955/https://www.nga.gov/cgi-bin/tsearch?artistid=3475\">Zadkine, Ossip</a></td><td>French, 1890 - 1967</td></tr>\n",
      "<tr valign=\"top\"><td><a href=\"/web/20121007172955/https://www.nga.gov/cgi-bin/tsearch?artistid=25135\">Zaech, Bernhard</a></td><td>German, active c. 1650</td></tr>\n",
      "<tr valign=\"top\"><td><a href=\"/web/20121007172955/https://www.nga.gov/cgi-bin/tsearch?artistid=2298\">Zagar, Jacob</a></td><td>Flemish, c. 1530 - after 1580</td></tr>\n",
      "<tr valign=\"top\"><td><a href=\"/web/20121007172955/https://www.nga.gov/cgi-bin/tsearch?artistid=23988\">Zagroba, Idalia</a></td><td>Polish, born 1967</td></tr>\n",
      "<tr valign=\"top\"><td><a href=\"/web/20121007172955/https://www.nga.gov/cgi-bin/tsearch?artistid=8232\">Zaidenberg, A.</a></td><td>American, active c. 1935</td></tr>\n",
      "<tr valign=\"top\"><td><a href=\"/web/20121007172955/https://www.nga.gov/cgi-bin/tsearch?artistid=34154\">Zaidenberg, Arthur</a></td><td>American, 1903 - 1990</td></tr>\n",
      "<tr valign=\"top\"><td><a href=\"/web/20121007172955/https://www.nga.gov/cgi-bin/tsearch?artistid=4910\">Zaisinger, Matthäus</a></td><td>German, active c. 1500</td></tr>\n",
      "<tr valign=\"top\"><td><a href=\"/web/20121007172955/https://www.nga.gov/cgi-bin/tsearch?artistid=3450\">Zajac, Jack</a></td><td>American, born 1929</td></tr>\n",
      "<tr valign=\"top\"><td><a href=\"/web/20121007172955/https://www.nga.gov/cgi-bin/tsearch?artistid=1986\">Zak, Eugène</a></td><td>Polish, 1884 - 1926</td></tr>\n",
      "<tr valign=\"top\"><td><a href=\"/web/20121007172955/https://www.nga.gov/cgi-bin/tsearch?artistid=3451\">Zakharov, Gurii Fillipovich</a></td><td>Russian, born 1926</td></tr>\n",
      "<tr valign=\"top\"><td><a href=\"/web/20121007172955/https://www.nga.gov/cgi-bin/tsearch?artistid=20099\">Zakowortny, Igor</a></td><td></td></tr>\n",
      "<tr valign=\"top\"><td><a href=\"/web/20121007172955/https://www.nga.gov/cgi-bin/tsearch?artistid=3452\">Zalce, Alfredo</a></td><td>Mexican, born 1908</td></tr>\n",
      "<tr valign=\"top\"><td><a href=\"/web/20121007172955/https://www.nga.gov/cgi-bin/tsearch?artistid=34309\">Zalopany, Michele</a></td><td>American, born 1955</td></tr>\n",
      "<tr valign=\"top\"><td><a href=\"/web/20121007172955/https://www.nga.gov/cgi-bin/tsearch?artistid=27191\">Zammiello, Craig</a></td><td></td></tr>\n",
      "<tr valign=\"top\"><td><a href=\"/web/20121007172955/https://www.nga.gov/cgi-bin/tsearch?artistid=5846\">Zammitt, Norman</a></td><td>American, born 1931</td></tr>\n",
      "<tr valign=\"top\"><td><a href=\"/web/20121007172955/https://www.nga.gov/cgi-bin/tsearch?artistid=3941\">Zampieri, Domenico</a></td><td>Italian, 1581 - 1641</td></tr>\n",
      "<tr valign=\"top\"><td><a href=\"/web/20121007172955/https://www.nga.gov/cgi-bin/tsearch?artistid=3941\">Zampieri, called Domenichino, Domenico</a></td><td>Italian, 1581 - 1641</td></tr>\n",
      "<tr valign=\"top\"><td><a href=\"/web/20121007172955/https://www.nga.gov/cgi-bin/tsearch?artistid=3453\">Zanartú, Enrique Antunez</a></td><td>Chilean, born 1921</td></tr>\n",
      "<tr valign=\"top\"><td><a href=\"/web/20121007172955/https://www.nga.gov/cgi-bin/tsearch?artistid=35173\">Zanchi, Antonio</a></td><td>Italian, 1631 - 1722</td></tr>\n",
      "<tr valign=\"top\"><td><a href=\"/web/20121007172955/https://www.nga.gov/cgi-bin/tsearch?artistid=11133\">Zanetti, Anton Maria</a></td><td>Italian, 1679/1680 - 1767</td></tr>\n",
      "<tr valign=\"top\"><td><a href=\"/web/20121007172955/https://www.nga.gov/cgi-bin/tsearch?artistid=3455\">Zanetti Borzino, Leopoldina</a></td><td>Italian, 1826 - 1902</td></tr>\n",
      "<tr valign=\"top\"><td><a href=\"/web/20121007172955/https://www.nga.gov/cgi-bin/tsearch?artistid=3454\">Zanetti I, Antonio Maria, conte</a></td><td>Italian, 1680 - 1757</td></tr>\n",
      "<tr valign=\"top\"><td><a href=\"/web/20121007172955/https://www.nga.gov/cgi-bin/tsearch?artistid=961\">Zanguidi, Jacopo</a></td><td>Italian, 1544 - 1573/1574</td></tr>\n",
      "<tr valign=\"top\"><td><a href=\"/web/20121007172955/https://www.nga.gov/cgi-bin/tsearch?artistid=11597\">Zanini, Giuseppe</a></td><td>Italian, c. 1599 - 1631</td></tr>\n",
      "<tr valign=\"top\"><td><a href=\"/web/20121007172955/https://www.nga.gov/cgi-bin/tsearch?artistid=11597\">Zanini-Viola, Giuseppe</a></td><td>Italian, c. 1599 - 1631</td></tr>\n",
      "<tr valign=\"top\"><td><a href=\"/web/20121007172955/https://www.nga.gov/cgi-bin/tsearch?artistid=11631\">Zanotti, Giampietro</a></td><td>Italian, 1674 - 1765</td></tr>\n",
      "<tr valign=\"top\"><td><a href=\"/web/20121007172955/https://www.nga.gov/cgi-bin/tsearch?artistid=3427\">Zao Wou-Ki</a></td><td>French, born 1921</td></tr>\n",
      "</table>\n",
      "<br/><br/>\n",
      "\n",
      "<!-- InstanceEndEditable -->\n",
      "</div>\n",
      "<div class=\"BodyText\">\n",
      "<!-- InstanceBeginEditable name=\"BodyText\" -->\n",
      "<h3>Artist names beginning with Z</h3><table>\n",
      "<tr valign=\"top\"><td><a href=\"/web/20121010201024/http://www.nga.gov/cgi-bin/tsearch?artistid=4910\">Zasinger, Matthäus</a></td><td>German, active c. 1500</td></tr>\n",
      "<tr valign=\"top\"><td><a href=\"/web/20121010201024/http://www.nga.gov/cgi-bin/tsearch?artistid=8233\">Zausch, W.W.</a></td><td>American, active c. 1935</td></tr>\n",
      "<tr valign=\"top\"><td><a href=\"/web/20121010201024/http://www.nga.gov/cgi-bin/tsearch?artistid=24008\">Zawadzka, Ewa</a></td><td>Polish, born 1950</td></tr>\n",
      "<tr valign=\"top\"><td><a href=\"/web/20121010201024/http://www.nga.gov/cgi-bin/tsearch?artistid=34155\">Zawisa, Bernard</a></td><td>American, 1920 - 1985</td></tr>\n",
      "<tr valign=\"top\"><td><a href=\"/web/20121010201024/http://www.nga.gov/cgi-bin/tsearch?artistid=9371\">Zayas, Marius de</a></td><td>Mexican, 1880 - 1961</td></tr>\n",
      "<tr valign=\"top\"><td><a href=\"/web/20121010201024/http://www.nga.gov/cgi-bin/tsearch?artistid=10413\">Zazeela, Marian</a></td><td>American, born 1940</td></tr>\n",
      "<tr valign=\"top\"><td><a href=\"/web/20121010201024/http://www.nga.gov/cgi-bin/tsearch?artistid=29969\">Zec, Safet</a></td><td>born 1943</td></tr>\n",
      "<tr valign=\"top\"><td><a href=\"/web/20121010201024/http://www.nga.gov/cgi-bin/tsearch?artistid=3456\">Zeeman</a></td><td>Dutch, 1624 - 1664</td></tr>\n",
      "<tr valign=\"top\"><td><a href=\"/web/20121010201024/http://www.nga.gov/cgi-bin/tsearch?artistid=3456\">Zeeman, Reinier</a></td><td>Dutch, 1624 - 1664</td></tr>\n",
      "<tr valign=\"top\"><td><a href=\"/web/20121010201024/http://www.nga.gov/cgi-bin/tsearch?artistid=3456\">Zeeman, Reinier Nooms, called</a></td><td>Dutch, 1624 - 1664</td></tr>\n",
      "<tr valign=\"top\"><td><a href=\"/web/20121010201024/http://www.nga.gov/cgi-bin/tsearch?artistid=30199\">Zehender, Gabriel</a></td><td>Swiss, active 1527 - 1535</td></tr>\n",
      "<tr valign=\"top\"><td><a href=\"/web/20121010201024/http://www.nga.gov/cgi-bin/tsearch?artistid=20160\">Zein, Kurt</a></td><td></td></tr>\n",
      "<tr valign=\"top\"><td><a href=\"/web/20121010201024/http://www.nga.gov/cgi-bin/tsearch?artistid=5459\">Zeissig, Johann Eleazar</a></td><td>German, 1737 - 1806</td></tr>\n",
      "<tr valign=\"top\"><td><a href=\"/web/20121010201024/http://www.nga.gov/cgi-bin/tsearch?artistid=3457\">Zelenko, Karel</a></td><td>Yugoslavian, born 1925</td></tr>\n",
      "<tr valign=\"top\"><td><a href=\"/web/20121010201024/http://www.nga.gov/cgi-bin/tsearch?artistid=1987\">Zeliff, Amzi Emmons</a></td><td>American, 1831 - 1915</td></tr>\n",
      "<tr valign=\"top\"><td><a href=\"/web/20121010201024/http://www.nga.gov/cgi-bin/tsearch?artistid=35687\">Zeller, Daniel</a></td><td>American, born 1965</td></tr>\n",
      "<tr valign=\"top\"><td><a href=\"/web/20121010201024/http://www.nga.gov/cgi-bin/tsearch?artistid=31402\">Zeman, Jakub</a></td><td>Czech, active 21st century</td></tr>\n",
      "<tr valign=\"top\"><td><a href=\"/web/20121010201024/http://www.nga.gov/cgi-bin/tsearch?artistid=24890\">Zenatá, Kamila</a></td><td>Czech, born 1953</td></tr>\n",
      "<tr valign=\"top\"><td><a href=\"/web/20121010201024/http://www.nga.gov/cgi-bin/tsearch?artistid=3458\">Zenone, Vincent</a></td><td>American, active 20th century</td></tr>\n",
      "<tr valign=\"top\"><td><a href=\"/web/20121010201024/http://www.nga.gov/cgi-bin/tsearch?artistid=14971\">Zepeda, Anthony</a></td><td></td></tr>\n",
      "<tr valign=\"top\"><td><a href=\"/web/20121010201024/http://www.nga.gov/cgi-bin/tsearch?artistid=3459\">Zertahelli, Leonhard</a></td><td>German, active 1809/1852</td></tr>\n",
      "<tr valign=\"top\"><td><a href=\"/web/20121010201024/http://www.nga.gov/cgi-bin/tsearch?artistid=3459\">Zertahelly, Leonhard</a></td><td>German, active 1809/1852</td></tr>\n",
      "<tr valign=\"top\"><td><a href=\"/web/20121010201024/http://www.nga.gov/cgi-bin/tsearch?artistid=6335\">Zetter, Paul de</a></td><td>German, c. 1600 - 1667 or after</td></tr>\n",
      "<tr valign=\"top\"><td><a href=\"/web/20121010201024/http://www.nga.gov/cgi-bin/tsearch?artistid=21745\">Zhitomirsky, Alexander</a></td><td>Russian, 1907 - 1993</td></tr>\n",
      "<tr valign=\"top\"><td><a href=\"/web/20121010201024/http://www.nga.gov/cgi-bin/tsearch?artistid=3460\">Ziarnko, Jan</a></td><td>Polish, active 1596/1629</td></tr>\n",
      "<tr valign=\"top\"><td><a href=\"/web/20121010201024/http://www.nga.gov/cgi-bin/tsearch?artistid=36211\">Zick, Januarius</a></td><td>German, 1730 - 1797</td></tr>\n",
      "<tr valign=\"top\"><td><a href=\"/web/20121010201024/http://www.nga.gov/cgi-bin/tsearch?artistid=3461\">Ziegler, Henry</a></td><td>American, 1889 - 1968</td></tr>\n",
      "<tr valign=\"top\"><td><a href=\"/web/20121010201024/http://www.nga.gov/cgi-bin/tsearch?artistid=3462\">Ziegler, Johann</a></td><td>Austrian, c. 1750 - c. 1812</td></tr>\n",
      "<tr valign=\"top\"><td><a href=\"/web/20121010201024/http://www.nga.gov/cgi-bin/tsearch?artistid=28420\">Ziem, Felix</a></td><td>French, 1821 - 1911</td></tr>\n",
      "</table>\n",
      "<br/><br/>\n",
      "\n",
      "<!-- InstanceEndEditable -->\n",
      "</div>\n",
      "<div class=\"BodyText\">\n",
      "<!-- InstanceBeginEditable name=\"BodyText\" -->\n",
      "<h3>Artist names beginning with Z</h3><table>\n",
      "<tr valign=\"top\"><td><a href=\"/web/20121010201019/http://www.nga.gov/cgi-bin/tsearch?artistid=3463\">Ziemann, Richard Claude</a></td><td>American, born 1932</td></tr>\n",
      "<tr valign=\"top\"><td><a href=\"/web/20121010201019/http://www.nga.gov/cgi-bin/tsearch?artistid=21152\">Ziesenis, Johann Georg</a></td><td>German, 1716 - 1776</td></tr>\n",
      "<tr valign=\"top\"><td><a href=\"/web/20121010201019/http://www.nga.gov/cgi-bin/tsearch?artistid=8234\">Ziger, Dan</a></td><td>American, active c. 1935</td></tr>\n",
      "<tr valign=\"top\"><td><a href=\"/web/20121010201019/http://www.nga.gov/cgi-bin/tsearch?artistid=16939\">Zille, Heinrich</a></td><td>German, 1858 - 1929</td></tr>\n",
      "<tr valign=\"top\"><td><a href=\"/web/20121010201019/http://www.nga.gov/cgi-bin/tsearch?artistid=34156\">Zilzer, Gyula</a></td><td>American, 1898 - 1969</td></tr>\n",
      "<tr valign=\"top\"><td><a href=\"/web/20121010201019/http://www.nga.gov/cgi-bin/tsearch?artistid=8235\">Zimet, A.</a></td><td>American, active c. 1935</td></tr>\n",
      "<tr valign=\"top\"><td><a href=\"/web/20121010201019/http://www.nga.gov/cgi-bin/tsearch?artistid=3464\">Zimiles, Murray</a></td><td>American, born 1941</td></tr>\n",
      "<tr valign=\"top\"><td><a href=\"/web/20121010201019/http://www.nga.gov/cgi-bin/tsearch?artistid=3465\">Zimmermann, Jacques</a></td><td>Belgian, born 1929</td></tr>\n",
      "<tr valign=\"top\"><td><a href=\"/web/20121010201019/http://www.nga.gov/cgi-bin/tsearch?artistid=7090\">Zimmermann, Joachim</a></td><td>German, born 1875</td></tr>\n",
      "<tr valign=\"top\"><td><a href=\"/web/20121010201019/http://www.nga.gov/cgi-bin/tsearch?artistid=6545\">Zimmermann, Mac</a></td><td>German, born 1912</td></tr>\n",
      "<tr valign=\"top\"><td><a href=\"/web/20121010201019/http://www.nga.gov/cgi-bin/tsearch?artistid=34157\">Zingale, Santos</a></td><td>American, 1908 - 1999</td></tr>\n",
      "<tr valign=\"top\"><td><a href=\"/web/20121010201019/http://www.nga.gov/cgi-bin/tsearch?artistid=5624\">Zingg, Adrian</a></td><td>Swiss, 1734 - 1816</td></tr>\n",
      "<tr valign=\"top\"><td><a href=\"/web/20121010201019/http://www.nga.gov/cgi-bin/tsearch?artistid=3466\">Zirker, Joseph</a></td><td>American, born 1924</td></tr>\n",
      "<tr valign=\"top\"><td><a href=\"/web/20121010201019/http://www.nga.gov/cgi-bin/tsearch?artistid=8236\">Zito, Emilio</a></td><td>American, active c. 1935</td></tr>\n",
      "<tr valign=\"top\"><td><a href=\"/web/20121010201019/http://www.nga.gov/cgi-bin/tsearch?artistid=1878\">Zittoz, Miguel</a></td><td>Netherlandish, c. 1469 - 1525/1526</td></tr>\n",
      "<tr valign=\"top\"><td><a href=\"/web/20121010201019/http://www.nga.gov/cgi-bin/tsearch?artistid=2902\">Zoan Andrea</a></td><td>Italian, active c. 1475/1519</td></tr>\n",
      "<tr valign=\"top\"><td><a href=\"/web/20121010201019/http://www.nga.gov/cgi-bin/tsearch?artistid=3467\">Zocchi, Giuseppe</a></td><td>Italian, 1711 - 1767</td></tr>\n",
      "<tr valign=\"top\"><td><a href=\"/web/20121010201019/http://www.nga.gov/cgi-bin/tsearch?artistid=34158\">Zoellner, Richard Charles</a></td><td>American, 1908 - 2003</td></tr>\n",
      "<tr valign=\"top\"><td><a href=\"/web/20121010201019/http://www.nga.gov/cgi-bin/tsearch?artistid=1988\">Zoffany, Johann</a></td><td>British, 1733 - 1810</td></tr>\n",
      "<tr valign=\"top\"><td><a href=\"/web/20121010201019/http://www.nga.gov/cgi-bin/tsearch?artistid=1988\">Zoffany, John</a></td><td>British, 1733 - 1810</td></tr>\n",
      "<tr valign=\"top\"><td><a href=\"/web/20121010201019/http://www.nga.gov/cgi-bin/tsearch?artistid=34159\">Zogbaum, Wilfred M.</a></td><td>American, 1915 - 1965</td></tr>\n",
      "<tr valign=\"top\"><td><a href=\"/web/20121010201019/http://www.nga.gov/cgi-bin/tsearch?artistid=9988\">Zompini, Gaetano</a></td><td>Italian, 1700 - 1778</td></tr>\n",
      "<tr valign=\"top\"><td><a href=\"/web/20121010201019/http://www.nga.gov/cgi-bin/tsearch?artistid=1989\">Zoppo, Marco</a></td><td>Italian, 1433 - 1478</td></tr>\n",
      "<tr valign=\"top\"><td><a href=\"/web/20121010201019/http://www.nga.gov/cgi-bin/tsearch?artistid=1990\">Zorach, Marguerite</a></td><td>American, 1887 - 1968</td></tr>\n",
      "<tr valign=\"top\"><td><a href=\"/web/20121010201019/http://www.nga.gov/cgi-bin/tsearch?artistid=2299\">Zorach, William</a></td><td>American, 1887 - 1966</td></tr>\n",
      "<tr valign=\"top\"><td><a href=\"/web/20121010201019/http://www.nga.gov/cgi-bin/tsearch?artistid=31202\">Zorio, Gilberto</a></td><td>Italian, born 1944</td></tr>\n",
      "<tr valign=\"top\"><td><a href=\"/web/20121010201019/http://www.nga.gov/cgi-bin/tsearch?artistid=1991\">Zorn, Anders</a></td><td>Swedish, 1860 - 1920</td></tr>\n",
      "<tr valign=\"top\"><td><a href=\"/web/20121010201019/http://www.nga.gov/cgi-bin/tsearch?artistid=1991\">Zorn, Anders Leonard</a></td><td>Swedish, 1860 - 1920</td></tr>\n",
      "<tr valign=\"top\"><td><a href=\"/web/20121010201019/http://www.nga.gov/cgi-bin/tsearch?artistid=24832\">Zorner, Rudolf</a></td><td>Czech, born 1941</td></tr>\n",
      "</table>\n",
      "<br/><br/>\n",
      "\n",
      "<!-- InstanceEndEditable -->\n",
      "</div>\n",
      "<div class=\"BodyText\">\n",
      "<!-- InstanceBeginEditable name=\"BodyText\" -->\n",
      "<h3>Artist names beginning with Z</h3><table>\n",
      "<tr valign=\"top\"><td><a href=\"/web/20121010201041/http://www.nga.gov/cgi-bin/tsearch?artistid=1341\">Zorzo da Castelfranco</a></td><td>Italian, 1477/1478 - 1510</td></tr>\n",
      "<tr valign=\"top\"><td><a href=\"/web/20121010201041/http://www.nga.gov/cgi-bin/tsearch?artistid=6731\">Zox, Larry</a></td><td>American, 1937 - 2006</td></tr>\n",
      "<tr valign=\"top\"><td><a href=\"/web/20121010201041/http://www.nga.gov/cgi-bin/tsearch?artistid=6496\">Zsissly</a></td><td>American, 1897 - 1983</td></tr>\n",
      "<tr valign=\"top\"><td><a href=\"/web/20121010201041/http://www.nga.gov/cgi-bin/tsearch?artistid=6350\">Zuccarelli, Francesco</a></td><td>Italian, 1702 - 1788</td></tr>\n",
      "<tr valign=\"top\"><td><a href=\"/web/20121010201041/http://www.nga.gov/cgi-bin/tsearch?artistid=8237\">Zuccarello, Anthony</a></td><td>American, active c. 1935</td></tr>\n",
      "<tr valign=\"top\"><td><a href=\"/web/20121010201041/http://www.nga.gov/cgi-bin/tsearch?artistid=2812\">Zuccari, Federico</a></td><td>Italian, 1542/1543 - 1609</td></tr>\n",
      "<tr valign=\"top\"><td><a href=\"/web/20121010201041/http://www.nga.gov/cgi-bin/tsearch?artistid=2813\">Zuccari, Taddeo</a></td><td>Italian, 1529 - 1566</td></tr>\n",
      "<tr valign=\"top\"><td><a href=\"/web/20121010201041/http://www.nga.gov/cgi-bin/tsearch?artistid=2812\">Zuccaro, Federico</a></td><td>Italian, 1542/1543 - 1609</td></tr>\n",
      "<tr valign=\"top\"><td><a href=\"/web/20121010201041/http://www.nga.gov/cgi-bin/tsearch?artistid=2812\">Zuccaro, Federigo</a></td><td>Italian, 1542/1543 - 1609</td></tr>\n",
      "<tr valign=\"top\"><td><a href=\"/web/20121010201041/http://www.nga.gov/cgi-bin/tsearch?artistid=2813\">Zuccaro, Taddeo</a></td><td>Italian, 1529 - 1566</td></tr>\n",
      "<tr valign=\"top\"><td><a href=\"/web/20121010201041/http://www.nga.gov/cgi-bin/tsearch?artistid=3468\">Zucchi, Andrea</a></td><td>Italian, 1679 - 1740</td></tr>\n",
      "<tr valign=\"top\"><td><a href=\"/web/20121010201041/http://www.nga.gov/cgi-bin/tsearch?artistid=6040\">Zucchi, Antonio</a></td><td>Italian, 1726 - 1795</td></tr>\n",
      "<tr valign=\"top\"><td><a href=\"/web/20121010201041/http://www.nga.gov/cgi-bin/tsearch?artistid=3469\">Zucchi, Francesco</a></td><td>Italian, 1692 - 1764</td></tr>\n",
      "<tr valign=\"top\"><td><a href=\"/web/20121010201041/http://www.nga.gov/cgi-bin/tsearch?artistid=20911\">Zucchi, Giuseppe Carlo</a></td><td>Italian, 18th century</td></tr>\n",
      "<tr valign=\"top\"><td><a href=\"/web/20121010201041/http://www.nga.gov/cgi-bin/tsearch?artistid=5578\">Zucchi, Jacopo</a></td><td>Italian, c. 1541 - c. 1590</td></tr>\n",
      "<tr valign=\"top\"><td><a href=\"/web/20121010201041/http://www.nga.gov/cgi-bin/tsearch?artistid=3470\">Zucchi, Lorenzo</a></td><td>Italian, 1704 - 1779</td></tr>\n",
      "<tr valign=\"top\"><td><a href=\"/web/20121010201041/http://www.nga.gov/cgi-bin/tsearch?artistid=34160\">Zuelch, Clarence Edward</a></td><td>American, 1904 - 1973</td></tr>\n",
      "<tr valign=\"top\"><td><a href=\"/web/20121010201041/http://www.nga.gov/cgi-bin/tsearch?artistid=1992\">Zuloaga, Ignacio</a></td><td>Spanish, 1870 - 1945</td></tr>\n",
      "<tr valign=\"top\"><td><a href=\"/web/20121010201041/http://www.nga.gov/cgi-bin/tsearch?artistid=1992\">Zuloaga y Zabaleta, Ignacio</a></td><td>Spanish, 1870 - 1945</td></tr>\n",
      "<tr valign=\"top\"><td><a href=\"/web/20121010201041/http://www.nga.gov/cgi-bin/tsearch?artistid=34984\">Zumwalt, Gail Delaney</a></td><td>American, 1917 - 1976</td></tr>\n",
      "<tr valign=\"top\"><td><a href=\"/web/20121010201041/http://www.nga.gov/cgi-bin/tsearch?artistid=3471\">Zundt, Mathis</a></td><td>German, probably 1498 - 1572</td></tr>\n",
      "<tr valign=\"top\"><td><a href=\"/web/20121010201041/http://www.nga.gov/cgi-bin/tsearch?artistid=8238\">Zupa, Nicholas</a></td><td>American, active c. 1935</td></tr>\n",
      "<tr valign=\"top\"><td><a href=\"/web/20121010201041/http://www.nga.gov/cgi-bin/tsearch?artistid=1993\">Zurbarán, Francisco de</a></td><td>Spanish, 1598 - 1664</td></tr>\n",
      "<tr valign=\"top\"><td><a href=\"/web/20121010201041/http://www.nga.gov/cgi-bin/tsearch?artistid=2767\">Zustris, Friedrich</a></td><td>German, c. 1540 - 1599</td></tr>\n",
      "<tr valign=\"top\"><td><a href=\"/web/20121010201041/http://www.nga.gov/cgi-bin/tsearch?artistid=3472\">Zutman III, Lambert</a></td><td>Flemish, c. 1510 - 1567</td></tr>\n",
      "<tr valign=\"top\"><td><a href=\"/web/20121010201041/http://www.nga.gov/cgi-bin/tsearch?artistid=5713\">Zwiers, Willem</a></td><td>Dutch, born 1922</td></tr>\n",
      "<tr valign=\"top\"><td><a href=\"/web/20121010201041/http://www.nga.gov/cgi-bin/tsearch?artistid=5713\">Zwiers, Wim</a></td><td>Dutch, born 1922</td></tr>\n",
      "<tr valign=\"top\"><td><a href=\"/web/20121010201041/http://www.nga.gov/cgi-bin/tsearch?artistid=8239\">Zwysen, Henry</a></td><td>American, active c. 1935</td></tr>\n",
      "<tr valign=\"top\"><td><a href=\"/web/20121010201041/http://www.nga.gov/cgi-bin/tsearch?artistid=24614\">Zykmund, Václav</a></td><td>Czech, 1914 - 1985</td></tr>\n",
      "</table>\n",
      "<br/><br/>\n",
      "\n",
      "<!-- InstanceEndEditable -->\n",
      "</div>\n"
     ]
    }
   ],
   "source": [
    "import requests\n",
    "import csv\n",
    "from bs4 import BeautifulSoup\n",
    "\n",
    "\n",
    "f = csv.writer(open('z-artist-names.csv', 'w'))\n",
    "f.writerow(['Name', 'Link'])\n",
    "\n",
    "pages = []\n",
    "\n",
    "for i in range(1, 5):\n",
    "    url = 'https://web.archive.org/web/20121007172955/https://www.nga.gov/collection/anZ' + str(i) + '.htm'\n",
    "    pages.append(url)\n",
    "\n",
    "\n",
    "for item in pages:\n",
    "    page = requests.get(item)\n",
    "    soup = BeautifulSoup(page.text, 'html.parser')\n",
    "\n",
    "    last_links = soup.find(class_='AlphaNav')\n",
    "    last_links.decompose()\n",
    "\n",
    "    artist_name_list = soup.find(class_='BodyText')\n",
    "    print(artist_name_list)\n",
    "    artist_name_list_items = artist_name_list.find_all('a')\n",
    "\n",
    "    for artist_name in artist_name_list_items:\n",
    "        names = artist_name.contents[0]\n",
    "        links = 'https://web.archive.org' + artist_name.get('href')\n",
    "\n",
    "        f.writerow([names, links])\n",
    "\n"
   ]
  },
  {
   "cell_type": "code",
   "execution_count": null,
   "metadata": {},
   "outputs": [],
   "source": []
  }
 ],
 "metadata": {
  "kernelspec": {
   "display_name": "Python 3",
   "language": "python",
   "name": "python3"
  },
  "language_info": {
   "codemirror_mode": {
    "name": "ipython",
    "version": 3
   },
   "file_extension": ".py",
   "mimetype": "text/x-python",
   "name": "python",
   "nbconvert_exporter": "python",
   "pygments_lexer": "ipython3",
   "version": "3.8.5-final"
  }
 },
 "nbformat": 4,
 "nbformat_minor": 4
}