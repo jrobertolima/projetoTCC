{
 "cells": [
  {
   "cell_type": "markdown",
   "metadata": {},
   "source": [
    "### 1. Definição do problema <br>\n",
    "#### 1.1 Contextualização <br>\n",
    "<p> O subfaturamento de mercadorias importadas é um problema relevante no contexto do coḿercio internacional. \n",
    "<br><br> O intento buscado pelos importadores com tal prática é a redução de custos, diminuindo fraudulentamente o preço dos bens importados, visando o menor recolhimento de valores referentes aos  tributos incidentes sobre uma operação de importação. \n",
    "</p>\n",
    "\n",
    "#### 1.2 O problema proposto <br>\n",
    "<p> Além do prejuízo aos cofres públicos, o subfaturamento do preço de mercadorias importadas é um atentado à concorrência comercial e à indústria nacional, pois reduz artificialmente os custos dos bens importados quando se tem como referência os custos de produtos nacionais. \n",
    "<br><br>O objetivo deste trabalho é apresentar uma análise sobre os preços de produtos importados pelo Brasil, comparando os valores declarados numa operação de importação com os preços praticados no comércio internacional.\n",
    "<br><br>Para isso, primeiramente, será realizado um levantamento de preços junto ao mercado mundial para um grupo de mercadorias de alto valor agregado.\n",
    "<br><br> Em seguida, buscar-se-ão os preços desses mesmos produtos declarados em processos de importação de mercadorias para o mercado nacional.\n",
    "<br><br> Por fim, far-se-á a comparação entre as médias desses valores, visando a uma conclusão quanto a indícios de fraudes - subfaturamento ou superfaturamento - nas operações de importação realizadas pelo importador nacional.\n",
    "</p>\n",
    "\n",
    "\n",
    "### 2. A coleta de dados <br>\n",
    "Os datasets usados neste trabalho foram coletados de fontes diversas, na primeira semana de março de 2021. \n",
    "<br><br> Definiu-se que os sites __www.aliexpress.com__ e __www.alibaba.com__, notórios fornecedores de produtos diversos, serão objeto de webscrapping realizado com as ferramentas de código aberto _Beautifull Soup_ e _Selenium_, as quais serão utilizadas para coletar uma gama de aproximadamente 1 mil registros de cada um desses sites.\n",
    "<br><br> Para delimitar o escopo da análise, será definido apenas uma gama de produtos, que apresenta uma variação grande de preços: __display lcd para aparelhos celulares__, NCM 8517.70.99.\n",
    "<br><br> Como base de comparação de preços, utilizaremos os dados do ano de 2021 das Estatísticas de Comércio Exterior em Dados Abertos, cujas bases podem ser encontradas em __https://balanca.economia.gov.br/balanca/bd/comexstat-bd/ncmv2/IMP_2021_V2.csv__, do Portal Comex Stat, acessado em __http://comexstat.mdic.gov.br/pt/home__.\n",
    "\n",
    "<br> As tabelas abaixo definem os campos dos datasets\n",
    "    \n",
    "<table  width=100% align=left>\n",
    "  <caption>Tabela de preços dos sites</caption>\n",
    "  <tr>\n",
    "    <th>Nome do campo</th>\n",
    "    <th>Descrição</th>\n",
    "    <th>Tipo</th>\n",
    "    <th>Valor default</th>\n",
    "  </tr>\n",
    "  <tr>\n",
    "    <td>descricao</td>\n",
    "    <td>Descrição do produto</td>\n",
    "    <td>String</td>\n",
    "    <td> - </td>  \n",
    "  </tr>\n",
    "  <tr>\n",
    "    <td>preco_minimo</td>\n",
    "    <td>Preço mínimo do produto</td>\n",
    "    <td>Float</td>\n",
    "    <td>Se valor menor que 1, preço_min=1</td>\n",
    "  </tr>\n",
    "  <tr>\n",
    "    <td>preco_maximo</td>\n",
    "    <td>Preço máximo do produto</td>\n",
    "    <td>Float</td>\n",
    "    <td>Se menor que preço mínimo, preço_max=preço_min</td>  \n",
    "  </tr>\n",
    "  <tr>\n",
    "    <td>alibaba</td>\n",
    "    <td>Informa se o dado foi coletado do site Alibaba ou AliExpress</td>\n",
    "    <td>Boolean</td>\n",
    "    <td>True, se dado coletado do site AliBaba</td>   \n",
    "  </tr>\n",
    "</table>\n",
    "<br><br>\n",
    "\n",
    "<table width=100% align=left>\n",
    "  <caption>Tabela de dados estatísticos</caption>\n",
    "  <tr>\n",
    "    <th>Nome do campo</th>\n",
    "    <th>Descrição</th>\n",
    "    <th>Tipo</th>\n",
    "  </tr>\n",
    "  <tr>\n",
    "    <td>CO_ANO</td>\n",
    "    <td>Ano da importação</td>\n",
    "    <td>Inteiro</td>\n",
    "    <td> - </td>  \n",
    "  </tr>\n",
    "  <tr>\n",
    "    <td>CO_MES</td>\n",
    "    <td>Mês da importação</td>\n",
    "    <td>Inteiro</td>\n",
    "  </tr>\n",
    "  <tr>\n",
    "    <td>CO_NCM</td>\n",
    "    <td>Código NCM do produto</td>\n",
    "    <td>Inteiro</td>\n",
    "  </tr>\n",
    "  <tr>\n",
    "    <td>CO_UNID</td>\n",
    "    <td>Código da unidade estatística</td>\n",
    "    <td>Inteiro</td>\n",
    "  </tr>\n",
    "  <tr>\n",
    "    <td>CO_PAIS</td>\n",
    "    <td>Código de país de origem do produto</td>\n",
    "    <td>Inteiro</td>\n",
    "  </tr>\n",
    "  <tr>\n",
    "    <td>SG_UF_NCM</td>\n",
    "    <td>código da UF de destino do produto</td>\n",
    "    <td>String</td>\n",
    "  </tr>\n",
    "  <tr>\n",
    "    <td>CO_VIA</td>\n",
    "    <td>código da via de transporte</td>\n",
    "    <td>Inteiro</td>\n",
    "  </tr>\n",
    "  <tr>\n",
    "    <td>CO_URF</td>\n",
    "    <td align=left>código da Unidade da Receirta Federal de desembarque</td>\n",
    "    <td>Inteiro</td>\n",
    "  </tr>\n",
    "  <tr>\n",
    "    <td>QT_ESTAT</td>\n",
    "    <td>quantidade estatística do produto</td>\n",
    "    <td>Inteiro</td>\n",
    "  </tr>\n",
    "  <tr>\n",
    "    <td>KG_LIQUIDO</td>\n",
    "    <td>quilograma líquido do produto</td>\n",
    "    <td>Inteiro</td>\n",
    "  </tr>\n",
    "  <tr>\n",
    "    <td>VL_FOB</td>\n",
    "    <td>valor FOB,em dólar</td>\n",
    "    <td>Float</td>\n",
    "  </tr>\n",
    "  <tr>\n",
    "    <td>VL_FRETE</td>\n",
    "    <td>valor frete,em dólar</td>\n",
    "    <td>Float</td>\n",
    "  </tr>\n",
    "  <tr>\n",
    "    <td>VL_SEGURO</td>\n",
    "    <td>valor do seguro,em dólar</td>\n",
    "    <td>Float</td>\n",
    "  </tr>\n",
    "</table>\n",
    "\n",
    "<br><br><br>\n",
    "\n",
    "### 3.processamento e o tratamento dos dados <br>\n",
    "\n",
    "\n",
    "olha dfadsfsda __Bold por favor__ <br>\n",
    "_Italico Olha isso_ <br>\n",
    "$ a + bX$ <br>\n",
    "__________ dfjlkaj dlkjf lkajkdj\n",
    "> item \n",
    ">>item2\n",
    ">>>item3\n",
    "- item 1\n",
    "- item 2\n",
    "1. item 1\n",
    "2. item 2 <br>\n",
    "<font color=blue>\"font color=blue\"</font><br>\n",
    "paragrafog <br> outro paragrafo<br>\n",
    "#isto é comentário\n",
    "    "
   ]
  },
  {
   "cell_type": "code",
   "execution_count": 17,
   "metadata": {
    "tags": []
   },
   "outputs": [
    {
     "name": "stdout",
     "output_type": "stream",
     "text": [
      "<class 'pandas.core.frame.DataFrame'>\n",
      "RangeIndex: 48 entries, 0 to 47\n",
      "Data columns (total 4 columns):\n",
      " #   Column        Non-Null Count  Dtype \n",
      "---  ------        --------------  ----- \n",
      " 0   descricao     48 non-null     object\n",
      " 1   preco_minimo  48 non-null     object\n",
      " 2   preco_maximo  48 non-null     object\n",
      " 3   alibaba       48 non-null     bool  \n",
      "dtypes: bool(1), object(3)\n",
      "memory usage: 1.3+ KB\n"
     ]
    }
   ],
   "source": [
    "#This code scraps 2 sites: AliExpress and AliBaba and saves the data in lista_de_precos.csv\n",
    "from bs4 import BeautifulSoup\n",
    "import csv\n",
    "import pandas as pd\n",
    "\n",
    "#bibliotecas para requisição de páginas dinâmicas\n",
    "from selenium import webdriver \n",
    "from selenium.webdriver.common.by import By\n",
    "from selenium.webdriver.common.action_chains import ActionChains\n",
    "from selenium.webdriver.firefox.options import Options\n",
    "\n",
    "import time\n",
    "import sys\n",
    "import re\n",
    "    \n",
    "def alteraIdioma():\n",
    "#This function changes AliExpress country to USA, in order to use the dolar currency\n",
    "    #Mudando o foco do mouse para a paǵina inicial\n",
    "    user_id = driver.find_element_by_xpath('//*[@id=\"nav-user-account\"]') \n",
    "    ActionChains(driver).move_to_element(user_id).click().perform()\n",
    "    time.sleep(3)\n",
    "\n",
    "    #Aqui começo a navegar para alterar o idioma\n",
    "    driver.find_element_by_xpath('//*[@id=\"switcher-info\"]').click()\n",
    "    time.sleep(3)\n",
    "    painel = driver.find_element_by_xpath('/html/body/div[2]/div[3]/div/div/div[4]/div/div/div/div[2]/div') # ('/html/body/div[1]/div[3]/div/div/div[4]/div/div')\n",
    "    painel.click()\n",
    "    #painel country selector switcher\n",
    "    time.sleep(3)\n",
    "    driver.find_element_by_xpath('/html/body/div[2]/div[3]/div/div/div[4]/div/div/div/div[2]/div/a[1]').click()\n",
    "#    driver.find_element_by_xpath('/html/body/div[1]/div[3]/div/div/div[4]/div/div/div/div[1]/div/a[1]/span/span').click()\n",
    "    time.sleep(3)\n",
    "    painel.find_element_by_xpath(\"/html/body/div[2]/div[3]/div/div/div[4]/div/div/div/div[2]/div/div[1]/ul/li[224]\").click()\n",
    "    time.sleep(1)\n",
    "    driver.find_element_by_xpath('/html/body/div[2]/div[3]/div/div/div[4]/div/div/div/div[4]/button').click()\n",
    "    driver.refresh()           \n",
    "\n",
    "#Preparando a aquisição das páginas\n",
    "#Criando informação sobre quem está fazendo o scrapping\n",
    "headers = {\n",
    "    'User-Agent': 'João Lima, from PUC-MG University',\n",
    "    'From': 'jbetol@gmail.com'\n",
    "}\n",
    "\n",
    "#Verificar se driver para Firefox (o browser que escolhi) está disponível\n",
    "try:\n",
    "# from selenium import webdriver\n",
    "#from selenium.webdriver.firefox.options import Options\n",
    "\n",
    "    options = Options()\n",
    "    options.binary_location = '/home/joao/firefox/firefox'\n",
    "    driver = webdriver.Firefox(executable_path='/home/joao/firefox/geckodriver', options=options)\n",
    "   # driver = webdriver.Firefox(executable_path = '/home/joao/firefox/geckodriver') #Documents/PosPuc/TCC/projetoTCC/geckodriver')\n",
    "except IOError:\n",
    "    sys.exit(\"Geckodriver not found!\")\n",
    "\n",
    "#Faremos o scrapping nos sites AliExpress e AliBaba, idioma inglês e dólar como moeda.   \n",
    "url_aliexpress = 'https://www.aliexpress.com/wholesale?trafficChannel=main&d=y&CatId=0&SearchText=phone+display+lcd+for+screen&ltype=wholesale&SortType=default&page='\n",
    "\n",
    "url_alibaba = 'https://www.alibaba.com/products/phone_display_lcd_screen/CID5904002.html?spm=a2700.galleryofferlist.0.0.126c1524tZVgH8&IndexArea=product_en&page='\n",
    "\n",
    "paginas = []\n",
    "qnt_paginas = 3\n",
    "passou_aliexpress = False # Para controlar a mudança de idioma e moeda\n",
    "alibaba = False # Vamos começar scrapping por AliExpress.com\n",
    "site_index = 2  # números de sites a ser scrapping: AliExpress e Alibaba\n",
    "descricao = []  #descrição das mercadorias tela de lcd para smartphone\n",
    "preco_min = []\n",
    "preco_max = []\n",
    "baba_or_express = [] #Valor booleano para saber origem do item, se AliExpress oou Alibaba\n",
    "\n",
    "#Vamos pegar 99 páginas de dados (no máximo) de cada site escolhido e jogar num array\n",
    "while site_index > 0  :\n",
    "    site_index = site_index - 1\n",
    "\n",
    "    #Montando a lista de páginas\n",
    "    for i in range(1,qnt_paginas):\n",
    "        if not alibaba:\n",
    "            url = url_aliexpress + str(i)\n",
    "        else:\n",
    "            url = url_alibaba + str(i)\n",
    "\n",
    "        paginas.append(url)\n",
    "\n",
    "    #Navegando nas páginas de aquisição de dados\n",
    "    for pagina in paginas:\n",
    "        driver.get(pagina)\n",
    "\n",
    "        #O site AliExpress pode estar em português, então temos que alterar para inglês \n",
    "        if not alibaba and not passou_aliexpress:\n",
    "            alteraIdioma()\n",
    "            passou_aliexpress = True\n",
    "\n",
    "        req = driver.page_source\n",
    "        soup = BeautifulSoup(req, \"html.parser\")\n",
    "\n",
    "        #Adquirindo a lista dos produtos que se encontra na página carregada\n",
    "        if alibaba:\n",
    "            classes = soup.find('div', class_ = \"organic-list app-organic-search__list\")\n",
    "            #Agora vamos buscar os itens da lista\n",
    "            items =  classes.find_all(class_ = 'organic-gallery-offer-outter J-offer-wrapper')\n",
    "        else:\n",
    "            classes = soup.find('ul', class_ = \"list-items\")\n",
    "            #Agora vamos buscar os itens da lista\n",
    "            try:\n",
    "                items =  classes.find_all('div', class_ = 'list-item')\n",
    "            except AttributeError: # É possível que tenhamos menos páginas do que previsto\n",
    "                break\n",
    "\n",
    "        #Para cada item, pegar apenas descrição e o preco e guardar nos arrays\n",
    "        for item in items:\n",
    "            if alibaba:\n",
    "                descricao.append(item.find('h4').get('title'))\n",
    "                preco = item.find('p', class_ = 'elements-offer-price-normal').get('title')\n",
    "            else:\n",
    "                descricao.append(item.find('a', class_ = 'item-title').get('title'))\n",
    "                preco = item.find('span', class_ = 'price-current').text\n",
    "\n",
    "            baba_or_express.append(alibaba)\n",
    "            preco_min_max = re.findall(r'(\\d+[\\.,]\\d{1,2})', preco)\n",
    "            #é possível que só exista um preço\n",
    "            if len(preco_min_max) == 1:\n",
    "                preco_min_max.insert(0,preco_min_max[0]) #para o caso de só ter um preço, faz o mínimo igual ao máximo. \n",
    "            preco_min.append(preco_min_max[0])\n",
    "            preco_max.append(preco_min_max[1])\n",
    "            \n",
    "    alibaba = True\n",
    "    paginas.clear()\n",
    "\n",
    "driver.quit()\n",
    "#transformando os dados coletados em DataFrame do Pandas\n",
    "df = pd.DataFrame({\n",
    "    'descricao': descricao,\n",
    "    'preco_minimo': preco_min, \n",
    "    'preco_maximo': preco_max,\n",
    "    'alibaba': baba_or_express\n",
    "    })\n",
    "df.info()\n",
    "# saving the DataFrame as a CSV file \n",
    "gfg_csv_data = df.to_csv('lista_de_precos.csv', header = True) "
   ]
  },
  {
   "cell_type": "code",
   "execution_count": 1,
   "metadata": {},
   "outputs": [],
   "source": [
    "import pandas as pd\n",
    "\n",
    "import matplotlib\n",
    "import matplotlib.pyplot as plt\n",
    "import seaborn as sns\n",
    "\n",
    "from pathlib import Path\n",
    "import re\n",
    "\n",
    "import itertools\n",
    "import requests"
   ]
  },
  {
   "cell_type": "code",
   "execution_count": 6,
   "metadata": {},
   "outputs": [
    {
     "name": "stdout",
     "output_type": "stream",
     "text": [
      "/home/joao/Documents/PosPuc/TCC/projetoTCC\r\n"
     ]
    }
   ],
   "source": []
  },
  {
   "cell_type": "code",
   "execution_count": 8,
   "metadata": {},
   "outputs": [
    {
     "name": "stdout",
     "output_type": "stream",
     "text": [
      "<class 'pandas.core.frame.DataFrame'>\n",
      "RangeIndex: 2460046 entries, 0 to 2460045\n",
      "Data columns (total 12 columns):\n",
      " #   Column      Dtype  \n",
      "---  ------      -----  \n",
      " 0   Unnamed: 0  int64  \n",
      " 1   CO_ANO      int64  \n",
      " 2   CO_MES      int64  \n",
      " 3   CO_NCM      int64  \n",
      " 4   CO_PAIS     int64  \n",
      " 5   SG_UF_NCM   object \n",
      " 6   QT_ESTAT    int64  \n",
      " 7   KG_LIQUIDO  float64\n",
      " 8   VL_FOB      float64\n",
      " 9   VL_FRETE    float64\n",
      " 10  VL_SEGURO   float64\n",
      " 11  VAL_UNIT    float64\n",
      "dtypes: float64(5), int64(6), object(1)\n",
      "memory usage: 225.2+ MB\n"
     ]
    },
    {
     "ename": "AttributeError",
     "evalue": "'Series' object has no attribute 'to_records'",
     "output_type": "error",
     "traceback": [
      "\u001b[0;31m---------------------------------------------------------------------------\u001b[0m",
      "\u001b[0;31mAttributeError\u001b[0m                            Traceback (most recent call last)",
      "\u001b[0;32m<ipython-input-8-46739ec91e6e>\u001b[0m in \u001b[0;36m<module>\u001b[0;34m\u001b[0m\n\u001b[1;32m      2\u001b[0m \u001b[0mdf\u001b[0m\u001b[0;34m.\u001b[0m\u001b[0minfo\u001b[0m\u001b[0;34m(\u001b[0m\u001b[0;34m)\u001b[0m\u001b[0;34m\u001b[0m\u001b[0;34m\u001b[0m\u001b[0m\n\u001b[1;32m      3\u001b[0m \u001b[0mdf_perc_75\u001b[0m \u001b[0;34m=\u001b[0m \u001b[0mdf\u001b[0m\u001b[0;34m.\u001b[0m\u001b[0mgroupby\u001b[0m\u001b[0;34m(\u001b[0m\u001b[0;34m[\u001b[0m\u001b[0;34m'CO_NCM'\u001b[0m\u001b[0;34m]\u001b[0m\u001b[0;34m)\u001b[0m\u001b[0;34m[\u001b[0m\u001b[0;34m'VAL_UNIT'\u001b[0m\u001b[0;34m]\u001b[0m\u001b[0;34m.\u001b[0m\u001b[0mquantile\u001b[0m\u001b[0;34m(\u001b[0m\u001b[0;36m0.75\u001b[0m\u001b[0;34m)\u001b[0m\u001b[0;34m\u001b[0m\u001b[0;34m\u001b[0m\u001b[0m\n\u001b[0;32m----> 4\u001b[0;31m \u001b[0mnparray\u001b[0m \u001b[0;34m=\u001b[0m \u001b[0mdf_perc_75\u001b[0m\u001b[0;34m.\u001b[0m\u001b[0mto_records\u001b[0m\u001b[0;34m(\u001b[0m\u001b[0;34m)\u001b[0m\u001b[0;34m\u001b[0m\u001b[0;34m\u001b[0m\u001b[0m\n\u001b[0m\u001b[1;32m      5\u001b[0m \u001b[0;32mfor\u001b[0m \u001b[0mncm\u001b[0m\u001b[0;34m,\u001b[0m \u001b[0mval\u001b[0m \u001b[0;32min\u001b[0m \u001b[0mnparray\u001b[0m\u001b[0;34m.\u001b[0m\u001b[0mitems\u001b[0m\u001b[0;34m(\u001b[0m\u001b[0;34m)\u001b[0m\u001b[0;34m:\u001b[0m\u001b[0;34m\u001b[0m\u001b[0;34m\u001b[0m\u001b[0m\n\u001b[1;32m      6\u001b[0m     df.drop(df.index[(df['VAL_UNIT'] > (val-10)) &\n",
      "\u001b[0;32m~/anaconda3/lib/python3.8/site-packages/pandas/core/generic.py\u001b[0m in \u001b[0;36m__getattr__\u001b[0;34m(self, name)\u001b[0m\n\u001b[1;32m   5137\u001b[0m             \u001b[0;32mif\u001b[0m \u001b[0mself\u001b[0m\u001b[0;34m.\u001b[0m\u001b[0m_info_axis\u001b[0m\u001b[0;34m.\u001b[0m\u001b[0m_can_hold_identifiers_and_holds_name\u001b[0m\u001b[0;34m(\u001b[0m\u001b[0mname\u001b[0m\u001b[0;34m)\u001b[0m\u001b[0;34m:\u001b[0m\u001b[0;34m\u001b[0m\u001b[0;34m\u001b[0m\u001b[0m\n\u001b[1;32m   5138\u001b[0m                 \u001b[0;32mreturn\u001b[0m \u001b[0mself\u001b[0m\u001b[0;34m[\u001b[0m\u001b[0mname\u001b[0m\u001b[0;34m]\u001b[0m\u001b[0;34m\u001b[0m\u001b[0;34m\u001b[0m\u001b[0m\n\u001b[0;32m-> 5139\u001b[0;31m             \u001b[0;32mreturn\u001b[0m \u001b[0mobject\u001b[0m\u001b[0;34m.\u001b[0m\u001b[0m__getattribute__\u001b[0m\u001b[0;34m(\u001b[0m\u001b[0mself\u001b[0m\u001b[0;34m,\u001b[0m \u001b[0mname\u001b[0m\u001b[0;34m)\u001b[0m\u001b[0;34m\u001b[0m\u001b[0;34m\u001b[0m\u001b[0m\n\u001b[0m\u001b[1;32m   5140\u001b[0m \u001b[0;34m\u001b[0m\u001b[0m\n\u001b[1;32m   5141\u001b[0m     \u001b[0;32mdef\u001b[0m \u001b[0m__setattr__\u001b[0m\u001b[0;34m(\u001b[0m\u001b[0mself\u001b[0m\u001b[0;34m,\u001b[0m \u001b[0mname\u001b[0m\u001b[0;34m:\u001b[0m \u001b[0mstr\u001b[0m\u001b[0;34m,\u001b[0m \u001b[0mvalue\u001b[0m\u001b[0;34m)\u001b[0m \u001b[0;34m->\u001b[0m \u001b[0;32mNone\u001b[0m\u001b[0;34m:\u001b[0m\u001b[0;34m\u001b[0m\u001b[0;34m\u001b[0m\u001b[0m\n",
      "\u001b[0;31mAttributeError\u001b[0m: 'Series' object has no attribute 'to_records'"
     ]
    }
   ],
   "source": [
    "df = pd.read_csv(Path('Datasets/Imp_Consolidada.csv'), sep=';', encoding='cp1250')\n",
    "df.info()\n",
    "df_perc_75 = df.groupby(['CO_NCM'])['VAL_UNIT'].quantile(0.75)\n",
    "nparray = df_perc_75.to_records()\n",
    "for ncm, val in nparray.items():\n",
    "    df.drop(df.index[(df['VAL_UNIT'] > (val-10)) &\n",
    "                                             (df['CO_NCM'] == ncm)], inplace=True)\n",
    "\n",
    "df.info()                     \n"
   ]
  },
  {
   "cell_type": "code",
   "execution_count": 119,
   "metadata": {
    "scrolled": true
   },
   "outputs": [
    {
     "data": {
      "text/plain": [
       "<AxesSubplot:xlabel='Quantidade', ylabel='Valor_FOB'>"
      ]
     },
     "execution_count": 119,
     "metadata": {},
     "output_type": "execute_result"
    },
    {
     "data": {
      "image/png": "[encoded data removed]",
      "text/plain": [
       "<Figure size 432x216 with 1 Axes>"
      ]
     },
     "metadata": {
      "needs_background": "light"
     },
     "output_type": "display_data"
    }
   ],
   "source": [
    "#Preparando tabela de importações\n",
    "#url_importados = \"https://balanca.economia.gov.br/balanca/bd/comexstat-bd/ncmv2/IMP_2019_V2.csv\"\n",
    "  \n",
    "# URL of the file to be downloaded is defined as url_importados\n",
    "#r = requests.get(url_importados, verify=False) # create HTTP response object, without certification verification\n",
    "  \n",
    "#with open(\"importados_2021.csv\",'wb') as csv:\n",
    "  \n",
    "    # Saving received content\n",
    " \n",
    "    # write the contents of the response (r.content)\n",
    "    # to a new csv file.\n",
    "#    csv.write(r.content)\n",
    "\n",
    "tab_importados = Path('importados_2021.csv')   \n",
    "\n",
    "if Path.exists(tab_importados):\n",
    "    df_importados = pd.read_csv(tab_importados, sep=';')\n",
    "else:\n",
    "    print('Arquivo % não encontrado', tab_importados)\n",
    "\n",
    "#Mostrando os dados do dataframe\n",
    "#df_importados.info()\n",
    "    \n",
    "colunas= ['Ano',\n",
    "          'Mes',\n",
    "          'NCM',\n",
    "          'Unidade_estatistica',\n",
    "          'Pais_de_origem',\n",
    "          'UF_destino',\n",
    "          'Via_de_transporte',\n",
    "          'Unidade_Receita_Federal',\n",
    "          'Quantidade',\n",
    "          'Kg_liquido',\n",
    "          'Valor_FOB',\n",
    "          'Valor_frete',\n",
    "          'Valor_seguro'\n",
    "          ]\n",
    "#Changing columns names\n",
    "df_importados.columns = colunas\n",
    "\n",
    "#Selecionando apenas as colunas de interesse para nossa comparação e deletando as demais\n",
    "#Para isso, manteremos, por enquanto, apenas as colunas Mês, NCM, País de origem, Quantidade e Valor FOB. \n",
    "#As demais não interferirão nas nossas avaliações.\n",
    "cols_to_drop = ['Ano',\n",
    "          'Unidade_estatistica',\n",
    "          'Pais_de_origem',      \n",
    "          'UF_destino',\n",
    "          'Via_de_transporte',\n",
    "          'Unidade_Receita_Federal',\n",
    "          'Kg_liquido',\n",
    "          'Valor_frete',\n",
    "          'Valor_seguro'\n",
    "          ]\n",
    "df_importados.drop(cols_to_drop, axis=1, inplace=True)\n",
    "\n",
    "#Precisamos agora selecionar da tabela de importados as mercadorias de nosso interesse, que se inserem \n",
    "#na classificação fiscal de código NCM = 85177099\n",
    "df_importados = df_importados[df_importados.NCM==85177099]\n",
    "\n",
    "#********************Próximos passos******************************#\n",
    "#Calcular valor unitário, por registro.\n",
    "#Verificamos que algumas linhas de dados contém o campo Quantidade ou Valor_FOB igual a ZERO.\n",
    "#Apagaremos esses registros, uma vez que os campos serão usados para calcular o valor unitário e \n",
    "#não usaremos a média para completar esses registros por que não fizemos o tratamento dos outliers ainda.\n",
    "df_importados.drop(df_importados.index[df_importados['Quantidade'] == 0], inplace=True)\n",
    "df_importados.drop(df_importados.index[df_importados['Valor_FOB'] == 0], inplace=True)\n",
    "\n",
    "#Agora calcularemos os valores unitários referente a cada operação de importação.\n",
    "df_importados.eval(\"Val_unitario = Valor_FOB/Quantidade\", target = df_importados, inplace = True)\n",
    "\n",
    "#Mostrar gráfico com valores\n",
    "df_importados.plot.scatter(x='Quantidade',y='Valor_FOB', grid=True, c='red',figsize=[6,3], layout=[1,2])\n",
    "\n",
    "#Calcular os outliers\n",
    "#Usar estratégia de outliers\n",
    "# calcular a média de Fob e Quantidade\n",
    "\n",
    "\n",
    "\n",
    "\n",
    "#Calcular média dos valores unitários.\n",
    "\n",
    "#Calcular média dos valores unitários dos dados coletados nos sites.\n",
    "\n",
    "\n",
    "\n",
    "\n",
    "# Re-assignment operation drops columns not in colunas\n",
    "#df_importados.head()  \n",
    "#df_importados.info()\n",
    "#(df_importados.NCM==85177099).sum()"
   ]
  },
  {
   "cell_type": "code",
   "execution_count": 120,
   "metadata": {},
   "outputs": [
    {
     "data": {
      "text/plain": [
       "count    866.000000\n",
       "mean      89.553164\n",
       "std       92.589008\n",
       "min        0.051724\n",
       "25%       16.411222\n",
       "50%       50.653226\n",
       "75%      140.302002\n",
       "max      352.375000\n",
       "Name: Val_unitario, dtype: float64"
      ]
     },
     "execution_count": 120,
     "metadata": {},
     "output_type": "execute_result"
    },
    {
     "data": {
      "image/png": "[encoded data removed]",
      "text/plain": [
       "<Figure size 576x288 with 1 Axes>"
      ]
     },
     "metadata": {
      "needs_background": "light"
     },
     "output_type": "display_data"
    }
   ],
   "source": [
    "df_importados.drop(df_importados.index[df_importados['Val_unitario'] > 354], inplace=True)\n",
    "#df_importados.boxplot(column=['Quantidade','Valor_FOB'], figsize=[10,15])\n",
    "\n",
    "f = pd.melt(df_importados, value_vars=['Val_unitario'])#,'Quantidade']) #, 'Val_unitario'])\n",
    "g = sns.FacetGrid(f, col=\"variable\",  col_wrap=2, sharex=False, sharey=False, height = 4)\n",
    "#g = g.map(sns.histplot, \"value\")\n",
    "sns.boxplot(x='Val_unitario',data=df_importados)\n",
    "df_importados['Val_unitario'].describe()"
   ]
  },
  {
   "cell_type": "code",
   "execution_count": 132,
   "metadata": {},
   "outputs": [
    {
     "name": "stdout",
     "output_type": "stream",
     "text": [
      "p25 = %s, p75 = %s, iqr = %s  16.411221963448362 140.30200176424103 123.89077980079267\n"
     ]
    },
    {
     "data": {
      "image/png": "[encoded data removed]",
      "text/plain": [
       "<Figure size 864x288 with 1 Axes>"
      ]
     },
     "metadata": {
      "needs_background": "light"
     },
     "output_type": "display_data"
    }
   ],
   "source": [
    "#Vamos identificar outliers utilizando o método de -1,5*IQR até 1,5*IQR (Intervalor interquartílico) em relação aos\n",
    "#valores unitários\n",
    "#Para calcular o IQR, temos que ordenar os dados em ordem crescente, usando o campo alvo como índice.\n",
    "df_importados = df_importados.sort_values(by='Val_unitario').reset_index(drop=True)\n",
    "p25 = df_importados[\"Val_unitario\"].quantile(0.25)\n",
    "p75 = df_importados['Val_unitario'].quantile(0.75)\n",
    "iqr = p75 - p25\n",
    "print(\"p25 = %s, p75 = %s, iqr = %s \", p25, p75, iqr)\n",
    "#df_importados.describe()\n",
    "\n",
    "#Valores acima \n",
    "plt.figure(figsize=(12,4))\n",
    "plt.hist(df_importados['Val_unitario'])\n",
    "plt.title(\"Total number of prices: %s\" % len(df_importados.index))\n",
    "plt.xlabel(\"Mean Annual Temperature (Degrees Celcius)\")\n",
    "\n",
    "# Vertical lines for each percentile of interest\n",
    "plt.axvline(df_importados['Val_unitario'].quantile(0.25), linestyle='--', color='red')\n",
    "plt.axvline(df_importados['Val_unitario'].quantile(0.50), linestyle='-',  color='red')\n",
    "plt.axvline(df_importados['Val_unitario'].quantile(0.75), linestyle='--', color='red')\n",
    "\n",
    "plt.show()\n"
   ]
  },
  {
   "cell_type": "code",
   "execution_count": 133,
   "metadata": {},
   "outputs": [],
   "source": [
    "#Verifica arquivo de dados obtido using scrapping technics\n",
    "tab_precos = Path('listaNova.csv')\n",
    "if Path.exists(tab_precos):\n",
    "    df_precos = pd.read_csv(tab_precos)\n",
    "else:\n",
    "    print(\"Arquivo %s não encontrado\", tab_precos)"
   ]
  },
  {
   "cell_type": "code",
   "execution_count": 134,
   "metadata": {
    "scrolled": true
   },
   "outputs": [
    {
     "name": "stdout",
     "output_type": "stream",
     "text": [
      "<class 'pandas.core.frame.DataFrame'>\n",
      "RangeIndex: 2760 entries, 0 to 2759\n",
      "Data columns (total 5 columns):\n",
      " #   Column        Non-Null Count  Dtype  \n",
      "---  ------        --------------  -----  \n",
      " 0   Unnamed: 0    2760 non-null   int64  \n",
      " 1   descricao     2760 non-null   object \n",
      " 2   preco_minimo  2753 non-null   float64\n",
      " 3   preco_maximo  2759 non-null   float64\n",
      " 4   alibaba       2760 non-null   bool   \n",
      "dtypes: bool(1), float64(2), int64(1), object(1)\n",
      "memory usage: 89.1+ KB\n"
     ]
    }
   ],
   "source": [
    "#Transformando preços em float\n",
    "df_precos['preco_minimo'] = pd.to_numeric(df_precos.preco_minimo, errors = 'coerce')\n",
    "df_precos['preco_maximo'] = pd.to_numeric(df_precos.preco_maximo, errors = 'coerce')\n",
    "df_precos.info()\n"
   ]
  },
  {
   "cell_type": "code",
   "execution_count": 135,
   "metadata": {},
   "outputs": [
    {
     "data": {
      "image/png": "[encoded data removed]",
      "text/plain": [
       "<Figure size 576x288 with 2 Axes>"
      ]
     },
     "metadata": {
      "needs_background": "light"
     },
     "output_type": "display_data"
    }
   ],
   "source": [
    "f = pd.melt(df_precos, value_vars=['preco_minimo','preco_maximo'])\n",
    "g = sns.FacetGrid(f, col=\"variable\",  col_wrap=2, sharex=False, sharey=False, height = 4)\n",
    "g = g.map(sns.histplot, \"value\")"
   ]
  },
  {
   "cell_type": "code",
   "execution_count": 143,
   "metadata": {},
   "outputs": [
    {
     "data": {
      "text/plain": [
       "<AxesSubplot:xlabel='preco_minimo', ylabel='preco_maximo'>"
      ]
     },
     "execution_count": 143,
     "metadata": {},
     "output_type": "execute_result"
    },
    {
     "data": {
      "image/png": "[encoded data removed]",
      "text/plain": [
       "<Figure size 432x216 with 1 Axes>"
      ]
     },
     "metadata": {
      "needs_background": "light"
     },
     "output_type": "display_data"
    }
   ],
   "source": [
    "df_precos.plot.scatter(x='preco_minimo',y='preco_maximo', grid=True, c='red',figsize=[6,3], layout=[1,2])\n"
   ]
  },
  {
   "cell_type": "code",
   "execution_count": 137,
   "metadata": {},
   "outputs": [],
   "source": [
    "#Preparando limpeza de linhas que não parecem ser de telas LCD\n",
    "# 1. Selecionando só linhas que contém o termo LCD.\n",
    "#df_precos['selecionada'] = df_precos.descricao.str.contains('lcd',case=False) #('[Cc]harge|[Aa]dhesive|[Tt]ool[s]|[Gg]lue|[Ss]ticker|[Cc]lip|[Mm]achine')\n",
    "#df_precos.drop((df_precos[df_precos['selecionada']==False].index), inplace=True) # deleta o que não contém é LCD\n",
    "\n",
    "#nao_lcds = '[Cc]harge|[Aa]dhesive|[Tt]ool[s]|[Gg]lue|[Ss]ticker|[Cc]lip|[Mm]achine'\n",
    "#df_precos['selecionada'] = df_precos.descricao.str.contains(nao_lcds)\n",
    "#df_precos.drop((df_precos[df_precos['selecionada']==True].index), inplace=True) # deleta o que não parece ser lcd\n",
    "#df_precos.info()"
   ]
  },
  {
   "cell_type": "code",
   "execution_count": 144,
   "metadata": {},
   "outputs": [
    {
     "data": {
      "text/html": [
       "<div>\n",
       "<style scoped>\n",
       "    .dataframe tbody tr th:only-of-type {\n",
       "        vertical-align: middle;\n",
       "    }\n",
       "\n",
       "    .dataframe tbody tr th {\n",
       "        vertical-align: top;\n",
       "    }\n",
       "\n",
       "    .dataframe thead th {\n",
       "        text-align: right;\n",
       "    }\n",
       "</style>\n",
       "<table border=\"1\" class=\"dataframe\">\n",
       "  <thead>\n",
       "    <tr style=\"text-align: right;\">\n",
       "      <th></th>\n",
       "      <th>Unnamed: 0</th>\n",
       "      <th>descricao</th>\n",
       "      <th>preco_minimo</th>\n",
       "      <th>preco_maximo</th>\n",
       "      <th>alibaba</th>\n",
       "      <th>preco_medio</th>\n",
       "    </tr>\n",
       "  </thead>\n",
       "  <tbody>\n",
       "    <tr>\n",
       "      <th>0</th>\n",
       "      <td>344</td>\n",
       "      <td>Screen-Fpc-Connector Smart-Phone Cltgxdd Board...</td>\n",
       "      <td>0.36</td>\n",
       "      <td>0.36</td>\n",
       "      <td>False</td>\n",
       "      <td>0.36</td>\n",
       "    </tr>\n",
       "    <tr>\n",
       "      <th>1</th>\n",
       "      <td>101</td>\n",
       "      <td>Lcd-Display Wire-Line Screen-Separator-Repair ...</td>\n",
       "      <td>0.46</td>\n",
       "      <td>0.46</td>\n",
       "      <td>False</td>\n",
       "      <td>0.46</td>\n",
       "    </tr>\n",
       "    <tr>\n",
       "      <th>2</th>\n",
       "      <td>129</td>\n",
       "      <td>Stickers Adhesive Touch-Screen iPhone 6s Water...</td>\n",
       "      <td>0.55</td>\n",
       "      <td>0.55</td>\n",
       "      <td>False</td>\n",
       "      <td>0.55</td>\n",
       "    </tr>\n",
       "    <tr>\n",
       "      <th>3</th>\n",
       "      <td>325</td>\n",
       "      <td>Lcd-Display Screen-Separator-Repair Repair-Too...</td>\n",
       "      <td>0.58</td>\n",
       "      <td>0.58</td>\n",
       "      <td>False</td>\n",
       "      <td>0.58</td>\n",
       "    </tr>\n",
       "    <tr>\n",
       "      <th>4</th>\n",
       "      <td>1</td>\n",
       "      <td>Sticker Adhesive-Tape Cellphone Touch-Screen M...</td>\n",
       "      <td>0.59</td>\n",
       "      <td>0.59</td>\n",
       "      <td>False</td>\n",
       "      <td>0.59</td>\n",
       "    </tr>\n",
       "  </tbody>\n",
       "</table>\n",
       "</div>"
      ],
      "text/plain": [
       "   Unnamed: 0                                          descricao  \\\n",
       "0         344  Screen-Fpc-Connector Smart-Phone Cltgxdd Board...   \n",
       "1         101  Lcd-Display Wire-Line Screen-Separator-Repair ...   \n",
       "2         129  Stickers Adhesive Touch-Screen iPhone 6s Water...   \n",
       "3         325  Lcd-Display Screen-Separator-Repair Repair-Too...   \n",
       "4           1  Sticker Adhesive-Tape Cellphone Touch-Screen M...   \n",
       "\n",
       "   preco_minimo  preco_maximo  alibaba  preco_medio  \n",
       "0          0.36          0.36    False         0.36  \n",
       "1          0.46          0.46    False         0.46  \n",
       "2          0.55          0.55    False         0.55  \n",
       "3          0.58          0.58    False         0.58  \n",
       "4          0.59          0.59    False         0.59  "
      ]
     },
     "execution_count": 144,
     "metadata": {},
     "output_type": "execute_result"
    }
   ],
   "source": [
    "#Converter preços mínimos menores que 1 em preço máximo\n",
    "df_precos.loc[(df_precos['preco_minimo'] < 1 ) ,'preco_minimo'] = df_precos.preco_maximo\n",
    "df_precos.head()"
   ]
  },
  {
   "cell_type": "code",
   "execution_count": 139,
   "metadata": {},
   "outputs": [
    {
     "name": "stdout",
     "output_type": "stream",
     "text": [
      "p25 = %s, p75 = %s, iqr = %s  12.698749999999999 41.48625 28.7875\n"
     ]
    }
   ],
   "source": [
    "#df_precos.info()\n",
    "df_precos.eval(\"preco_medio = (preco_minimo+preco_maximo)/2\", target = df_precos, inplace = True)\n",
    "df_precos.describe() # estatísticas do dataframe\n",
    "\n",
    "\n",
    "df_precos = df_precos.sort_values(by='preco_medio').reset_index(drop=True)\n",
    "p25 = df_precos[\"preco_medio\"].quantile(0.25)\n",
    "p75 = df_precos['preco_medio'].quantile(0.75)\n",
    "iqr = p75 - p25\n",
    "print(\"p25 = %s, p75 = %s, iqr = %s \", p25, p75, iqr)\n"
   ]
  },
  {
   "cell_type": "code",
   "execution_count": 140,
   "metadata": {},
   "outputs": [
    {
     "data": {
      "image/png": "[encoded data removed]",
      "text/plain": [
       "<Figure size 1080x360 with 3 Axes>"
      ]
     },
     "metadata": {
      "needs_background": "light"
     },
     "output_type": "display_data"
    }
   ],
   "source": [
    "f = pd.melt(df_precos, value_vars=['preco_minimo','preco_maximo', 'preco_medio'])\n",
    "g = sns.FacetGrid(f, col=\"variable\",  col_wrap=3, sharex=False, sharey=False, height = 5,grid=)\n",
    "g = g.map(sns.histplot, \"value\")\n"
   ]
  },
  {
   "cell_type": "code",
   "execution_count": 145,
   "metadata": {
    "scrolled": true
   },
   "outputs": [
    {
     "data": {
      "image/png": "[encoded data removed]",
      "text/plain": [
       "<Figure size 864x288 with 1 Axes>"
      ]
     },
     "metadata": {
      "needs_background": "light"
     },
     "output_type": "display_data"
    }
   ],
   "source": [
    "#sns.boxplot(x='preco_medio',data=df_precos)\n",
    "plt.figure(figsize=(12,4))\n",
    "plt.hist(df_precos['preco_medio'])\n",
    "plt.title(\"Total number of prices: %s\" % len(df_precos.index))\n",
    "plt.xlabel(\"Mean Annual Temperature (Degrees Celcius)\")\n",
    "\n",
    "# Vertical lines for each percentile of interest\n",
    "plt.axvline(df_precos['preco_medio'].quantile(0.25), linestyle='--', color='red')\n",
    "plt.axvline(df_precos['preco_medio'].quantile(0.50), linestyle='-',  color='red')\n",
    "plt.axvline(df_precos['preco_medio'].quantile(0.75), linestyle='--', color='red')\n",
    "\n",
    "plt.show()"
   ]
  },
  {
   "cell_type": "code",
   "execution_count": 146,
   "metadata": {},
   "outputs": [
    {
     "name": "stdout",
     "output_type": "stream",
     "text": [
      "<class 'pandas.core.frame.DataFrame'>\n",
      "Int64Index: 2745 entries, 0 to 2759\n",
      "Data columns (total 6 columns):\n",
      " #   Column        Non-Null Count  Dtype  \n",
      "---  ------        --------------  -----  \n",
      " 0   Unnamed: 0    2745 non-null   int64  \n",
      " 1   descricao     2745 non-null   object \n",
      " 2   preco_minimo  2738 non-null   float64\n",
      " 3   preco_maximo  2744 non-null   float64\n",
      " 4   alibaba       2745 non-null   bool   \n",
      " 5   preco_medio   2737 non-null   float64\n",
      "dtypes: bool(1), float64(3), int64(1), object(1)\n",
      "memory usage: 211.4+ KB\n"
     ]
    },
    {
     "data": {
      "image/png": "[encoded data removed]",
      "text/plain": [
       "<Figure size 432x288 with 1 Axes>"
      ]
     },
     "metadata": {
      "needs_background": "light"
     },
     "output_type": "display_data"
    }
   ],
   "source": [
    "df_precos.drop(df_precos.index[df_precos['preco_medio'] > 354], inplace=True)\n",
    "\n",
    "sns.boxplot(x='preco_maximo',data=df_precos)\n",
    "df_precos.info()\n"
   ]
  },
  {
   "cell_type": "code",
   "execution_count": 2,
   "metadata": {},
   "outputs": [],
   "source": [
    "import pandas as pd\n",
    "dfpais = pd.read_csv('Datasets/pais.csv', sep=';', encoding='cp1250')\n",
    "dfimp  = pd.read_csv('Datasets/importacoes2019.csv', sep=';', encoding='cp1250')\n"
   ]
  },
  {
   "cell_type": "code",
   "execution_count": 3,
   "metadata": {},
   "outputs": [],
   "source": [
    "dfjunto = dfimp.merge(dfpais, on='CO_PAIS', how='left')"
   ]
  },
  {
   "cell_type": "code",
   "execution_count": 4,
   "metadata": {},
   "outputs": [
    {
     "data": {
      "text/html": [
       "<div>\n",
       "<style scoped>\n",
       "    .dataframe tbody tr th:only-of-type {\n",
       "        vertical-align: middle;\n",
       "    }\n",
       "\n",
       "    .dataframe tbody tr th {\n",
       "        vertical-align: top;\n",
       "    }\n",
       "\n",
       "    .dataframe thead th {\n",
       "        text-align: right;\n",
       "    }\n",
       "</style>\n",
       "<table border=\"1\" class=\"dataframe\">\n",
       "  <thead>\n",
       "    <tr style=\"text-align: right;\">\n",
       "      <th></th>\n",
       "      <th>CO_ANO</th>\n",
       "      <th>CO_MES</th>\n",
       "      <th>CO_NCM</th>\n",
       "      <th>CO_UNID</th>\n",
       "      <th>CO_PAIS</th>\n",
       "      <th>SG_UF_NCM</th>\n",
       "      <th>CO_VIA</th>\n",
       "      <th>CO_URF</th>\n",
       "      <th>QT_ESTAT</th>\n",
       "      <th>KG_LIQUIDO</th>\n",
       "      <th>VL_FOB</th>\n",
       "      <th>VL_FRETE</th>\n",
       "      <th>VL_SEGURO</th>\n",
       "      <th>CO_PAIS_ISON3</th>\n",
       "      <th>CO_PAIS_ISOA3</th>\n",
       "      <th>NO_PAIS</th>\n",
       "      <th>NO_PAIS_ING</th>\n",
       "      <th>NO_PAIS_ESP</th>\n",
       "    </tr>\n",
       "  </thead>\n",
       "  <tbody>\n",
       "    <tr>\n",
       "      <th>0</th>\n",
       "      <td>2019</td>\n",
       "      <td>6</td>\n",
       "      <td>85439090</td>\n",
       "      <td>10</td>\n",
       "      <td>399</td>\n",
       "      <td>SC</td>\n",
       "      <td>4</td>\n",
       "      <td>817600</td>\n",
       "      <td>1</td>\n",
       "      <td>1</td>\n",
       "      <td>15</td>\n",
       "      <td>7</td>\n",
       "      <td>0</td>\n",
       "      <td>392</td>\n",
       "      <td>JPN</td>\n",
       "      <td>Japăo</td>\n",
       "      <td>Japan</td>\n",
       "      <td>Japón</td>\n",
       "    </tr>\n",
       "    <tr>\n",
       "      <th>1</th>\n",
       "      <td>2019</td>\n",
       "      <td>12</td>\n",
       "      <td>56041000</td>\n",
       "      <td>10</td>\n",
       "      <td>160</td>\n",
       "      <td>SC</td>\n",
       "      <td>1</td>\n",
       "      <td>927800</td>\n",
       "      <td>453</td>\n",
       "      <td>453</td>\n",
       "      <td>1889</td>\n",
       "      <td>81</td>\n",
       "      <td>4</td>\n",
       "      <td>156</td>\n",
       "      <td>CHN</td>\n",
       "      <td>China</td>\n",
       "      <td>China</td>\n",
       "      <td>China</td>\n",
       "    </tr>\n",
       "    <tr>\n",
       "      <th>2</th>\n",
       "      <td>2019</td>\n",
       "      <td>2</td>\n",
       "      <td>85365090</td>\n",
       "      <td>11</td>\n",
       "      <td>87</td>\n",
       "      <td>AM</td>\n",
       "      <td>4</td>\n",
       "      <td>227700</td>\n",
       "      <td>4</td>\n",
       "      <td>0</td>\n",
       "      <td>203</td>\n",
       "      <td>4</td>\n",
       "      <td>0</td>\n",
       "      <td>56</td>\n",
       "      <td>BEL</td>\n",
       "      <td>Bélgica</td>\n",
       "      <td>Belgium</td>\n",
       "      <td>Bélgica</td>\n",
       "    </tr>\n",
       "    <tr>\n",
       "      <th>3</th>\n",
       "      <td>2019</td>\n",
       "      <td>7</td>\n",
       "      <td>39269090</td>\n",
       "      <td>10</td>\n",
       "      <td>247</td>\n",
       "      <td>PR</td>\n",
       "      <td>1</td>\n",
       "      <td>917800</td>\n",
       "      <td>167</td>\n",
       "      <td>167</td>\n",
       "      <td>1477</td>\n",
       "      <td>499</td>\n",
       "      <td>0</td>\n",
       "      <td>703</td>\n",
       "      <td>SVK</td>\n",
       "      <td>Eslováquia</td>\n",
       "      <td>Slovakia</td>\n",
       "      <td>Eslovaquia</td>\n",
       "    </tr>\n",
       "    <tr>\n",
       "      <th>4</th>\n",
       "      <td>2019</td>\n",
       "      <td>12</td>\n",
       "      <td>62021300</td>\n",
       "      <td>11</td>\n",
       "      <td>160</td>\n",
       "      <td>ES</td>\n",
       "      <td>4</td>\n",
       "      <td>817600</td>\n",
       "      <td>16</td>\n",
       "      <td>5</td>\n",
       "      <td>1603</td>\n",
       "      <td>54</td>\n",
       "      <td>2</td>\n",
       "      <td>156</td>\n",
       "      <td>CHN</td>\n",
       "      <td>China</td>\n",
       "      <td>China</td>\n",
       "      <td>China</td>\n",
       "    </tr>\n",
       "  </tbody>\n",
       "</table>\n",
       "</div>"
      ],
      "text/plain": [
       "   CO_ANO  CO_MES    CO_NCM  CO_UNID  CO_PAIS SG_UF_NCM  CO_VIA  CO_URF  \\\n",
       "0    2019       6  85439090       10      399        SC       4  817600   \n",
       "1    2019      12  56041000       10      160        SC       1  927800   \n",
       "2    2019       2  85365090       11       87        AM       4  227700   \n",
       "3    2019       7  39269090       10      247        PR       1  917800   \n",
       "4    2019      12  62021300       11      160        ES       4  817600   \n",
       "\n",
       "   QT_ESTAT  KG_LIQUIDO  VL_FOB  VL_FRETE  VL_SEGURO  CO_PAIS_ISON3  \\\n",
       "0         1           1      15         7          0            392   \n",
       "1       453         453    1889        81          4            156   \n",
       "2         4           0     203         4          0             56   \n",
       "3       167         167    1477       499          0            703   \n",
       "4        16           5    1603        54          2            156   \n",
       "\n",
       "  CO_PAIS_ISOA3     NO_PAIS NO_PAIS_ING NO_PAIS_ESP  \n",
       "0           JPN       Japăo       Japan       Japón  \n",
       "1           CHN       China       China       China  \n",
       "2           BEL     Bélgica     Belgium     Bélgica  \n",
       "3           SVK  Eslováquia    Slovakia  Eslovaquia  \n",
       "4           CHN       China       China       China  "
      ]
     },
     "execution_count": 4,
     "metadata": {},
     "output_type": "execute_result"
    }
   ],
   "source": [
    "dfjunto.head()"
   ]
  },
  {
   "cell_type": "code",
   "execution_count": null,
   "metadata": {},
   "outputs": [],
   "source": []
  }
 ],
 "metadata": {
  "kernelspec": {
   "display_name": "Python 3",
   "language": "python",
   "name": "python3"
  },
  "language_info": {
   "codemirror_mode": {
    "name": "ipython",
    "version": 3
   },
   "file_extension": ".py",
   "mimetype": "text/x-python",
   "name": "python",
   "nbconvert_exporter": "python",
   "pygments_lexer": "ipython3",
   "version": "3.8.5"
  }
 },
 "nbformat": 4,
 "nbformat_minor": 4
}
