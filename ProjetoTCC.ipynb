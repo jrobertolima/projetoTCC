{
 "cells": [
  {
   "cell_type": "markdown",
   "metadata": {},
   "source": [
    "### 1. Definição do problema\n",
    "> O objetivo deste trabalho é apresentar uma análise sobre os preços de produtos importados pelo Brasil, comparando os valores declarados numa operação de importação com os preços praticados no comércio internacional.\n",
    ">Para isso, primeiramente, será realizado um levantamento de preços junto ao mercado mundial para um grupo de mercadorias de alto valor agregado.\n",
    "> Em seguida, buscar-se-ão os preços desses mesmos produtos declarados em processos de importação de mercadorias.\n",
    "> Por fim, far-se-á a comparação entre as médias desses valores, visando a uma conclusão quanto a indícios de fraudes - subfaturamento ou superfaturamento - nas operações de importação realizadas pelo importador nacional.\n",
    "\n",
    "### 2. A coleta de dados\n",
    "> Os datasets usados neste trabalho foram coletados de fontes diversas. \n",
    "> Definiu-se que os sites __www.aliexpress.com__ e __www.alibaba.com__, notórios fornecedores de produtos diversos, serão objeto de webscrapping realizado com a ferramenta de código aberto _Beautifull Soup_ e _Selenium_, as quais serão utilizadas para coletar uma gama de aproximadamente 1 mil registros de cada um desses sites.\n",
    "> Para delimitar o escopo da análise, será definido apenas uma gama de produtos, que apresenta uma variação grande de preços: __display lcd para aparelhos celulares__.\n",
    "\n",
    "__Bold por favor__ <br>\n",
    "_Italico Olha isso_ <br>\n",
    "$ a + bX$ <br>\n",
    "__________ dfjlkaj dlkjf lkajkdj\n",
    "> item \n",
    ">>item2\n",
    ">>>item3\n",
    "- item 1\n",
    "- item 2\n",
    "1. item 1\n",
    "2. item 2 <br>\n",
    "<font color=blue>\"font color=blue\"</font><br>\n",
    "paragrafog <br> outro paragrafo<br>\n",
    "#isto é comentário"
   ]
  },
  {
   "cell_type": "code",
   "execution_count": 21,
   "metadata": {
    "tags": []
   },
   "outputs": [
    {
     "output_type": "stream",
     "name": "stdout",
     "text": [
      "<class 'pandas.core.frame.DataFrame'>\nRangeIndex: 32 entries, 0 to 31\nData columns (total 3 columns):\n #   Column        Non-Null Count  Dtype \n---  ------        --------------  ----- \n 0   descricao     32 non-null     object\n 1   preco_minimo  32 non-null     object\n 2   preco_maximo  32 non-null     object\ndtypes: object(3)\nmemory usage: 896.0+ bytes\nDataFrame:\n                                             descricao preco_minimo  \\\n0   UMIDIGI BISON IP68/IP69K Waterproof 128GB 6GB ...       169.99   \n1   Sticker Adhesive-Tape Cellphone Touch-Screen M...         0.01   \n2   Bubble-Remove Laminating-Machine Vacuum-Pump i...         0.00   \n3   Glue Mobile-Phone-Repair-Machine Samsung Repai...         0.00   \n4   Display For Xiaomi Redmi Go Lcd Display Touch ...        18.43   \n5   Sensor Armor Lcd-Display Phone-Accessories Tou...         0.00   \n6   6.59\"Original Amoled For Asus ROG 3 ZS661KS LC...       164.70   \n7   2/3/5/8mm Adhesive-Tape Housing-Tool Hardware ...         0.87   \n8   Phone Display Lcd Iphone Screen 2 Function 1 C...        36.61   \n9   Screen Lcd Iphone Phone Lcds Display Replaceme...        58.34   \n10  Hot sell touch screen display for iphone x lcd...        14.99   \n11  Phone Lcd Screen Display Iphone Mobile Lcd Dis...        16.48   \n12  Mobile Phone LCD Screen Touch Digitizer Assemb...        12.53   \n13  LCD Digitizer Accessories Parts screen Mobile ...        56.80   \n14  for samsung_screen_touch Digitizer Mobile_Phon...         3.00   \n15  LCD Refurbishe Touch Screen For iPhone 6 7 8 P...         9.29   \n16  Brand New screen lcd for iphone x lcd display ...         5.00   \n17  Mobile phone lcd for all models original touch...         4.50   \n18  Mobile Accessories Mobile Phone Replacement To...         8.98   \n19  cell phone lcd touch screen replacement for ip...         3.10   \n20  Replacement Cell Phone Touch Display Mobile LC...        14.71   \n21  Best price mobile phone lcd screen for iphone ...        37.41   \n22  SAEF Cell Phone Touch Screen Replacement LCD D...         6.65   \n23  LCD Screen for iPhone 11 Pro Max XS XR X 8 7 6...        12.95   \n24  lcd display manufacturers for samsung pantalla...         2.00   \n25  Factory Wholesale Mobile phone lcd replacement...         4.90   \n26  Factory direct Mobile Phone LCD Display Screen...         6.70   \n27  LCD Screen For Samsung Galaxy J7 Pro J730F J73...        10.50   \n28  for Samsung Galaxy J3 LCD digitizer mobile pho...         4.00   \n29  SAEF For Samsung Galaxy A10 LCD Screen Replace...        16.80   \n30  mobile phone lcds for iPhone 11 replacement sc...        19.99   \n31  Shenzhen manufacturer LCD Display for iPhone 7...         9.50   \n\n   preco_maximo  \n0        192.66  \n1          0.59  \n2        957.00  \n3        269.99  \n4         20.49  \n5         22.63  \n6        264.80  \n7          1.82  \n8         61.22  \n9         70.78  \n10        38.92  \n11        17.28  \n12        19.55  \n13        58.80  \n14        10.00  \n15         9.79  \n16        20.00  \n17        25.70  \n18        15.98  \n19         8.32  \n20        15.64  \n21        45.34  \n22         7.46  \n23       316.00  \n24        10.00  \n25         9.90  \n26         8.00  \n27        23.60  \n28         5.00  \n29        17.50  \n30        40.69  \n31        52.00  \n"
     ]
    }
   ],
   "source": [
    "from bs4 import BeautifulSoup\n",
    "import requests\n",
    "import csv\n",
    "import pandas as pd\n",
    "\n",
    "#bibliotecas para requisição de páginas dinâmicas\n",
    "from selenium import webdriver \n",
    "#from selenium.webdriver.common.keys import Keys \n",
    "from selenium.webdriver.common.by import By\n",
    "#from selenium.webdriver.support.ui import WebDriverWait\n",
    "#from selenium.webdriver.support import expected_conditions as EC\n",
    "import time\n",
    "import os\n",
    "import sys\n",
    "import re\n",
    "    \n",
    "def alteraIdioma(driver):\n",
    "    driver.find_element_by_xpath('//*[@id=\"switcher-info\"]').click()#/html/body/div[2]/div/div/div[2]/div[2]/div/div[1]/div[2]/#div[1]/span[2]/span/span[2]/span\n",
    "    time.sleep(3)\n",
    "    painel = driver.find_element_by_xpath('/html/body/div[1]/div[3]/div/div/div[4]/div/div')\n",
    "    painel.click()\n",
    "    #painel country selector switcher\n",
    "    time.sleep(3)\n",
    "    driver.find_element_by_xpath('/html/body/div[1]/div[3]/div/div/div[4]/div/div/div/div[1]/div/a[1]/span/span').click()\n",
    "    time.sleep(3)\n",
    "    painel.find_element_by_xpath(\"/html/body/div[1]/div[3]/div/div/div[4]/div/div/div/div[1]/div/div[1]/ul/li[224]\").click()\n",
    "    time.sleep(3)\n",
    "    driver.find_element_by_xpath('/html/body/div[1]/div[3]/div/div/div[4]/div/div/div/div[4]/button').click()\n",
    "    driver.refresh()           \n",
    "    return driver\n",
    "\n",
    "\n",
    "\n",
    "#Preparando a aquisição das páginas\n",
    "    #Criando informação sobre quem está fazendo o scrap\n",
    "headers = {\n",
    "    'User-Agent': 'João Lima, from PUC-MG University',\n",
    "    'From': 'jbetol@gmail.com'\n",
    "}\n",
    "\n",
    "#Ainda precisa Verificar com Try Except se driver está dispoível\n",
    "try: #if os.path.exists('/media/joao/HDLinux/tools/'):\n",
    "    driver = webdriver.Firefox('/media/joao/HDLinux/tools')\n",
    "except IOError:\n",
    "    sys.exit(\"Geckodriver not found!\")\n",
    "    \n",
    "url_aliexpress = 'https://www.aliexpress.com/wholesale?trafficChannel=main&d=y&CatId=0&SearchText=phone+display+lcd+for+screen&ltype=wholesale&SortType=default&page='\n",
    "\n",
    "url_alibaba = 'https://www.alibaba.com/products/phone_display_lcd_screen/CID5904002.html?spm=a2700.galleryofferlist.0.0.126c1524tZVgH8&IndexArea=product_en&page='\n",
    "\n",
    "#Vamos pegar 50 páginas de dados e jogar num array\n",
    "paginas = []\n",
    "qnt_paginas = 2\n",
    "passou = False\n",
    "alibaba = False  # Vamos começar scrapping por AliExpress.com\n",
    "site_index = 2  # números de sites a ser scrapping: AliExpress e Alibaba\n",
    "descricao = []\n",
    "preco_min = []\n",
    "preco_max = [] #_items = {} # Dicionário que vai guardar os dados das páginas in memory \n",
    "while site_index > 0  :\n",
    "    site_index = site_index - 1\n",
    "    for i in range(1,qnt_paginas):\n",
    "        if not alibaba:\n",
    "            url = url_aliexpress + str(i)\n",
    "        else:\n",
    "            url = url_alibaba + str(i)\n",
    "\n",
    "        paginas.append(url)\n",
    "\n",
    "    #loop para navegar em 30 páginas de aquisição de dados\n",
    "    for pagina in paginas:\n",
    "        driver.get(pagina)\n",
    "        #driver.execute_script(\"arguments[0].setAttribute('lang', 'us')\", elemento)#, 'class', 'vote-link up voted')\n",
    "\n",
    "        if not alibaba and not passou:\n",
    "            alteraIdioma(driver)\n",
    "            passou = True\n",
    "\n",
    "    #Verificar modo silencioso para o geckodriver\n",
    "        \n",
    "        req = driver.page_source\n",
    "\n",
    "        soup = BeautifulSoup(req, \"html.parser\")\n",
    "\n",
    "        #Aqui é para páginas estáticas. Não usa o webdriver\n",
    "        #req = requests.get(url)\n",
    "        #soup = BeautifulSoup(req.text, \"html.parser\")\n",
    "        #Adquirindo a lista dos produtos que se encontra na classe indicada\n",
    "        if alibaba:\n",
    "            classes = soup.find('div', class_ = \"organic-list app-organic-search__list\")\n",
    "            #Agora vamos buscar os itens da lista\n",
    "            items =  classes.find_all(class_ = 'organic-gallery-offer-outter J-offer-wrapper')\n",
    "        else:\n",
    "            classes = soup.find('ul', class_ = \"list-items\")\n",
    "            #Agora vamos buscar os itens da lista\n",
    "            items =  classes.find_all('li', class_ = 'list-item')\n",
    "\n",
    "        #Para cada item, pegar apenas descrição e o preco e guardar num dicionário\n",
    "        for i,item in enumerate(items):\n",
    "            if alibaba:\n",
    "                descricao.append(item.find('h4').get('title'))\n",
    "                preco = item.find('p', class_ = 'elements-offer-price-normal').get('title')\n",
    "            else:\n",
    "                descricao.append(item.find('a', class_ = 'item-title').get('title'))\n",
    "                preco = item.find('span', class_ = 'price-current').text\n",
    "\n",
    "            preco_min_max = re.findall(r'(\\d+[\\.,]\\d{1,2})', preco)\n",
    "            if len(preco_min_max) == 1:\n",
    "                preco_min_max.insert(0,'0.00') \n",
    "            preco_min.append(preco_min_max[0])\n",
    "            preco_max.append(preco_min_max[1])\n",
    "            \n",
    "    alibaba = True\n",
    "    paginas.clear()\n",
    "\n",
    "driver.quit()\n",
    "#transformando o dicionário em DataFrame do Pandas\n",
    "df = pd.DataFrame({\n",
    "    'descricao': descricao,\n",
    "    'preco_minimo': preco_min,\n",
    "    'preco_maximo': preco_max\n",
    "    })\n",
    "    #\"desc_items, columns=['Item','Descrição','Preço Mínimo', 'Preço Máximo'])\n",
    "df.info()\n",
    "df.head()\n",
    "# displaying the DataFrame  \n",
    "print('DataFrame:\\n', df) \n",
    "\n",
    "# saving the DataFrame as a CSV file \n",
    "gfg_csv_data = df.to_csv('lista.csv', header = True) \n",
    "\n",
    "\n"
   ]
  },
  {
   "cell_type": "code",
   "execution_count": 1,
   "metadata": {},
   "outputs": [
    {
     "output_type": "stream",
     "name": "stdout",
     "text": [
      "('$10.63-$16.82', '10.63', '16.82')\n"
     ]
    }
   ],
   "source": [
    "import re\n",
    "dici = {}\n",
    "fonte = '$10.63-$16.82' # - US $43.77 - 44.27 $15.00-$ 39.81 US $18.49 - US325,30 US $12,70'\n",
    "fonte_limpa = re.findall(r'(\\d+[\\.,]\\d{1,2})', fonte) #re.sub(r'[aA-Zz$\\-\\s+]','',fonte)\n",
    "#fonte_limpa = re.sub(r'[aA-Zz]','',fonte_limpa)\n",
    "dici = fonte,fonte_limpa[0], fonte_limpa[1]\n",
    "print(dici)\n",
    "\n",
    "#print(re.findall(r'(\\d+[\\.,]\\d{1,2})', fonte))\n"
   ]
  },
  {
   "cell_type": "code",
   "execution_count": 20,
   "metadata": {},
   "outputs": [
    {
     "output_type": "execute_result",
     "data": {
      "text/plain": [
       "('Hot cellphone touch displays for iPhone 11, mobile phone lcd screens replacement LCD display for iPhone 11 screen',\n",
       " '8.88',\n",
       " '38.71')"
      ]
     },
     "metadata": {},
     "execution_count": 20
    }
   ],
   "source": [
    "\"\"\"         if len(preco_min_max) > 1:\n",
    "                desc_items['preco_min'] = preco_min_max[0]\n",
    "                desc_items['preco_max'] = preco_min_max[1]\n",
    "            else:\n",
    "                desc_items['descricao'] = descricao\n",
    "                desc_items['preco_min'] = preco_min_max[0]\n",
    "                desc_items['preco_max'] = '0.00' \n",
    "\"\"\"\n"
   ]
  },
  {
   "cell_type": "code",
   "execution_count": null,
   "metadata": {},
   "outputs": [],
   "source": []
  }
 ],
 "metadata": {
  "kernelspec": {
   "display_name": "Python 3",
   "language": "python",
   "name": "python3"
  },
  "language_info": {
   "codemirror_mode": {
    "name": "ipython",
    "version": 3
   },
   "file_extension": ".py",
   "mimetype": "text/x-python",
   "name": "python",
   "nbconvert_exporter": "python",
   "pygments_lexer": "ipython3",
   "version": "3.8.5"
  }
 },
 "nbformat": 4,
 "nbformat_minor": 4
}