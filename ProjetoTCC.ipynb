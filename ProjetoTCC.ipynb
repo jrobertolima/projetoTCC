{
 "cells": [
  {
   "cell_type": "markdown",
   "metadata": {},
   "source": [
    "### 1. Definição do problema\n",
    "> O objetivo deste trabalho é apresentar uma análise sobre os preços de produtos importados pelo Brasil, comparando os valores declarados numa operação de importação com os preços praticados no comércio internacional.\n",
    ">Para isso, primeiramente, será realizado um levantamento de preços junto ao mercado mundial para um grupo de mercadorias de alto valor agregado.\n",
    "> Em seguida, buscar-se-ão os preços desses mesmos produtos declarados em processos de importação de mercadorias.\n",
    "> Por fim, far-se-á a comparação entre as médias desses valores, visando a uma conclusão quanto a indícios de fraudes - subfaturamento ou superfaturamento - nas operações de importação realizadas pelo importador nacional.\n",
    "\n",
    "### 2. A coleta de dados\n",
    "> Os datasets usados neste trabalho foram coletados de fontes diversas. \n",
    "> Definiu-se que os sites __www.aliexpress.com__ e __www.alibaba.com__, notórias fornecedores de produtos diversos, serão objeto de webscrapping realizado com a ferramenta de código aberto _Beautifull Soup_, a qual será utilizada para coletar uma gama de aproximadamente 10 mil registros de cada um desses sites.\n",
    "> Para delimitar o escopo da análise, será definido apenas uma gama de produtos, a qual apresenta uma variação grande de preços: __display lcd para aparelhos celulares__.\n",
    "\n",
    "__Bold por favor__ <br>\n",
    "_Italico Olha isso_ <br>\n",
    "$ a + bX$ <br>\n",
    "__________ dfjlkaj dlkjf lkajkdj\n",
    "> item \n",
    ">>item2\n",
    ">>>item3\n",
    "- item 1\n",
    "- item 2\n",
    "1. item 1\n",
    "2. item 2 <br>\n",
    "<font color=blue>\"font color=blue\"</font><br>\n",
    "paragrafog <br> outro paragrafo<br>\n",
    "#isto é comentário"
   ]
  },
  {
   "cell_type": "code",
   "execution_count": 1,
   "metadata": {
    "tags": []
   },
   "outputs": [
    {
     "output_type": "error",
     "ename": "FileNotFoundError",
     "evalue": "[Errno 2] No such file or directory: '/media/joao/HDLinux/tools'",
     "traceback": [
      "\u001b[0;31m---------------------------------------------------------------------------\u001b[0m",
      "\u001b[0;31mFileNotFoundError\u001b[0m                         Traceback (most recent call last)",
      "\u001b[0;32m<ipython-input-1-b919a5cf5692>\u001b[0m in \u001b[0;36m<module>\u001b[0;34m\u001b[0m\n\u001b[1;32m     39\u001b[0m \u001b[0;34m\u001b[0m\u001b[0m\n\u001b[1;32m     40\u001b[0m \u001b[0;31m#Ainda precisa Verificar com Try Except se driver está dispoível\u001b[0m\u001b[0;34m\u001b[0m\u001b[0;34m\u001b[0m\u001b[0;34m\u001b[0m\u001b[0m\n\u001b[0;32m---> 41\u001b[0;31m \u001b[0mdriver\u001b[0m \u001b[0;34m=\u001b[0m \u001b[0mwebdriver\u001b[0m\u001b[0;34m.\u001b[0m\u001b[0mFirefox\u001b[0m\u001b[0;34m(\u001b[0m\u001b[0;34m'/media/joao/HDLinux/tools'\u001b[0m\u001b[0;34m)\u001b[0m\u001b[0;34m\u001b[0m\u001b[0;34m\u001b[0m\u001b[0m\n\u001b[0m\u001b[1;32m     42\u001b[0m \u001b[0;34m\u001b[0m\u001b[0m\n\u001b[1;32m     43\u001b[0m \u001b[0;34m\u001b[0m\u001b[0m\n",
      "\u001b[0;32m~/anaconda3/lib/python3.8/site-packages/selenium/webdriver/firefox/webdriver.py\u001b[0m in \u001b[0;36m__init__\u001b[0;34m(self, firefox_profile, firefox_binary, timeout, capabilities, proxy, executable_path, options, service_log_path, firefox_options, service_args, desired_capabilities, log_path, keep_alive)\u001b[0m\n\u001b[1;32m    149\u001b[0m         \u001b[0;32mif\u001b[0m \u001b[0mfirefox_profile\u001b[0m \u001b[0;32mis\u001b[0m \u001b[0;32mnot\u001b[0m \u001b[0;32mNone\u001b[0m\u001b[0;34m:\u001b[0m\u001b[0;34m\u001b[0m\u001b[0;34m\u001b[0m\u001b[0m\n\u001b[1;32m    150\u001b[0m             \u001b[0;32mif\u001b[0m \u001b[0misinstance\u001b[0m\u001b[0;34m(\u001b[0m\u001b[0mfirefox_profile\u001b[0m\u001b[0;34m,\u001b[0m \u001b[0mbasestring\u001b[0m\u001b[0;34m)\u001b[0m\u001b[0;34m:\u001b[0m\u001b[0;34m\u001b[0m\u001b[0;34m\u001b[0m\u001b[0m\n\u001b[0;32m--> 151\u001b[0;31m                 \u001b[0mfirefox_profile\u001b[0m \u001b[0;34m=\u001b[0m \u001b[0mFirefoxProfile\u001b[0m\u001b[0;34m(\u001b[0m\u001b[0mfirefox_profile\u001b[0m\u001b[0;34m)\u001b[0m\u001b[0;34m\u001b[0m\u001b[0;34m\u001b[0m\u001b[0m\n\u001b[0m\u001b[1;32m    152\u001b[0m             \u001b[0mself\u001b[0m\u001b[0;34m.\u001b[0m\u001b[0mprofile\u001b[0m \u001b[0;34m=\u001b[0m \u001b[0mfirefox_profile\u001b[0m\u001b[0;34m\u001b[0m\u001b[0;34m\u001b[0m\u001b[0m\n\u001b[1;32m    153\u001b[0m             \u001b[0moptions\u001b[0m\u001b[0;34m.\u001b[0m\u001b[0mprofile\u001b[0m \u001b[0;34m=\u001b[0m \u001b[0mfirefox_profile\u001b[0m\u001b[0;34m\u001b[0m\u001b[0;34m\u001b[0m\u001b[0m\n",
      "\u001b[0;32m~/anaconda3/lib/python3.8/site-packages/selenium/webdriver/firefox/firefox_profile.py\u001b[0m in \u001b[0;36m__init__\u001b[0;34m(self, profile_directory)\u001b[0m\n\u001b[1;32m     77\u001b[0m             \u001b[0mself\u001b[0m\u001b[0;34m.\u001b[0m\u001b[0mtempfolder\u001b[0m \u001b[0;34m=\u001b[0m \u001b[0mtempfile\u001b[0m\u001b[0;34m.\u001b[0m\u001b[0mmkdtemp\u001b[0m\u001b[0;34m(\u001b[0m\u001b[0;34m)\u001b[0m\u001b[0;34m\u001b[0m\u001b[0;34m\u001b[0m\u001b[0m\n\u001b[1;32m     78\u001b[0m             \u001b[0mnewprof\u001b[0m \u001b[0;34m=\u001b[0m \u001b[0mos\u001b[0m\u001b[0;34m.\u001b[0m\u001b[0mpath\u001b[0m\u001b[0;34m.\u001b[0m\u001b[0mjoin\u001b[0m\u001b[0;34m(\u001b[0m\u001b[0mself\u001b[0m\u001b[0;34m.\u001b[0m\u001b[0mtempfolder\u001b[0m\u001b[0;34m,\u001b[0m \u001b[0;34m\"webdriver-py-profilecopy\"\u001b[0m\u001b[0;34m)\u001b[0m\u001b[0;34m\u001b[0m\u001b[0;34m\u001b[0m\u001b[0m\n\u001b[0;32m---> 79\u001b[0;31m             shutil.copytree(self.profile_dir, newprof,\n\u001b[0m\u001b[1;32m     80\u001b[0m                             ignore=shutil.ignore_patterns(\"parent.lock\", \"lock\", \".parentlock\"))\n\u001b[1;32m     81\u001b[0m             \u001b[0mself\u001b[0m\u001b[0;34m.\u001b[0m\u001b[0mprofile_dir\u001b[0m \u001b[0;34m=\u001b[0m \u001b[0mnewprof\u001b[0m\u001b[0;34m\u001b[0m\u001b[0;34m\u001b[0m\u001b[0m\n",
      "\u001b[0;32m~/anaconda3/lib/python3.8/shutil.py\u001b[0m in \u001b[0;36mcopytree\u001b[0;34m(src, dst, symlinks, ignore, copy_function, ignore_dangling_symlinks, dirs_exist_ok)\u001b[0m\n\u001b[1;32m    550\u001b[0m     \"\"\"\n\u001b[1;32m    551\u001b[0m     \u001b[0msys\u001b[0m\u001b[0;34m.\u001b[0m\u001b[0maudit\u001b[0m\u001b[0;34m(\u001b[0m\u001b[0;34m\"shutil.copytree\"\u001b[0m\u001b[0;34m,\u001b[0m \u001b[0msrc\u001b[0m\u001b[0;34m,\u001b[0m \u001b[0mdst\u001b[0m\u001b[0;34m)\u001b[0m\u001b[0;34m\u001b[0m\u001b[0;34m\u001b[0m\u001b[0m\n\u001b[0;32m--> 552\u001b[0;31m     \u001b[0;32mwith\u001b[0m \u001b[0mos\u001b[0m\u001b[0;34m.\u001b[0m\u001b[0mscandir\u001b[0m\u001b[0;34m(\u001b[0m\u001b[0msrc\u001b[0m\u001b[0;34m)\u001b[0m \u001b[0;32mas\u001b[0m \u001b[0mitr\u001b[0m\u001b[0;34m:\u001b[0m\u001b[0;34m\u001b[0m\u001b[0;34m\u001b[0m\u001b[0m\n\u001b[0m\u001b[1;32m    553\u001b[0m         \u001b[0mentries\u001b[0m \u001b[0;34m=\u001b[0m \u001b[0mlist\u001b[0m\u001b[0;34m(\u001b[0m\u001b[0mitr\u001b[0m\u001b[0;34m)\u001b[0m\u001b[0;34m\u001b[0m\u001b[0;34m\u001b[0m\u001b[0m\n\u001b[1;32m    554\u001b[0m     return _copytree(entries=entries, src=src, dst=dst, symlinks=symlinks,\n",
      "\u001b[0;31mFileNotFoundError\u001b[0m: [Errno 2] No such file or directory: '/media/joao/HDLinux/tools'"
     ]
    }
   ],
   "source": [
    "from bs4 import BeautifulSoup\n",
    "import requests\n",
    "import csv\n",
    "import pandas as pd\n",
    "\n",
    "#bibliotecas para requisição de páginas dinâmicas\n",
    "from selenium import webdriver \n",
    "#from selenium.webdriver.common.keys import Keys \n",
    "from selenium.webdriver.common.by import By\n",
    "#from selenium.webdriver.support.ui import WebDriverWait\n",
    "#from selenium.webdriver.support import expected_conditions as EC\n",
    "import time\n",
    "import os\n",
    "    \n",
    "def alteraIdioma(driver):\n",
    "    driver.find_element_by_xpath('//*[@id=\"switcher-info\"]').click()#/html/body/div[2]/div/div/div[2]/div[2]/div/div[1]/div[2]/#div[1]/span[2]/span/span[2]/span\n",
    "    time.sleep(3)\n",
    "    painel = driver.find_element_by_xpath('/html/body/div[1]/div[3]/div/div/div[4]/div/div')\n",
    "    painel.click()\n",
    "    #painel country selector switcher\n",
    "    time.sleep(3)\n",
    "    driver.find_element_by_xpath('/html/body/div[1]/div[3]/div/div/div[4]/div/div/div/div[1]/div/a[1]/span/span').click()\n",
    "    time.sleep(3)\n",
    "    painel.find_element_by_xpath(\"/html/body/div[1]/div[3]/div/div/div[4]/div/div/div/div[1]/div/div[1]/ul/li[224]\").click()\n",
    "    time.sleep(3)\n",
    "    driver.find_element_by_xpath('/html/body/div[1]/div[3]/div/div/div[4]/div/div/div/div[4]/button').click()\n",
    "    driver.refresh()\n",
    "           \n",
    "    return driver\n",
    "\n",
    "\n",
    "\n",
    "#Preparando a aquisição das páginas\n",
    "    #Criando informação sobre quem está fazendo o scrap\n",
    "headers = {\n",
    "    'User-Agent': 'João Lima, from PUC-MG University',\n",
    "    'From': 'jbetol@gmail.com'\n",
    "}\n",
    "\n",
    "#Ainda precisa Verificar com Try Except se driver está dispoível\n",
    "try: #if os.path.exists('/media/joao/HDLinux/tools/'):\n",
    "    driver = webdriver.Firefox('/media/joao/HDLinux/tools')\n",
    "except IOError:\n",
    "    print(\"Geckdriver not found!\")\n",
    "finally:\n",
    "    return    \n",
    "    \n",
    "\n",
    "\n",
    "#url_alibaba = \"https://www.alibaba.com/trade/search?IndexArea=product_en&CatId=5904002&fsb=y&viewtype=&tab=&SearchScene=&SearchText=phone+display+lcd+screen\"\n",
    "\n",
    "#url_aliexpress = \"https://www.aliexpress.com/wholesale?catId=0&initiative_id=SB_20210203140628&SearchText=phone+display+lcd+screen\"\n",
    "\n",
    "url_aliexpress = 'https://www.aliexpress.com/wholesale?trafficChannel=main&d=y&CatId=0&SearchText=phone+display+lcd+for+screen&ltype=wholesale&SortType=default&page='\n",
    "\n",
    "url_alibaba = 'https://www.alibaba.com/products/phone_display_lcd_screen/CID5904002.html?spm=a2700.galleryofferlist.0.0.126c1524tZVgH8&IndexArea=product_en&page='\n",
    "\n",
    "#Vamos pegar 50 páginas de dados e jogar num array\n",
    "paginas = []\n",
    "qnt_paginas = 3\n",
    "passou = False\n",
    "alibaba = False  # Vamos começar scrapping por Alibaba.com\n",
    "site_index = 2  # números de sites a ser scrapping\n",
    "desc_items = {} # Dicionário que vai guardar os dados das páginas in memory\n",
    "while site_index > 0  :\n",
    "    site_index = site_index - 1\n",
    "    for i in range(1,qnt_paginas):\n",
    "        if not alibaba:\n",
    "            url = url_aliexpress + str(i)\n",
    "        else:\n",
    "            url = url_alibaba + str(i)\n",
    "\n",
    "        paginas.append(url)\n",
    "\n",
    "    #loop para navegar em 30 páginas de aquisição de dados\n",
    "    for pagina in paginas:\n",
    "        driver.get(pagina)\n",
    "        #driver.execute_script(\"arguments[0].setAttribute('lang', 'us')\", elemento)#, 'class', 'vote-link up voted')\n",
    "\n",
    "        if not alibaba and not passou:\n",
    "            alteraIdioma(driver)\n",
    "            passou = True\n",
    "\n",
    "    #Verificar modo silencioso para o geckodriver\n",
    "        \n",
    "        req = driver.page_source\n",
    "\n",
    "        soup = BeautifulSoup(req, \"html.parser\")\n",
    "\n",
    "        #Aqui é para páginas estáticas. Não usa o webdriver\n",
    "        #req = requests.get(url)\n",
    "        #soup = BeautifulSoup(req.text, \"html.parser\")\n",
    "        #Adquirindo a lista dos produtos que se encontra na classe indicada\n",
    "        if alibaba:\n",
    "            classes = soup.find('div', class_ = \"organic-list app-organic-search__list\")\n",
    "            #Agora vamos buscar os itens da lista\n",
    "            items =  classes.find_all(class_ = 'organic-gallery-offer-outter J-offer-wrapper')\n",
    "        else:\n",
    "            classes = soup.find('ul', class_ = \"list-items\")\n",
    "            #Agora vamos buscar os itens da lista\n",
    "            #items_div =  classes.find_all('div')\n",
    "            items =  classes.find_all('li', class_ = 'list-item')\n",
    "\n",
    "        #Para cada item, pegar apenas descrição e o preco e guardar num dicionário\n",
    "        for item in items:\n",
    "            if alibaba:\n",
    "                descricao = item.find('h4').get('title')\n",
    "                preco = item.find('p', class_ = 'elements-offer-price-normal').get('title')\n",
    "            else:\n",
    "                descricao = item.find('a', class_ = 'item-title').get('title')\n",
    "                preco = item.find('span', class_ = 'price-current').text\n",
    "\n",
    "            desc_items[descricao] = preco\n",
    "    alibaba = True\n",
    "    paginas.clear()\n",
    "\n",
    "driver.quit()\n",
    "#transformando o dicionário em DataFrame do Pandas\n",
    "df = pd.DataFrame(desc_items.items(), columns=['Descrição','Preço']) \n",
    "df.info()\n",
    "# displaying the DataFrame  \n",
    "print('DataFrame:\\n', df) \n",
    "\n",
    "# saving the DataFrame as a CSV file \n",
    "gfg_csv_data = df.to_csv('lista.csv', header = True) \n",
    "\n",
    "\n"
   ]
  },
  {
   "cell_type": "code",
   "execution_count": 105,
   "metadata": {},
   "outputs": [
    {
     "output_type": "stream",
     "name": "stdout",
     "text": [
      "['10.63', '16.82', '43.77', '44.27', '15.00', '39.81', '18.49', '325,30', '12,70']\n"
     ]
    }
   ],
   "source": [
    "import re\n",
    "fonte = '$10.63-$16.82 - US $43.77 - 44.27 $15.00-$ 39.81 US $18.49 - US325,30 US $12,70'\n",
    "fonte_limpa = re.sub(r'[aA-Zz$\\-\\s+]','',fonte)\n",
    "#fonte_limpa = re.sub(r'[aA-Zz]','',fonte_limpa)\n",
    "\n",
    "#print(fonte_limpa +'\\n')\n",
    "\n",
    "print(re.findall(r'(\\d+[\\.,]\\d{1,2})', fonte))\n"
   ]
  },
  {
   "cell_type": "code",
   "execution_count": 108,
   "metadata": {},
   "outputs": [
    {
     "output_type": "stream",
     "name": "stdout",
     "text": [
      "{'Lcd Screen Phone Display Phone Lcd Screen LCD Screen For Phone 7 7plus 8 8plus X Refurbished LCD Display For Phone 7 Plus Screen Replacement OEM Touch Screen LCD': '$14.60', 'Display Phone Lcd Screen Iphone Lcds Mobile Lcd Display Screen Free Shipping Mobile Display Factory 8 Phone Lcd Digitizer Screen For Iphone 8 Mobile Phone Display Lcds Screen Replacement': '$11.53-$12.33', 'Wholesales Mobile Phones LCD Screens TFT mobile lcd Cellphone touch display for iPhone 6SP': '$8.00-$20.60', 'Phone Lcd Screen Display Factory Price Mobile Phone LCD Remplacement Screen Display For Phone 5s': '$5.00-$10.50', 'Gx gx3 Hx Jk Rj Amoled Oled Mobile Phone Lcds Screen Replacement With Touch Screen Digitizer Assembly For Iphone5 6 7 8 10 X xr': '$9.64-$110.98', 'Mobile Accessories Mobile Phone Replacement Touch Screen Display LCD Screen for iPhone': '$1.00', 'Mobile Phone LCD Digitizer Accessories Parts mobile lcd screen Mobile Phone LCDs Touch Display': '$1.00-$5.00', 'lcd screen wholesale for samsung lcd screen For samsung display for samsung lcd': '$1.00-$5.00', 'Brand New screen lcd for iphone x lcd display screen replacement,for iphone x cell phone screen repair SS4': '$5.00-$20.00', 'Best price mobile phone lcd screen for iphone X XS XR 11,mobile lcd display replacement for iphone X 11,phone lcd for iphone X': '$35.82-$43.76', 'Mobile phone lcd for all models original touch screen display replacement digitizer mobile lcd screen wholesale': '$4.50-$25.70', 'Factory Wholesale Mobile phone lcd replacement screen for iPhone 6, lcd display for apple 6': '$4.90-$9.90', 'Cheap mobile phone display LCD screen replacement for iphone 6, pantallas para celular lcd dispaly for iphone 6 6s 6plus 6s plus': '$10.82-$19.55', 'Oem Original Mobile Phone Lcd Screen For Iphone 6 7 8 X Xr Lcd Display Screen For Iphone Lcd Screen': '$5.90-$9.90', 'LCD Refurbishe Touch Screen For iPhone 6 7 8 Plusd, lcd display for i phone 6': '$9.29-$9.79', 'cell phone lcd touch screen replacement for iphone , for samsung lcd screen display , mobile lcd screen for huawei': '$3.10-$8.32', 'Original Pantallas Para Celulares For Huawei P smart 2019 Lcd Pantallas Replacement Mobile Phone Lcd Display For Huawei': '$16.24-$16.58', 'pantalla a20 incell lcd display for samsung galaxy a20 a30 a30s a50 a70 a80 samsung lcd display touch screen incell': '$14.88-$36.25', 'Best Quality Cell phone lcd screen with touch digitizer for iPhone 8 lcd display': '$9.00-$10.00', 'SAEF Cell Phone Touch Screen Replacement LCD Display For Iphone 8 Screen Replacement': '$7.39-$8.29', 'Factory direct Mobile Phone LCD Display Screen For Iphone 6': '$6.70-$8.00', 'LCD Screen for iPhone 11 Pro Max XS XR X 8 7 6S 6 Plus 5S 5C LCD with Digitizer Touch Screen Mobile Phone LCDs Elekworld Display': '$10.78-$113.80', 'Display Assembly Original Phones Spares LCD For Iphone Xr Lcd Replacement Screen': '$5.00-$48.00', 'cell phone lcd display for iphone 6s lcd with digitizer screen for iphone6s oem lcd touch screen': '$14.07-$31.19', 'LCD Touch Screen Assembly Low Prices China Mobile Phone LCD For Samsung LCDs Pantalla': '$11.50-$48.00', 'GX OLED screen for iphone lcd screen replacement for iphone XR mobile phone lcd display for iphone XS MAX lcd screen': '$16.28-$201.33', 'Original Mobile Phone LCD For Asus ROG 2 ZS660KL Display Touch Digitizer Assembly For Asus ROG Phone II ZS660KL LCD Screen': '$106.00', 'Tecno Mobile Phone Lcd Screens Y85 V9Replacement Mobile Phone Display Lcd Touch Screen for Vivo': '$13.99-$15.99', 'premium version lifetime warranty Phone Touch Screen Digitizer mobile phone lcd Assembly display screen replacement': '$12.50-$13.50', 'Best Premium Quality Lcd Screen for ip 7 Phone Lcd Display Touch Screen Digitizer Replacement Parts Refurbish': '$9.80-$11.00', 'China Manufacturers Cell Mobile Phone Spare Parts Mobile Phone Screen for iPhone 5 LCD Display': '$9.70-$10.00', 'Takko Phone Screen LCD Display for Xiaomi Redmi Note 4 LCD Display Touch Screen': '$8.88-$12.88', 'Replacement Mobile Phone Pantallas Lcd Display Assembly Touch Screen For Samsung Galaxy Original A10 A105 LCD Touch Screen': '$18.30-$20.00', 'OEM Mobile Phone LCD factory OLED LCD for iPhone XS MAX LCD Touch Display Assembly Parts OLED Screen': '$78.98-$80.84', 'Wholesale factory price phone screen display refurbished Replacement A+++ quality LCD for iphone 5S for mobile repairing': '$6.10-$6.30', 'LCD Screen For Samsung Galaxy A21S A217F A217M Mobile Phone LCD Display Touch Screen For A21S Replacement': '$40.56-$43.44', 'LCD KA7 mobile phone lcds display Spark 2 Touch Screen Digitizer Assembly for Tecno Spark 2 LCD Screen': '$17.82-$24.96', 'LCD Digitizer Accessories Parts screen Mobile Phone LCDs Touch Display': '$56.80-$58.80', 'Hot Sale Mobile Phone Display Lcd Screen is apply to Huawei Psmart honor9lite 7s': '$10.50-$11.00', 'Top quality mobile phone Screen For Iphone XS MAX lcd display , replacement Lcd screen for iphone X XR XS OLED soft/hard': '$27.91-$148.84', 'Factory direct price phone LCD incell lcd screen replacment for phone': '$30.00', 'Mobile Phone LCD Touch Screen Display Accessories For iPhone 6s LCD': '$14.10-$20.00', 'Tested stricyly mobile phone touch screen lcd display for iphone 5s': '$6.80', 'Mobile phone LED screen for iphone X lcd display screen': '$16.00-$79.00', 'HO3I incell lcd screen for iphone7 Wholesale Mobile Phone LCD display for iphone7 LCD display': '$5.00-$15.80', 'Mobile Phone lcds Display Screen for iPhone 6 LCD touch Digitizer Assembly replace for iPhone 6 Lcd': '$8.55-$10.39', 'Professional Manufacturing Replacement Assembly For Iphone 6s Phone Display Lcd Screen': '$14.39-$17.26', 'Mobile Phone Display LCD Screen For Samsung Galaxy J3 2016 J320 Lcd Touch Screen For Galaxy J3 Lcd Screen Display': '$13.99-$15.55', 'Wholesale LCD Touch Screen Display For ZTE V10 Vita Mobile Phone LCD Touch Screen V10 Vite LCD Touch Screen': '$17.21-$19.85', 'Wholesale Pantalla LCD Touch Screen for Samsung Galaxy A10S A20S A20E A30S A50S A60 A90 Display Assembly': '$8.60-$54.20', 'For iphone 7 plus display screen, black for iphone 7 plus lcd original,mobile phone lcd display for iphone 7 plus touch screen': '$9.00-$12.68', 'Mobile Phone Display, Wholesale Mobile Phone Touch Screen, Cell Phone Lcd Display Screen From Manufacturer': '$4.90-$9.90', 'mobile phone lcds touch screen display for iphone 6': '$10.67-$19.80', 'RUNDA Cheapest Price Phone Screen LCD Touch Digitizer Display For Apple iphone 6S': '$14.36-$15.84', 'New arrival high quality mobile phone lcd screen for iphone 6S display': '$14.50-$15.50', 'Original Mobile Phone Display LCD Touch Screen For Huawei P30 Lite Hot Selling': '$41.00-$43.00', 'phone lcds for iPhone 7 LCD screen Replacement Mobile phone Touch Display': '$14.60-$15.90', 'Hotsales For HTC U11 Plus mobile phone lcd screen with digitizer display': '$39.50-$41.50', 'Replacement Mobile phone LCD Digitizer Assembly for Vivo Y91/Y91i/Y91c/Y93/Y93s/Y95 with LCD Display Screen': '$9.90', 'mobile phone screens for iphone 6, lcd touch display with digtizer for iphone 6, screen low price': '$10.15-$11.21', 'Factory Price LCD Assembly For Oppo A5/A3S LCD Screen Display With Touch Panel Digitizer': '$12.00-$13.15', 'Original New High Quality Trading Guarantees Mobile Phone Lcd Touch Screen Display Spare Parts For Galaxy A50 LCD With Frame': '$23.50-$87.80', 'Cell Phone Lcd Touch Screen For IPhone 6 7 8 X Display Replacement': '$11.88-$19.88', 'New arrivals mobile phone lcd screen display replacements for iphone 11/ 11pro/ 11pro max': '$6.20-$208.80', 'phone lcd display touch screen for samsung S9 S9plus': '$59.90-$79.90', 'LCD Screen for iPhone 8 OEM LCD Display With Touch Digitizer Assembly Replacement Electronic Mobile Phone Repair Parts': '$10.53-$11.80', 'Mobile Phone LCD for Huawei P20 Lite LCD Display Touch Screen With Touch Screen Digitizer Assembly \"5.84': '$7.85-$9.10', 'Screen Touch Phone Big Screen Smrt Phone New Mobile Phones Display Lcd Touch Screen For Apple IPhone 6G PLUS': '$14.25-$15.16', 'Phone Screen Replacement Price Mobile Phones Display Lcd Touch Screen For Honor 20lite': '$30.00', 'mobile phone lcd touch Screen display lcd screen For iphone xs max': '$40.00-$46.65', '5.5 Inch Complete LCD Touch Screen Digitizer For Asus Zenfone 2 ZE551ML Z00AD LCD Display': '$10.20-$13.27'}\n"
     ]
    }
   ],
   "source": [
    "print(desc_items)"
   ]
  },
  {
   "cell_type": "code",
   "execution_count": null,
   "metadata": {},
   "outputs": [],
   "source": []
  }
 ],
 "metadata": {
  "kernelspec": {
   "display_name": "Python 3",
   "language": "python",
   "name": "python3"
  },
  "language_info": {
   "codemirror_mode": {
    "name": "ipython",
    "version": 3
   },
   "file_extension": ".py",
   "mimetype": "text/x-python",
   "name": "python",
   "nbconvert_exporter": "python",
   "pygments_lexer": "ipython3",
   "version": "3.8.5-final"
  }
 },
 "nbformat": 4,
 "nbformat_minor": 4
}