{
 "cells": [
  {
   "cell_type": "markdown",
   "metadata": {},
   "source": [
    "### 1. Definição do problema\n",
    "> O objetivo deste trabalho é apresentar uma análise sobre os preços de produtos importados pelo Brasil, comparando os valores declarados numa operação de importação com os preços praticados no comércio internacional.\n",
    "Para isso, primeiramente, será realizado um levantamento de preços junto ao mercado mundial para um grupo de mercadorias de alto valor agregado.\n",
    "Em seguida, buscar-se-á os preços desses mesmos produtos declarados em processos de importação de mercadorias.\n",
    "Por fim, far-se-á a comparação entre as médias desses valores, visando a uma conclusão quanto a indícios de fraudes - subfaturamento ou superfaturamento - nas operações de importação realizadas pelas empresas brasileiras.\n",
    "\n",
    "### 2. A coleta de dados\n",
    "> Os datasets usados neste trabalho foram coletados de fontes diversas. \n",
    "> O DataCoSupplyChainDataset tem como fonte o site __www.kaggle.com__ \n",
    "\n",
    "__Bold por favor__ <br>\n",
    "_Italico Olha isso_ <br>\n",
    "$ a + bX$ <br>\n",
    "__________ dfjlkaj dlkjf lkajkdj\n",
    "> item \n",
    ">>item2\n",
    ">>>item3\n",
    "- item 1\n",
    "- item 2\n",
    "1. item 1\n",
    "2. item 2 <br>\n",
    "<font color=blue>\"font color=blue\"</font><br>\n",
    "paragrafog <br> outro paragrafo<br>\n",
    "#isto é comentário"
   ]
  },
  {
   "cell_type": "code",
   "execution_count": 38,
   "metadata": {
    "tags": []
   },
   "outputs": [
    {
     "output_type": "stream",
     "name": "stdout",
     "text": [
      "None\n"
     ]
    }
   ],
   "source": [
    "from bs4 import BeautifulSoup\n",
    "import requests\n",
    "url = \"https://pt.aliexpress.com/wholesale?catId=0&initiative_id=SB_20210128163538&SearchText=smartphone+lcd\"\n",
    "req = requests.get(url)\n",
    "soup = BeautifulSoup(req.content, \"html.parser\")\n",
    "\n",
    "classes = soup.find('div', class_ = 'placeholder-div')\n",
    "print(classes)\n",
    "#for link in soup.find_all('div'):#, attrs={'class':'price-current'}):\n",
    "#    print(link.text)\n"
   ]
  },
  {
   "cell_type": "code",
   "execution_count": 9,
   "metadata": {},
   "outputs": [],
   "source": [
    "import pandas as pd\n",
    "import numpy as np\n",
    "import matplotlib\n",
    "import matplotlib as plt\n",
    "import seaborn as sns"
   ]
  },
  {
   "cell_type": "code",
   "execution_count": 10,
   "metadata": {},
   "outputs": [],
   "source": [
    "df = pd.read_csv('Datasets/DataCoSupplyChainDataset.csv', encoding='unicode_escape')"
   ]
  },
  {
   "cell_type": "code",
   "execution_count": 22,
   "metadata": {},
   "outputs": [
    {
     "output_type": "execute_result",
     "data": {
      "text/plain": [
       "       Type  Days for shipping (real)  Days for shipment (scheduled)  \\\n",
       "0     DEBIT                         3                              4   \n",
       "1  TRANSFER                         5                              4   \n",
       "2      CASH                         4                              4   \n",
       "3     DEBIT                         3                              4   \n",
       "4   PAYMENT                         2                              4   \n",
       "\n",
       "   Benefit per order  Sales per customer   Delivery Status  \\\n",
       "0          91.250000          314.640015  Advance shipping   \n",
       "1        -249.089996          311.359985     Late delivery   \n",
       "2        -247.779999          309.720001  Shipping on time   \n",
       "3          22.860001          304.809998  Advance shipping   \n",
       "4         134.210007          298.250000  Advance shipping   \n",
       "\n",
       "   Late_delivery_risk  Category Id   Category Name Customer City  ...  \\\n",
       "0                   0           73  Sporting Goods        Caguas  ...   \n",
       "1                   1           73  Sporting Goods        Caguas  ...   \n",
       "2                   0           73  Sporting Goods      San Jose  ...   \n",
       "3                   0           73  Sporting Goods   Los Angeles  ...   \n",
       "4                   0           73  Sporting Goods        Caguas  ...   \n",
       "\n",
       "  Order Zipcode Product Card Id Product Category Id  Product Description  \\\n",
       "0           NaN            1360                  73                  NaN   \n",
       "1           NaN            1360                  73                  NaN   \n",
       "2           NaN            1360                  73                  NaN   \n",
       "3           NaN            1360                  73                  NaN   \n",
       "4           NaN            1360                  73                  NaN   \n",
       "\n",
       "                                  Product Image  Product Name Product Price  \\\n",
       "0  http://images.acmesports.sports/Smart+watch   Smart watch         327.75   \n",
       "1  http://images.acmesports.sports/Smart+watch   Smart watch         327.75   \n",
       "2  http://images.acmesports.sports/Smart+watch   Smart watch         327.75   \n",
       "3  http://images.acmesports.sports/Smart+watch   Smart watch         327.75   \n",
       "4  http://images.acmesports.sports/Smart+watch   Smart watch         327.75   \n",
       "\n",
       "  Product Status shipping date (DateOrders)   Shipping Mode  \n",
       "0              0             2/3/2018 22:56  Standard Class  \n",
       "1              0            1/18/2018 12:27  Standard Class  \n",
       "2              0            1/17/2018 12:06  Standard Class  \n",
       "3              0            1/16/2018 11:45  Standard Class  \n",
       "4              0            1/15/2018 11:24  Standard Class  \n",
       "\n",
       "[5 rows x 53 columns]"
      ],
      "text/html": "<div>\n<style scoped>\n    .dataframe tbody tr th:only-of-type {\n        vertical-align: middle;\n    }\n\n    .dataframe tbody tr th {\n        vertical-align: top;\n    }\n\n    .dataframe thead th {\n        text-align: right;\n    }\n</style>\n<table border=\"1\" class=\"dataframe\">\n  <thead>\n    <tr style=\"text-align: right;\">\n      <th></th>\n      <th>Type</th>\n      <th>Days for shipping (real)</th>\n      <th>Days for shipment (scheduled)</th>\n      <th>Benefit per order</th>\n      <th>Sales per customer</th>\n      <th>Delivery Status</th>\n      <th>Late_delivery_risk</th>\n      <th>Category Id</th>\n      <th>Category Name</th>\n      <th>Customer City</th>\n      <th>...</th>\n      <th>Order Zipcode</th>\n      <th>Product Card Id</th>\n      <th>Product Category Id</th>\n      <th>Product Description</th>\n      <th>Product Image</th>\n      <th>Product Name</th>\n      <th>Product Price</th>\n      <th>Product Status</th>\n      <th>shipping date (DateOrders)</th>\n      <th>Shipping Mode</th>\n    </tr>\n  </thead>\n  <tbody>\n    <tr>\n      <th>0</th>\n      <td>DEBIT</td>\n      <td>3</td>\n      <td>4</td>\n      <td>91.250000</td>\n      <td>314.640015</td>\n      <td>Advance shipping</td>\n      <td>0</td>\n      <td>73</td>\n      <td>Sporting Goods</td>\n      <td>Caguas</td>\n      <td>...</td>\n      <td>NaN</td>\n      <td>1360</td>\n      <td>73</td>\n      <td>NaN</td>\n      <td>http://images.acmesports.sports/Smart+watch</td>\n      <td>Smart watch</td>\n      <td>327.75</td>\n      <td>0</td>\n      <td>2/3/2018 22:56</td>\n      <td>Standard Class</td>\n    </tr>\n    <tr>\n      <th>1</th>\n      <td>TRANSFER</td>\n      <td>5</td>\n      <td>4</td>\n      <td>-249.089996</td>\n      <td>311.359985</td>\n      <td>Late delivery</td>\n      <td>1</td>\n      <td>73</td>\n      <td>Sporting Goods</td>\n      <td>Caguas</td>\n      <td>...</td>\n      <td>NaN</td>\n      <td>1360</td>\n      <td>73</td>\n      <td>NaN</td>\n      <td>http://images.acmesports.sports/Smart+watch</td>\n      <td>Smart watch</td>\n      <td>327.75</td>\n      <td>0</td>\n      <td>1/18/2018 12:27</td>\n      <td>Standard Class</td>\n    </tr>\n    <tr>\n      <th>2</th>\n      <td>CASH</td>\n      <td>4</td>\n      <td>4</td>\n      <td>-247.779999</td>\n      <td>309.720001</td>\n      <td>Shipping on time</td>\n      <td>0</td>\n      <td>73</td>\n      <td>Sporting Goods</td>\n      <td>San Jose</td>\n      <td>...</td>\n      <td>NaN</td>\n      <td>1360</td>\n      <td>73</td>\n      <td>NaN</td>\n      <td>http://images.acmesports.sports/Smart+watch</td>\n      <td>Smart watch</td>\n      <td>327.75</td>\n      <td>0</td>\n      <td>1/17/2018 12:06</td>\n      <td>Standard Class</td>\n    </tr>\n    <tr>\n      <th>3</th>\n      <td>DEBIT</td>\n      <td>3</td>\n      <td>4</td>\n      <td>22.860001</td>\n      <td>304.809998</td>\n      <td>Advance shipping</td>\n      <td>0</td>\n      <td>73</td>\n      <td>Sporting Goods</td>\n      <td>Los Angeles</td>\n      <td>...</td>\n      <td>NaN</td>\n      <td>1360</td>\n      <td>73</td>\n      <td>NaN</td>\n      <td>http://images.acmesports.sports/Smart+watch</td>\n      <td>Smart watch</td>\n      <td>327.75</td>\n      <td>0</td>\n      <td>1/16/2018 11:45</td>\n      <td>Standard Class</td>\n    </tr>\n    <tr>\n      <th>4</th>\n      <td>PAYMENT</td>\n      <td>2</td>\n      <td>4</td>\n      <td>134.210007</td>\n      <td>298.250000</td>\n      <td>Advance shipping</td>\n      <td>0</td>\n      <td>73</td>\n      <td>Sporting Goods</td>\n      <td>Caguas</td>\n      <td>...</td>\n      <td>NaN</td>\n      <td>1360</td>\n      <td>73</td>\n      <td>NaN</td>\n      <td>http://images.acmesports.sports/Smart+watch</td>\n      <td>Smart watch</td>\n      <td>327.75</td>\n      <td>0</td>\n      <td>1/15/2018 11:24</td>\n      <td>Standard Class</td>\n    </tr>\n  </tbody>\n</table>\n<p>5 rows × 53 columns</p>\n</div>"
     },
     "metadata": {},
     "execution_count": 22
    }
   ],
   "source": [
    "df.head()"
   ]
  },
  {
   "source": [],
   "cell_type": "markdown",
   "metadata": {}
  },
  {
   "cell_type": "code",
   "execution_count": 23,
   "metadata": {},
   "outputs": [
    {
     "output_type": "execute_result",
     "data": {
      "text/plain": [
       "Index(['Type', 'Days for shipping (real)', 'Days for shipment (scheduled)',\n",
       "       'Benefit per order', 'Sales per customer', 'Delivery Status',\n",
       "       'Late_delivery_risk', 'Category Id', 'Category Name', 'Customer City',\n",
       "       'Customer Country', 'Customer Email', 'Customer Fname', 'Customer Id',\n",
       "       'Customer Lname', 'Customer Password', 'Customer Segment',\n",
       "       'Customer State', 'Customer Street', 'Customer Zipcode',\n",
       "       'Department Id', 'Department Name', 'Latitude', 'Longitude', 'Market',\n",
       "       'Order City', 'Order Country', 'Order Customer Id',\n",
       "       'order date (DateOrders)', 'Order Id', 'Order Item Cardprod Id',\n",
       "       'Order Item Discount', 'Order Item Discount Rate', 'Order Item Id',\n",
       "       'Order Item Product Price', 'Order Item Profit Ratio',\n",
       "       'Order Item Quantity', 'Sales', 'Order Item Total',\n",
       "       'Order Profit Per Order', 'Order Region', 'Order State', 'Order Status',\n",
       "       'Order Zipcode', 'Product Card Id', 'Product Category Id',\n",
       "       'Product Description', 'Product Image', 'Product Name', 'Product Price',\n",
       "       'Product Status', 'shipping date (DateOrders)', 'Shipping Mode'],\n",
       "      dtype='object')"
      ]
     },
     "metadata": {},
     "execution_count": 23
    }
   ],
   "source": [
    "df.columns"
   ]
  },
  {
   "cell_type": "code",
   "execution_count": 24,
   "metadata": {},
   "outputs": [
    {
     "output_type": "execute_result",
     "data": {
      "text/plain": [
       "(180519, 53)"
      ]
     },
     "metadata": {},
     "execution_count": 24
    }
   ],
   "source": [
    "df.shape\n"
   ]
  },
  {
   "cell_type": "code",
   "execution_count": 25,
   "metadata": {},
   "outputs": [
    {
     "output_type": "stream",
     "name": "stdout",
     "text": [
      "<class 'pandas.core.frame.DataFrame'>\nRangeIndex: 180519 entries, 0 to 180518\nData columns (total 53 columns):\n #   Column                         Non-Null Count   Dtype  \n---  ------                         --------------   -----  \n 0   Type                           180519 non-null  object \n 1   Days for shipping (real)       180519 non-null  int64  \n 2   Days for shipment (scheduled)  180519 non-null  int64  \n 3   Benefit per order              180519 non-null  float64\n 4   Sales per customer             180519 non-null  float64\n 5   Delivery Status                180519 non-null  object \n 6   Late_delivery_risk             180519 non-null  int64  \n 7   Category Id                    180519 non-null  int64  \n 8   Category Name                  180519 non-null  object \n 9   Customer City                  180519 non-null  object \n 10  Customer Country               180519 non-null  object \n 11  Customer Email                 180519 non-null  object \n 12  Customer Fname                 180519 non-null  object \n 13  Customer Id                    180519 non-null  int64  \n 14  Customer Lname                 180511 non-null  object \n 15  Customer Password              180519 non-null  object \n 16  Customer Segment               180519 non-null  object \n 17  Customer State                 180519 non-null  object \n 18  Customer Street                180519 non-null  object \n 19  Customer Zipcode               180516 non-null  float64\n 20  Department Id                  180519 non-null  int64  \n 21  Department Name                180519 non-null  object \n 22  Latitude                       180519 non-null  float64\n 23  Longitude                      180519 non-null  float64\n 24  Market                         180519 non-null  object \n 25  Order City                     180519 non-null  object \n 26  Order Country                  180519 non-null  object \n 27  Order Customer Id              180519 non-null  int64  \n 28  order date (DateOrders)        180519 non-null  object \n 29  Order Id                       180519 non-null  int64  \n 30  Order Item Cardprod Id         180519 non-null  int64  \n 31  Order Item Discount            180519 non-null  float64\n 32  Order Item Discount Rate       180519 non-null  float64\n 33  Order Item Id                  180519 non-null  int64  \n 34  Order Item Product Price       180519 non-null  float64\n 35  Order Item Profit Ratio        180519 non-null  float64\n 36  Order Item Quantity            180519 non-null  int64  \n 37  Sales                          180519 non-null  float64\n 38  Order Item Total               180519 non-null  float64\n 39  Order Profit Per Order         180519 non-null  float64\n 40  Order Region                   180519 non-null  object \n 41  Order State                    180519 non-null  object \n 42  Order Status                   180519 non-null  object \n 43  Order Zipcode                  24840 non-null   float64\n 44  Product Card Id                180519 non-null  int64  \n 45  Product Category Id            180519 non-null  int64  \n 46  Product Description            0 non-null       float64\n 47  Product Image                  180519 non-null  object \n 48  Product Name                   180519 non-null  object \n 49  Product Price                  180519 non-null  float64\n 50  Product Status                 180519 non-null  int64  \n 51  shipping date (DateOrders)     180519 non-null  object \n 52  Shipping Mode                  180519 non-null  object \ndtypes: float64(15), int64(14), object(24)\nmemory usage: 73.0+ MB\n"
     ]
    }
   ],
   "source": [
    "df.info()"
   ]
  },
  {
   "cell_type": "code",
   "execution_count": 26,
   "metadata": {},
   "outputs": [
    {
     "output_type": "execute_result",
     "data": {
      "text/plain": [
       "Index(['Customer Lname', 'Customer Zipcode', 'Order Zipcode',\n",
       "       'Product Description'],\n",
       "      dtype='object')"
      ]
     },
     "metadata": {},
     "execution_count": 26
    }
   ],
   "source": [
    "df.columns[df.isnull().any()]"
   ]
  },
  {
   "cell_type": "code",
   "execution_count": 27,
   "metadata": {},
   "outputs": [],
   "source": [
    "#Excluindo colunas desnecessárias. \"inplace=True\" apaga do dataframe de trabalho.\n",
    "df.drop(columns=['Customer Lname'], inplace=True)"
   ]
  },
  {
   "cell_type": "code",
   "execution_count": 18,
   "metadata": {},
   "outputs": [
    {
     "output_type": "stream",
     "name": "stdout",
     "text": [
      "<class 'pandas.core.frame.DataFrame'>\nRangeIndex: 180519 entries, 0 to 180518\nData columns (total 52 columns):\n #   Column                         Non-Null Count   Dtype  \n---  ------                         --------------   -----  \n 0   Type                           180519 non-null  object \n 1   Days for shipping (real)       180519 non-null  int64  \n 2   Days for shipment (scheduled)  180519 non-null  int64  \n 3   Benefit per order              180519 non-null  float64\n 4   Sales per customer             180519 non-null  float64\n 5   Delivery Status                180519 non-null  object \n 6   Late_delivery_risk             180519 non-null  int64  \n 7   Category Id                    180519 non-null  int64  \n 8   Category Name                  180519 non-null  object \n 9   Customer City                  180519 non-null  object \n 10  Customer Country               180519 non-null  object \n 11  Customer Email                 180519 non-null  object \n 12  Customer Fname                 180519 non-null  object \n 13  Customer Id                    180519 non-null  int64  \n 14  Customer Password              180519 non-null  object \n 15  Customer Segment               180519 non-null  object \n 16  Customer State                 180519 non-null  object \n 17  Customer Street                180519 non-null  object \n 18  Customer Zipcode               180516 non-null  float64\n 19  Department Id                  180519 non-null  int64  \n 20  Department Name                180519 non-null  object \n 21  Latitude                       180519 non-null  float64\n 22  Longitude                      180519 non-null  float64\n 23  Market                         180519 non-null  object \n 24  Order City                     180519 non-null  object \n 25  Order Country                  180519 non-null  object \n 26  Order Customer Id              180519 non-null  int64  \n 27  order date (DateOrders)        180519 non-null  object \n 28  Order Id                       180519 non-null  int64  \n 29  Order Item Cardprod Id         180519 non-null  int64  \n 30  Order Item Discount            180519 non-null  float64\n 31  Order Item Discount Rate       180519 non-null  float64\n 32  Order Item Id                  180519 non-null  int64  \n 33  Order Item Product Price       180519 non-null  float64\n 34  Order Item Profit Ratio        180519 non-null  float64\n 35  Order Item Quantity            180519 non-null  int64  \n 36  Sales                          180519 non-null  float64\n 37  Order Item Total               180519 non-null  float64\n 38  Order Profit Per Order         180519 non-null  float64\n 39  Order Region                   180519 non-null  object \n 40  Order State                    180519 non-null  object \n 41  Order Status                   180519 non-null  object \n 42  Order Zipcode                  24840 non-null   float64\n 43  Product Card Id                180519 non-null  int64  \n 44  Product Category Id            180519 non-null  int64  \n 45  Product Description            0 non-null       float64\n 46  Product Image                  180519 non-null  object \n 47  Product Name                   180519 non-null  object \n 48  Product Price                  180519 non-null  float64\n 49  Product Status                 180519 non-null  int64  \n 50  shipping date (DateOrders)     180519 non-null  object \n 51  Shipping Mode                  180519 non-null  object \ndtypes: float64(15), int64(14), object(23)\nmemory usage: 71.6+ MB\n"
     ]
    }
   ],
   "source": [
    "df.info()\n"
   ]
  },
  {
   "cell_type": "code",
   "execution_count": null,
   "metadata": {},
   "outputs": [],
   "source": []
  }
 ],
 "metadata": {
  "kernelspec": {
   "display_name": "Python 3",
   "language": "python",
   "name": "python3"
  },
  "language_info": {
   "codemirror_mode": {
    "name": "ipython",
    "version": 3
   },
   "file_extension": ".py",
   "mimetype": "text/x-python",
   "name": "python",
   "nbconvert_exporter": "python",
   "pygments_lexer": "ipython3",
   "version": "3.8.5-final"
  }
 },
 "nbformat": 4,
 "nbformat_minor": 4
}